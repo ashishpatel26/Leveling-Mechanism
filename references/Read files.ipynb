{
 "cells": [
  {
   "cell_type": "markdown",
   "metadata": {
    "toc": "true"
   },
   "source": [
    " # Table of Contents\n",
    "<div class=\"toc\" style=\"margin-top: 1em;\"><ul class=\"toc-item\" id=\"toc-level0\"><li><span><a href=\"http://localhost:8889/notebooks/Read%20files.ipynb#Testing\" data-toc-modified-id=\"Testing-1\"><span class=\"toc-item-num\">1&nbsp;&nbsp;</span>Testing</a></span></li><li><span><a href=\"http://localhost:8889/notebooks/Read%20files.ipynb#Helpers\" data-toc-modified-id=\"Helpers-2\"><span class=\"toc-item-num\">2&nbsp;&nbsp;</span>Helpers</a></span></li><li><span><a href=\"http://localhost:8889/notebooks/Read%20files.ipynb#Files\" data-toc-modified-id=\"Files-3\"><span class=\"toc-item-num\">3&nbsp;&nbsp;</span>Files</a></span><ul class=\"toc-item\"><li><span><a href=\"http://localhost:8889/notebooks/Read%20files.ipynb#Labels\" data-toc-modified-id=\"Labels-3.1\"><span class=\"toc-item-num\">3.1&nbsp;&nbsp;</span>Labels</a></span></li><li><span><a href=\"http://localhost:8889/notebooks/Read%20files.ipynb#Category-labels\" data-toc-modified-id=\"Category-labels-3.2\"><span class=\"toc-item-num\">3.2&nbsp;&nbsp;</span>Category labels</a></span></li><li><span><a href=\"http://localhost:8889/notebooks/Read%20files.ipynb#Article-categories\" data-toc-modified-id=\"Article-categories-3.3\"><span class=\"toc-item-num\">3.3&nbsp;&nbsp;</span>Article categories</a></span></li><li><span><a href=\"http://localhost:8889/notebooks/Read%20files.ipynb#Topical-concepts\" data-toc-modified-id=\"Topical-concepts-3.4\"><span class=\"toc-item-num\">3.4&nbsp;&nbsp;</span>Topical concepts</a></span></li><li><span><a href=\"http://localhost:8889/notebooks/Read%20files.ipynb#Mapping-literals\" data-toc-modified-id=\"Mapping-literals-3.5\"><span class=\"toc-item-num\">3.5&nbsp;&nbsp;</span>Mapping literals</a></span></li><li><span><a href=\"http://localhost:8889/notebooks/Read%20files.ipynb#Mapping-objects\" data-toc-modified-id=\"Mapping-objects-3.6\"><span class=\"toc-item-num\">3.6&nbsp;&nbsp;</span>Mapping objects</a></span></li></ul></li><li><span><a href=\"http://localhost:8889/notebooks/Read%20files.ipynb#Infobox-properties-mapped\" data-toc-modified-id=\"Infobox-properties-mapped-4\"><span class=\"toc-item-num\">4&nbsp;&nbsp;</span>Infobox properties mapped</a></span></li><li><span><a href=\"http://localhost:8889/notebooks/Read%20files.ipynb#Page-links\" data-toc-modified-id=\"Page-links-5\"><span class=\"toc-item-num\">5&nbsp;&nbsp;</span>Page links</a></span></li><li><span><a href=\"http://localhost:8889/notebooks/Read%20files.ipynb#Instance-types\" data-toc-modified-id=\"Instance-types-6\"><span class=\"toc-item-num\">6&nbsp;&nbsp;</span>Instance types</a></span></li><li><span><a href=\"http://localhost:8889/notebooks/Read%20files.ipynb#Ideas-for-ml\" data-toc-modified-id=\"Ideas-for-ml-7\"><span class=\"toc-item-num\">7&nbsp;&nbsp;</span>Ideas for ml</a></span><ul class=\"toc-item\"><li><span><a href=\"http://localhost:8889/notebooks/Read%20files.ipynb#Get-tools-being-used-in-ML\" data-toc-modified-id=\"Get-tools-being-used-in-ML-7.1\"><span class=\"toc-item-num\">7.1&nbsp;&nbsp;</span>Get tools being used in ML</a></span></li><li><span><a href=\"http://localhost:8889/notebooks/Read%20files.ipynb#Get-concepts-with-ML\" data-toc-modified-id=\"Get-concepts-with-ML-7.2\"><span class=\"toc-item-num\">7.2&nbsp;&nbsp;</span>Get concepts with ML</a></span></li><li><span><a href=\"http://localhost:8889/notebooks/Read%20files.ipynb#Find-higher-related-concepts\" data-toc-modified-id=\"Find-higher-related-concepts-7.3\"><span class=\"toc-item-num\">7.3&nbsp;&nbsp;</span>Find higher related concepts</a></span></li><li><span><a href=\"http://localhost:8889/notebooks/Read%20files.ipynb#Page-links\" data-toc-modified-id=\"Page-links-7.4\"><span class=\"toc-item-num\">7.4&nbsp;&nbsp;</span>Page links</a></span></li></ul></li></ul></div>"
   ]
  },
  {
   "cell_type": "code",
   "execution_count": 2,
   "metadata": {},
   "outputs": [
    {
     "name": "stdout",
     "output_type": "stream",
     "text": [
      "Collecting rdflib\n",
      "  Downloading rdflib-4.2.2.tar.gz (905kB)\n",
      "\u001b[K    100% |████████████████████████████████| 911kB 7.9kB/s ta 0:00:01\n",
      "\u001b[?25hCollecting isodate (from rdflib)\n",
      "  Downloading isodate-0.6.0-py2.py3-none-any.whl (45kB)\n",
      "\u001b[K    100% |████████████████████████████████| 51kB 9.6kB/s ta 0:00:01\n",
      "\u001b[?25hRequirement already satisfied: pyparsing in /Users/kavitakanojiya/anaconda2/lib/python2.7/site-packages (from rdflib)\n",
      "Requirement already satisfied: six in /Users/kavitakanojiya/anaconda2/lib/python2.7/site-packages (from isodate->rdflib)\n",
      "Building wheels for collected packages: rdflib\n",
      "  Running setup.py bdist_wheel for rdflib ... \u001b[?25ldone\n",
      "\u001b[?25h  Stored in directory: /Users/kavitakanojiya/Library/Caches/pip/wheels/a3/b4/d6/fd8c885ff4bbb84ca5aaadfecb67a3cc23862550494a0cc577\n",
      "Successfully built rdflib\n",
      "Installing collected packages: isodate, rdflib\n",
      "Successfully installed isodate-0.6.0 rdflib-4.2.2\n"
     ]
    }
   ],
   "source": [
    "# !pip install rdflib"
   ]
  },
  {
   "cell_type": "code",
   "execution_count": 4,
   "metadata": {},
   "outputs": [
    {
     "ename": "ModuleNotFoundError",
     "evalue": "No module named 'rdflib'",
     "output_type": "error",
     "traceback": [
      "\u001b[0;31m---------------------------------------------------------------------------\u001b[0m",
      "\u001b[0;31mModuleNotFoundError\u001b[0m                       Traceback (most recent call last)",
      "\u001b[0;32m<ipython-input-4-348640ed59d5>\u001b[0m in \u001b[0;36m<module>\u001b[0;34m()\u001b[0m\n\u001b[1;32m      1\u001b[0m \u001b[0;32mfrom\u001b[0m \u001b[0mbz2\u001b[0m \u001b[0;32mimport\u001b[0m \u001b[0mBZ2File\u001b[0m \u001b[0;32mas\u001b[0m \u001b[0mbzopen\u001b[0m\u001b[0;34m\u001b[0m\u001b[0m\n\u001b[1;32m      2\u001b[0m \u001b[0;32mfrom\u001b[0m \u001b[0mtqdm\u001b[0m \u001b[0;32mimport\u001b[0m \u001b[0mtqdm\u001b[0m\u001b[0;34m\u001b[0m\u001b[0m\n\u001b[0;32m----> 3\u001b[0;31m \u001b[0;32mimport\u001b[0m \u001b[0mrdflib\u001b[0m\u001b[0;34m\u001b[0m\u001b[0m\n\u001b[0m",
      "\u001b[0;31mModuleNotFoundError\u001b[0m: No module named 'rdflib'"
     ]
    }
   ],
   "source": [
    "from bz2 import BZ2File as bzopen\n",
    "from tqdm import tqdm\n",
    "import rdflib\n"
   ]
  },
  {
   "cell_type": "markdown",
   "metadata": {},
   "source": [
    "## Testing"
   ]
  },
  {
   "cell_type": "code",
   "execution_count": 22,
   "metadata": {},
   "outputs": [
    {
     "name": "stderr",
     "output_type": "stream",
     "text": [
      "file:///Users/raahul/projects/edcasthomepage/notebooks/<http:/dbpedia.org/resource/AccessibleComputing> <http:/www.w3.org/2000/01/rdf-schema#label> \"AccessibleComputing\"@en <http://en.wikipedia.org/wiki/AccessibleComputing?oldid=631144794> .\n",
      " does not look like a valid URI, trying to serialize this will break.\n",
      "file:///Users/raahul/projects/edcasthomepage/notebooks/<http:/dbpedia.org/resource/AccessibleComputing> <http:/www.w3.org/2000/01/rdf-schema does not look like a valid URI, trying to serialize this will break.\n"
     ]
    },
    {
     "ename": "FileNotFoundError",
     "evalue": "[Errno 2] No such file or directory: '/Users/raahul/projects/edcasthomepage/notebooks/<http:/dbpedia.org/resource/AccessibleComputing> <http:/www.w3.org/2000/01/rdf-schema'",
     "output_type": "error",
     "traceback": [
      "\u001b[0;31m---------------------------------------------------------------------------\u001b[0m",
      "\u001b[0;31mFileNotFoundError\u001b[0m                         Traceback (most recent call last)",
      "\u001b[0;32m<ipython-input-22-61f7f46b8224>\u001b[0m in \u001b[0;36m<module>\u001b[0;34m()\u001b[0m\n\u001b[1;32m      1\u001b[0m \u001b[0mg\u001b[0m \u001b[0;34m=\u001b[0m \u001b[0mrdflib\u001b[0m\u001b[0;34m.\u001b[0m\u001b[0mGraph\u001b[0m\u001b[0;34m(\u001b[0m\u001b[0;34m)\u001b[0m\u001b[0;34m\u001b[0m\u001b[0m\n\u001b[0;32m----> 2\u001b[0;31m \u001b[0mresult\u001b[0m \u001b[0;34m=\u001b[0m \u001b[0mg\u001b[0m\u001b[0;34m.\u001b[0m\u001b[0mparse\u001b[0m\u001b[0;34m(\u001b[0m\u001b[0;34m'<http://dbpedia.org/resource/AccessibleComputing> <http://www.w3.org/2000/01/rdf-schema#label> \"AccessibleComputing\"@en <http://en.wikipedia.org/wiki/AccessibleComputing?oldid=631144794> .\\n'\u001b[0m\u001b[0;34m)\u001b[0m\u001b[0;34m\u001b[0m\u001b[0m\n\u001b[0m",
      "\u001b[0;32m~/anaconda/envs/edison/lib/python3.6/site-packages/rdflib/graph.py\u001b[0m in \u001b[0;36mparse\u001b[0;34m(self, source, publicID, format, location, file, data, **args)\u001b[0m\n\u001b[1;32m   1032\u001b[0m         source = create_input_source(source=source, publicID=publicID,\n\u001b[1;32m   1033\u001b[0m                                      \u001b[0mlocation\u001b[0m\u001b[0;34m=\u001b[0m\u001b[0mlocation\u001b[0m\u001b[0;34m,\u001b[0m \u001b[0mfile\u001b[0m\u001b[0;34m=\u001b[0m\u001b[0mfile\u001b[0m\u001b[0;34m,\u001b[0m\u001b[0;34m\u001b[0m\u001b[0m\n\u001b[0;32m-> 1034\u001b[0;31m                                      data=data, format=format)\n\u001b[0m\u001b[1;32m   1035\u001b[0m         \u001b[0;32mif\u001b[0m \u001b[0mformat\u001b[0m \u001b[0;32mis\u001b[0m \u001b[0;32mNone\u001b[0m\u001b[0;34m:\u001b[0m\u001b[0;34m\u001b[0m\u001b[0m\n\u001b[1;32m   1036\u001b[0m             \u001b[0mformat\u001b[0m \u001b[0;34m=\u001b[0m \u001b[0msource\u001b[0m\u001b[0;34m.\u001b[0m\u001b[0mcontent_type\u001b[0m\u001b[0;34m\u001b[0m\u001b[0m\n",
      "\u001b[0;32m~/anaconda/envs/edison/lib/python3.6/site-packages/rdflib/parser.py\u001b[0m in \u001b[0;36mcreate_input_source\u001b[0;34m(source, publicID, location, file, data, format)\u001b[0m\n\u001b[1;32m    182\u001b[0m         \u001b[0;32mif\u001b[0m \u001b[0mabsolute_location\u001b[0m\u001b[0;34m.\u001b[0m\u001b[0mstartswith\u001b[0m\u001b[0;34m(\u001b[0m\u001b[0;34m\"file:///\"\u001b[0m\u001b[0;34m)\u001b[0m\u001b[0;34m:\u001b[0m\u001b[0;34m\u001b[0m\u001b[0m\n\u001b[1;32m    183\u001b[0m             \u001b[0mfilename\u001b[0m \u001b[0;34m=\u001b[0m \u001b[0murl2pathname\u001b[0m\u001b[0;34m(\u001b[0m\u001b[0mabsolute_location\u001b[0m\u001b[0;34m.\u001b[0m\u001b[0mreplace\u001b[0m\u001b[0;34m(\u001b[0m\u001b[0;34m\"file:///\"\u001b[0m\u001b[0;34m,\u001b[0m \u001b[0;34m\"/\"\u001b[0m\u001b[0;34m)\u001b[0m\u001b[0;34m)\u001b[0m\u001b[0;34m\u001b[0m\u001b[0m\n\u001b[0;32m--> 184\u001b[0;31m             \u001b[0mfile\u001b[0m \u001b[0;34m=\u001b[0m \u001b[0mopen\u001b[0m\u001b[0;34m(\u001b[0m\u001b[0mfilename\u001b[0m\u001b[0;34m,\u001b[0m \u001b[0;34m\"rb\"\u001b[0m\u001b[0;34m)\u001b[0m\u001b[0;34m\u001b[0m\u001b[0m\n\u001b[0m\u001b[1;32m    185\u001b[0m         \u001b[0;32melse\u001b[0m\u001b[0;34m:\u001b[0m\u001b[0;34m\u001b[0m\u001b[0m\n\u001b[1;32m    186\u001b[0m             \u001b[0minput_source\u001b[0m \u001b[0;34m=\u001b[0m \u001b[0mURLInputSource\u001b[0m\u001b[0;34m(\u001b[0m\u001b[0mabsolute_location\u001b[0m\u001b[0;34m,\u001b[0m \u001b[0mformat\u001b[0m\u001b[0;34m)\u001b[0m\u001b[0;34m\u001b[0m\u001b[0m\n",
      "\u001b[0;31mFileNotFoundError\u001b[0m: [Errno 2] No such file or directory: '/Users/raahul/projects/edcasthomepage/notebooks/<http:/dbpedia.org/resource/AccessibleComputing> <http:/www.w3.org/2000/01/rdf-schema'"
     ]
    }
   ],
   "source": [
    "g = rdflib.Graph()\n",
    "result = g.parse('<http://dbpedia.org/resource/AccessibleComputing> <http://www.w3.org/2000/01/rdf-schema#label> \"AccessibleComputing\"@en <http://en.wikipedia.org/wiki/AccessibleComputing?oldid=631144794> .\\n')"
   ]
  },
  {
   "cell_type": "markdown",
   "metadata": {},
   "source": [
    "## Helpers"
   ]
  },
  {
   "cell_type": "code",
   "execution_count": 5,
   "metadata": {},
   "outputs": [],
   "source": [
    "def preview_file(filename, lines=10):\n",
    "    with bzopen(filename, 'r') as file:\n",
    "        i = 0\n",
    "        for line in file:\n",
    "            print(line)\n",
    "            i += 1\n",
    "            if i > lines:\n",
    "                break"
   ]
  },
  {
   "cell_type": "code",
   "execution_count": 14,
   "metadata": {},
   "outputs": [],
   "source": [
    "def search_file(filename, search_text):\n",
    "    with bzopen(filename, 'r') as file:\n",
    "        for line in tqdm(file):\n",
    "            if search_text in str(line):\n",
    "                print(line)"
   ]
  },
  {
   "cell_type": "markdown",
   "metadata": {},
   "source": [
    "## Files\n",
    "\n",
    "### Labels\n",
    "\n",
    "For every dbpedia resource, get the label. Not very helpful because it doesn't seem to have spaces. But it does give us a list of things we can search for."
   ]
  },
  {
   "cell_type": "code",
   "execution_count": 6,
   "metadata": {},
   "outputs": [
    {
     "name": "stdout",
     "output_type": "stream",
     "text": [
      "b'# started 2017-03-14T08:38:43Z\\n'\n",
      "b'<http://dbpedia.org/resource/AccessibleComputing> <http://www.w3.org/2000/01/rdf-schema#label> \"AccessibleComputing\"@en <http://en.wikipedia.org/wiki/AccessibleComputing?oldid=631144794> .\\n'\n",
      "b'<http://dbpedia.org/resource/AfghanistanHistory> <http://www.w3.org/2000/01/rdf-schema#label> \"AfghanistanHistory\"@en <http://en.wikipedia.org/wiki/AfghanistanHistory?oldid=74466652> .\\n'\n",
      "b'<http://dbpedia.org/resource/AfghanistanGeography> <http://www.w3.org/2000/01/rdf-schema#label> \"AfghanistanGeography\"@en <http://en.wikipedia.org/wiki/AfghanistanGeography?oldid=407008307> .\\n'\n",
      "b'<http://dbpedia.org/resource/AfghanistanPeople> <http://www.w3.org/2000/01/rdf-schema#label> \"AfghanistanPeople\"@en <http://en.wikipedia.org/wiki/AfghanistanPeople?oldid=616420354> .\\n'\n",
      "b'<http://dbpedia.org/resource/AfghanistanCommunications> <http://www.w3.org/2000/01/rdf-schema#label> \"AfghanistanCommunications\"@en <http://en.wikipedia.org/wiki/AfghanistanCommunications?oldid=74466499> .\\n'\n",
      "b'<http://dbpedia.org/resource/AfghanistanTransportations> <http://www.w3.org/2000/01/rdf-schema#label> \"AfghanistanTransportations\"@en <http://en.wikipedia.org/wiki/AfghanistanTransportations?oldid=409266982> .\\n'\n",
      "b'<http://dbpedia.org/resource/AfghanistanMilitary> <http://www.w3.org/2000/01/rdf-schema#label> \"AfghanistanMilitary\"@en <http://en.wikipedia.org/wiki/AfghanistanMilitary?oldid=558328133> .\\n'\n",
      "b'<http://dbpedia.org/resource/AfghanistanTransnationalIssues> <http://www.w3.org/2000/01/rdf-schema#label> \"AfghanistanTransnationalIssues\"@en <http://en.wikipedia.org/wiki/AfghanistanTransnationalIssues?oldid=46448859> .\\n'\n",
      "b'<http://dbpedia.org/resource/AssistiveTechnology> <http://www.w3.org/2000/01/rdf-schema#label> \"AssistiveTechnology\"@en <http://en.wikipedia.org/wiki/AssistiveTechnology?oldid=74466798> .\\n'\n",
      "b'<http://dbpedia.org/resource/AmoeboidTaxa> <http://www.w3.org/2000/01/rdf-schema#label> \"AmoeboidTaxa\"@en <http://en.wikipedia.org/wiki/AmoeboidTaxa?oldid=627604809> .\\n'\n"
     ]
    }
   ],
   "source": [
    "preview_file('../labels_en.tql.bz2')"
   ]
  },
  {
   "cell_type": "code",
   "execution_count": 31,
   "metadata": {},
   "outputs": [
    {
     "name": "stderr",
     "output_type": "stream",
     "text": [
      "176634it [00:01, 90033.59it/s]"
     ]
    },
    {
     "name": "stdout",
     "output_type": "stream",
     "text": [
      "b'<http://dbpedia.org/resource/Machine_learning> <http://www.w3.org/2000/01/rdf-schema#label> \"Machine learning\"@en <http://en.wikipedia.org/wiki/Machine_learning?oldid=744362260> .\\n'\n"
     ]
    },
    {
     "name": "stderr",
     "output_type": "stream",
     "text": [
      "1566940it [00:17, 91008.36it/s]"
     ]
    },
    {
     "name": "stdout",
     "output_type": "stream",
     "text": [
      "b'<http://dbpedia.org/resource/Machine_learning_algorithm> <http://www.w3.org/2000/01/rdf-schema#label> \"Machine learning algorithm\"@en <http://en.wikipedia.org/wiki/Machine_learning_algorithm?oldid=32922223> .\\n'\n"
     ]
    },
    {
     "name": "stderr",
     "output_type": "stream",
     "text": [
      "6118770it [01:06, 91466.08it/s]"
     ]
    },
    {
     "name": "stdout",
     "output_type": "stream",
     "text": [
      "b'<http://dbpedia.org/resource/Machine_learning_algorithms> <http://www.w3.org/2000/01/rdf-schema#label> \"Machine learning algorithms\"@en <http://en.wikipedia.org/wiki/Machine_learning_algorithms?oldid=632311810> .\\n'\n"
     ]
    },
    {
     "name": "stderr",
     "output_type": "stream",
     "text": [
      "6223208it [01:08, 91453.33it/s]"
     ]
    },
    {
     "name": "stdout",
     "output_type": "stream",
     "text": [
      "b'<http://dbpedia.org/resource/Uniform_Convergence_(Machine_learning)> <http://www.w3.org/2000/01/rdf-schema#label> \"Uniform Convergence (Machine learning)\"@en <http://en.wikipedia.org/wiki/Uniform_Convergence_(Machine_learning)?oldid=293055712> .\\n'\n"
     ]
    },
    {
     "name": "stderr",
     "output_type": "stream",
     "text": [
      "6585755it [01:12, 91215.67it/s]"
     ]
    },
    {
     "name": "stdout",
     "output_type": "stream",
     "text": [
      "b'<http://dbpedia.org/resource/Machine_learning_ensemble> <http://www.w3.org/2000/01/rdf-schema#label> \"Machine learning ensemble\"@en <http://en.wikipedia.org/wiki/Machine_learning_ensemble?oldid=313025745> .\\n'\n"
     ]
    },
    {
     "name": "stderr",
     "output_type": "stream",
     "text": [
      "6856822it [01:15, 91016.49it/s]"
     ]
    },
    {
     "ename": "KeyboardInterrupt",
     "evalue": "",
     "output_type": "error",
     "traceback": [
      "\u001b[0;31m---------------------------------------------------------------------------\u001b[0m",
      "\u001b[0;31mKeyboardInterrupt\u001b[0m                         Traceback (most recent call last)",
      "\u001b[0;32m<ipython-input-31-384c0d12c9e5>\u001b[0m in \u001b[0;36m<module>\u001b[0;34m()\u001b[0m\n\u001b[0;32m----> 1\u001b[0;31m \u001b[0msearch_file\u001b[0m\u001b[0;34m(\u001b[0m\u001b[0;34m'../labels_en.tql.bz2'\u001b[0m\u001b[0;34m,\u001b[0m \u001b[0;34m'Machine_learning'\u001b[0m\u001b[0;34m)\u001b[0m\u001b[0;34m\u001b[0m\u001b[0m\n\u001b[0m",
      "\u001b[0;32m<ipython-input-14-37786053eb1a>\u001b[0m in \u001b[0;36msearch_file\u001b[0;34m(filename, search_text)\u001b[0m\n\u001b[1;32m      1\u001b[0m \u001b[0;32mdef\u001b[0m \u001b[0msearch_file\u001b[0m\u001b[0;34m(\u001b[0m\u001b[0mfilename\u001b[0m\u001b[0;34m,\u001b[0m \u001b[0msearch_text\u001b[0m\u001b[0;34m)\u001b[0m\u001b[0;34m:\u001b[0m\u001b[0;34m\u001b[0m\u001b[0m\n\u001b[1;32m      2\u001b[0m     \u001b[0;32mwith\u001b[0m \u001b[0mbzopen\u001b[0m\u001b[0;34m(\u001b[0m\u001b[0mfilename\u001b[0m\u001b[0;34m,\u001b[0m \u001b[0;34m'r'\u001b[0m\u001b[0;34m)\u001b[0m \u001b[0;32mas\u001b[0m \u001b[0mfile\u001b[0m\u001b[0;34m:\u001b[0m\u001b[0;34m\u001b[0m\u001b[0m\n\u001b[0;32m----> 3\u001b[0;31m         \u001b[0;32mfor\u001b[0m \u001b[0mline\u001b[0m \u001b[0;32min\u001b[0m \u001b[0mtqdm\u001b[0m\u001b[0;34m(\u001b[0m\u001b[0mfile\u001b[0m\u001b[0;34m)\u001b[0m\u001b[0;34m:\u001b[0m\u001b[0;34m\u001b[0m\u001b[0m\n\u001b[0m\u001b[1;32m      4\u001b[0m             \u001b[0;32mif\u001b[0m \u001b[0msearch_text\u001b[0m \u001b[0;32min\u001b[0m \u001b[0mstr\u001b[0m\u001b[0;34m(\u001b[0m\u001b[0mline\u001b[0m\u001b[0;34m)\u001b[0m\u001b[0;34m:\u001b[0m\u001b[0;34m\u001b[0m\u001b[0m\n\u001b[1;32m      5\u001b[0m                 \u001b[0mprint\u001b[0m\u001b[0;34m(\u001b[0m\u001b[0mline\u001b[0m\u001b[0;34m)\u001b[0m\u001b[0;34m\u001b[0m\u001b[0m\n",
      "\u001b[0;32m~/anaconda/envs/edison/lib/python3.6/site-packages/tqdm/_tqdm.py\u001b[0m in \u001b[0;36m__iter__\u001b[0;34m(self)\u001b[0m\n\u001b[1;32m    951\u001b[0m \"\"\", fp_write=getattr(self.fp, 'write', sys.stderr.write))\n\u001b[1;32m    952\u001b[0m \u001b[0;34m\u001b[0m\u001b[0m\n\u001b[0;32m--> 953\u001b[0;31m             \u001b[0;32mfor\u001b[0m \u001b[0mobj\u001b[0m \u001b[0;32min\u001b[0m \u001b[0miterable\u001b[0m\u001b[0;34m:\u001b[0m\u001b[0;34m\u001b[0m\u001b[0m\n\u001b[0m\u001b[1;32m    954\u001b[0m                 \u001b[0;32myield\u001b[0m \u001b[0mobj\u001b[0m\u001b[0;34m\u001b[0m\u001b[0m\n\u001b[1;32m    955\u001b[0m                 \u001b[0;31m# Update and possibly print the progressbar.\u001b[0m\u001b[0;34m\u001b[0m\u001b[0;34m\u001b[0m\u001b[0m\n",
      "\u001b[0;32m~/anaconda/envs/edison/lib/python3.6/bz2.py\u001b[0m in \u001b[0;36mreadline\u001b[0;34m(self, size)\u001b[0m\n\u001b[1;32m    217\u001b[0m         \u001b[0;32mwith\u001b[0m \u001b[0mself\u001b[0m\u001b[0;34m.\u001b[0m\u001b[0m_lock\u001b[0m\u001b[0;34m:\u001b[0m\u001b[0;34m\u001b[0m\u001b[0m\n\u001b[1;32m    218\u001b[0m             \u001b[0mself\u001b[0m\u001b[0;34m.\u001b[0m\u001b[0m_check_can_read\u001b[0m\u001b[0;34m(\u001b[0m\u001b[0;34m)\u001b[0m\u001b[0;34m\u001b[0m\u001b[0m\n\u001b[0;32m--> 219\u001b[0;31m             \u001b[0;32mreturn\u001b[0m \u001b[0mself\u001b[0m\u001b[0;34m.\u001b[0m\u001b[0m_buffer\u001b[0m\u001b[0;34m.\u001b[0m\u001b[0mreadline\u001b[0m\u001b[0;34m(\u001b[0m\u001b[0msize\u001b[0m\u001b[0;34m)\u001b[0m\u001b[0;34m\u001b[0m\u001b[0m\n\u001b[0m\u001b[1;32m    220\u001b[0m \u001b[0;34m\u001b[0m\u001b[0m\n\u001b[1;32m    221\u001b[0m     \u001b[0;32mdef\u001b[0m \u001b[0mreadlines\u001b[0m\u001b[0;34m(\u001b[0m\u001b[0mself\u001b[0m\u001b[0;34m,\u001b[0m \u001b[0msize\u001b[0m\u001b[0;34m=\u001b[0m\u001b[0;34m-\u001b[0m\u001b[0;36m1\u001b[0m\u001b[0;34m)\u001b[0m\u001b[0;34m:\u001b[0m\u001b[0;34m\u001b[0m\u001b[0m\n",
      "\u001b[0;32m~/anaconda/envs/edison/lib/python3.6/_compression.py\u001b[0m in \u001b[0;36mreadinto\u001b[0;34m(self, b)\u001b[0m\n\u001b[1;32m     66\u001b[0m     \u001b[0;32mdef\u001b[0m \u001b[0mreadinto\u001b[0m\u001b[0;34m(\u001b[0m\u001b[0mself\u001b[0m\u001b[0;34m,\u001b[0m \u001b[0mb\u001b[0m\u001b[0;34m)\u001b[0m\u001b[0;34m:\u001b[0m\u001b[0;34m\u001b[0m\u001b[0m\n\u001b[1;32m     67\u001b[0m         \u001b[0;32mwith\u001b[0m \u001b[0mmemoryview\u001b[0m\u001b[0;34m(\u001b[0m\u001b[0mb\u001b[0m\u001b[0;34m)\u001b[0m \u001b[0;32mas\u001b[0m \u001b[0mview\u001b[0m\u001b[0;34m,\u001b[0m \u001b[0mview\u001b[0m\u001b[0;34m.\u001b[0m\u001b[0mcast\u001b[0m\u001b[0;34m(\u001b[0m\u001b[0;34m\"B\"\u001b[0m\u001b[0;34m)\u001b[0m \u001b[0;32mas\u001b[0m \u001b[0mbyte_view\u001b[0m\u001b[0;34m:\u001b[0m\u001b[0;34m\u001b[0m\u001b[0m\n\u001b[0;32m---> 68\u001b[0;31m             \u001b[0mdata\u001b[0m \u001b[0;34m=\u001b[0m \u001b[0mself\u001b[0m\u001b[0;34m.\u001b[0m\u001b[0mread\u001b[0m\u001b[0;34m(\u001b[0m\u001b[0mlen\u001b[0m\u001b[0;34m(\u001b[0m\u001b[0mbyte_view\u001b[0m\u001b[0;34m)\u001b[0m\u001b[0;34m)\u001b[0m\u001b[0;34m\u001b[0m\u001b[0m\n\u001b[0m\u001b[1;32m     69\u001b[0m             \u001b[0mbyte_view\u001b[0m\u001b[0;34m[\u001b[0m\u001b[0;34m:\u001b[0m\u001b[0mlen\u001b[0m\u001b[0;34m(\u001b[0m\u001b[0mdata\u001b[0m\u001b[0;34m)\u001b[0m\u001b[0;34m]\u001b[0m \u001b[0;34m=\u001b[0m \u001b[0mdata\u001b[0m\u001b[0;34m\u001b[0m\u001b[0m\n\u001b[1;32m     70\u001b[0m         \u001b[0;32mreturn\u001b[0m \u001b[0mlen\u001b[0m\u001b[0;34m(\u001b[0m\u001b[0mdata\u001b[0m\u001b[0;34m)\u001b[0m\u001b[0;34m\u001b[0m\u001b[0m\n",
      "\u001b[0;32m~/anaconda/envs/edison/lib/python3.6/_compression.py\u001b[0m in \u001b[0;36mread\u001b[0;34m(self, size)\u001b[0m\n\u001b[1;32m    101\u001b[0m                 \u001b[0;32melse\u001b[0m\u001b[0;34m:\u001b[0m\u001b[0;34m\u001b[0m\u001b[0m\n\u001b[1;32m    102\u001b[0m                     \u001b[0mrawblock\u001b[0m \u001b[0;34m=\u001b[0m \u001b[0;34mb\"\"\u001b[0m\u001b[0;34m\u001b[0m\u001b[0m\n\u001b[0;32m--> 103\u001b[0;31m                 \u001b[0mdata\u001b[0m \u001b[0;34m=\u001b[0m \u001b[0mself\u001b[0m\u001b[0;34m.\u001b[0m\u001b[0m_decompressor\u001b[0m\u001b[0;34m.\u001b[0m\u001b[0mdecompress\u001b[0m\u001b[0;34m(\u001b[0m\u001b[0mrawblock\u001b[0m\u001b[0;34m,\u001b[0m \u001b[0msize\u001b[0m\u001b[0;34m)\u001b[0m\u001b[0;34m\u001b[0m\u001b[0m\n\u001b[0m\u001b[1;32m    104\u001b[0m             \u001b[0;32mif\u001b[0m \u001b[0mdata\u001b[0m\u001b[0;34m:\u001b[0m\u001b[0;34m\u001b[0m\u001b[0m\n\u001b[1;32m    105\u001b[0m                 \u001b[0;32mbreak\u001b[0m\u001b[0;34m\u001b[0m\u001b[0m\n",
      "\u001b[0;31mKeyboardInterrupt\u001b[0m: "
     ]
    },
    {
     "name": "stderr",
     "output_type": "stream",
     "text": [
      "\r",
      "6856822it [01:30, 76162.66it/s]"
     ]
    }
   ],
   "source": [
    "search_file('../labels_en.tql.bz2', 'Machine_learning')"
   ]
  },
  {
   "cell_type": "markdown",
   "metadata": {},
   "source": [
    "### Category labels\n",
    "\n",
    "Labels for categories. Useful because it seems to be space separated."
   ]
  },
  {
   "cell_type": "code",
   "execution_count": 7,
   "metadata": {},
   "outputs": [
    {
     "name": "stdout",
     "output_type": "stream",
     "text": [
      "b'# started 2017-03-14T08:38:43Z\\n'\n",
      "b'<http://dbpedia.org/resource/Category:Futurama> <http://www.w3.org/2000/01/rdf-schema#label> \"Futurama\"@en <http://en.wikipedia.org/wiki/Category:Futurama?oldid=736823570> .\\n'\n",
      "b'<http://dbpedia.org/resource/Category:World_War_II> <http://www.w3.org/2000/01/rdf-schema#label> \"World War II\"@en <http://en.wikipedia.org/wiki/Category:World_War_II?oldid=729127213> .\\n'\n",
      "b'<http://dbpedia.org/resource/Category:Programming_languages> <http://www.w3.org/2000/01/rdf-schema#label> \"Programming languages\"@en <http://en.wikipedia.org/wiki/Category:Programming_languages?oldid=681143028> .\\n'\n",
      "b'<http://dbpedia.org/resource/Category:Professional_wrestling> <http://www.w3.org/2000/01/rdf-schema#label> \"Professional wrestling\"@en <http://en.wikipedia.org/wiki/Category:Professional_wrestling?oldid=682132719> .\\n'\n",
      "b'<http://dbpedia.org/resource/Category:Algebra> <http://www.w3.org/2000/01/rdf-schema#label> \"Algebra\"@en <http://en.wikipedia.org/wiki/Category:Algebra?oldid=731687746> .\\n'\n",
      "b'<http://dbpedia.org/resource/Category:Anime> <http://www.w3.org/2000/01/rdf-schema#label> \"Anime\"@en <http://en.wikipedia.org/wiki/Category:Anime?oldid=726314466> .\\n'\n",
      "b'<http://dbpedia.org/resource/Category:Abstract_algebra> <http://www.w3.org/2000/01/rdf-schema#label> \"Abstract algebra\"@en <http://en.wikipedia.org/wiki/Category:Abstract_algebra?oldid=543792865> .\\n'\n",
      "b'<http://dbpedia.org/resource/Category:Mathematics> <http://www.w3.org/2000/01/rdf-schema#label> \"Mathematics\"@en <http://en.wikipedia.org/wiki/Category:Mathematics?oldid=740516417> .\\n'\n",
      "b'<http://dbpedia.org/resource/Category:Linear_algebra> <http://www.w3.org/2000/01/rdf-schema#label> \"Linear algebra\"@en <http://en.wikipedia.org/wiki/Category:Linear_algebra?oldid=546386556> .\\n'\n",
      "b'<http://dbpedia.org/resource/Category:Calculus> <http://www.w3.org/2000/01/rdf-schema#label> \"Calculus\"@en <http://en.wikipedia.org/wiki/Category:Calculus?oldid=547808809> .\\n'\n"
     ]
    }
   ],
   "source": [
    "preview_file('../category_labels_en.tql.bz2')"
   ]
  },
  {
   "cell_type": "code",
   "execution_count": 15,
   "metadata": {},
   "outputs": [
    {
     "name": "stderr",
     "output_type": "stream",
     "text": [
      "19320it [00:00, 93317.96it/s]"
     ]
    },
    {
     "name": "stdout",
     "output_type": "stream",
     "text": [
      "b'<http://dbpedia.org/resource/Category:Machine_learning> <http://www.w3.org/2000/01/rdf-schema#label> \"Machine learning\"@en <http://en.wikipedia.org/wiki/Category:Machine_learning?oldid=548447226> .\\n'\n"
     ]
    },
    {
     "name": "stderr",
     "output_type": "stream",
     "text": [
      "81847it [00:00, 90073.79it/s]"
     ]
    },
    {
     "name": "stdout",
     "output_type": "stream",
     "text": [
      "b'<http://dbpedia.org/resource/Category:Machine_learning_researchers> <http://www.w3.org/2000/01/rdf-schema#label> \"Machine learning researchers\"@en <http://en.wikipedia.org/wiki/Category:Machine_learning_researchers?oldid=557550024> .\\n'\n"
     ]
    },
    {
     "name": "stderr",
     "output_type": "stream",
     "text": [
      "723979it [00:09, 79503.82it/s]"
     ]
    },
    {
     "name": "stdout",
     "output_type": "stream",
     "text": [
      "b'<http://dbpedia.org/resource/Category:Machine_learning_algorithms> <http://www.w3.org/2000/01/rdf-schema#label> \"Machine learning algorithms\"@en <http://en.wikipedia.org/wiki/Category:Machine_learning_algorithms?oldid=675167466> .\\n'\n"
     ]
    },
    {
     "name": "stderr",
     "output_type": "stream",
     "text": [
      "1185149it [00:14, 81158.70it/s]"
     ]
    },
    {
     "name": "stdout",
     "output_type": "stream",
     "text": [
      "b'<http://dbpedia.org/resource/Category:Machine_learning_portal> <http://www.w3.org/2000/01/rdf-schema#label> \"Machine learning portal\"@en <http://en.wikipedia.org/wiki/Category:Machine_learning_portal?oldid=640998008> .\\n'\n"
     ]
    },
    {
     "name": "stderr",
     "output_type": "stream",
     "text": [
      "1311892it [00:16, 81768.54it/s]"
     ]
    },
    {
     "name": "stdout",
     "output_type": "stream",
     "text": [
      "b'<http://dbpedia.org/resource/Category:Machine_learning_task> <http://www.w3.org/2000/01/rdf-schema#label> \"Machine learning task\"@en <http://en.wikipedia.org/wiki/Category:Machine_learning_task?oldid=683599642> .\\n'\n"
     ]
    },
    {
     "name": "stderr",
     "output_type": "stream",
     "text": [
      "1475017it [00:17, 82344.85it/s]\n"
     ]
    }
   ],
   "source": [
    "search_file('../category_labels_en.tql.bz2', 'Machine_learning')"
   ]
  },
  {
   "cell_type": "markdown",
   "metadata": {},
   "source": [
    "### Article categories\n",
    "\n",
    "Given an article, tells us its category."
   ]
  },
  {
   "cell_type": "code",
   "execution_count": 8,
   "metadata": {},
   "outputs": [
    {
     "name": "stdout",
     "output_type": "stream",
     "text": [
      "b'# started 2017-03-14T08:38:43Z\\n'\n",
      "b'<http://dbpedia.org/resource/A> <http://purl.org/dc/terms/subject> <http://dbpedia.org/resource/Category:ISO_basic_Latin_letters> .\\n'\n",
      "b'<http://dbpedia.org/resource/A> <http://purl.org/dc/terms/subject> <http://dbpedia.org/resource/Category:Vowel_letters> .\\n'\n",
      "b'<http://dbpedia.org/resource/Achilles> <http://purl.org/dc/terms/subject> <http://dbpedia.org/resource/Category:Characters_in_the_Iliad> .\\n'\n",
      "b'<http://dbpedia.org/resource/Achilles> <http://purl.org/dc/terms/subject> <http://dbpedia.org/resource/Category:Demigods_of_Classical_mythology> .\\n'\n",
      "b'<http://dbpedia.org/resource/Achilles> <http://purl.org/dc/terms/subject> <http://dbpedia.org/resource/Category:Kings_of_the_Myrmidons> .\\n'\n",
      "b'<http://dbpedia.org/resource/Achilles> <http://purl.org/dc/terms/subject> <http://dbpedia.org/resource/Category:Greek_mythological_hero_cult> .\\n'\n",
      "b'<http://dbpedia.org/resource/Achilles> <http://purl.org/dc/terms/subject> <http://dbpedia.org/resource/Category:People_of_the_Trojan_War> .\\n'\n",
      "b'<http://dbpedia.org/resource/Achilles> <http://purl.org/dc/terms/subject> <http://dbpedia.org/resource/Category:Thessalians_in_the_Trojan_War> .\\n'\n",
      "b'<http://dbpedia.org/resource/Actrius> <http://purl.org/dc/terms/subject> <http://dbpedia.org/resource/Category:1997_films> .\\n'\n",
      "b'<http://dbpedia.org/resource/Actrius> <http://purl.org/dc/terms/subject> <http://dbpedia.org/resource/Category:1990s_drama_films> .\\n'\n"
     ]
    }
   ],
   "source": [
    "preview_file('../article_categories_en.ttl.bz2')"
   ]
  },
  {
   "cell_type": "code",
   "execution_count": 17,
   "metadata": {},
   "outputs": [
    {
     "name": "stderr",
     "output_type": "stream",
     "text": [
      "98349it [00:00, 122814.52it/s]"
     ]
    },
    {
     "name": "stdout",
     "output_type": "stream",
     "text": [
      "b'<http://dbpedia.org/resource/Supervised_learning> <http://purl.org/dc/terms/subject> <http://dbpedia.org/resource/Category:Machine_learning> .\\n'\n"
     ]
    },
    {
     "name": "stderr",
     "output_type": "stream",
     "text": [
      "412019it [00:03, 123861.21it/s]"
     ]
    },
    {
     "name": "stdout",
     "output_type": "stream",
     "text": [
      "b'<http://dbpedia.org/resource/Pattern_recognition> <http://purl.org/dc/terms/subject> <http://dbpedia.org/resource/Category:Machine_learning> .\\n'\n"
     ]
    },
    {
     "name": "stderr",
     "output_type": "stream",
     "text": [
      "547270it [00:04, 122698.17it/s]"
     ]
    },
    {
     "name": "stdout",
     "output_type": "stream",
     "text": [
      "b'<http://dbpedia.org/resource/Overfitting> <http://purl.org/dc/terms/subject> <http://dbpedia.org/resource/Category:Machine_learning> .\\n'\n",
      "b'<http://dbpedia.org/resource/Inductive_bias> <http://purl.org/dc/terms/subject> <http://dbpedia.org/resource/Category:Machine_learning> .\\n'\n"
     ]
    },
    {
     "name": "stderr",
     "output_type": "stream",
     "text": [
      "631138it [00:05, 121795.82it/s]"
     ]
    },
    {
     "name": "stdout",
     "output_type": "stream",
     "text": [
      "b'<http://dbpedia.org/resource/Binary_classification> <http://purl.org/dc/terms/subject> <http://dbpedia.org/resource/Category:Machine_learning> .\\n'\n",
      "b'<http://dbpedia.org/resource/Early_stopping> <http://purl.org/dc/terms/subject> <http://dbpedia.org/resource/Category:Machine_learning> .\\n'\n"
     ]
    },
    {
     "name": "stderr",
     "output_type": "stream",
     "text": [
      "693036it [00:05, 121746.14it/s]"
     ]
    },
    {
     "name": "stdout",
     "output_type": "stream",
     "text": [
      "b'<http://dbpedia.org/resource/Machine_learning> <http://purl.org/dc/terms/subject> <http://dbpedia.org/resource/Category:Machine_learning> .\\n'\n",
      "b'<http://dbpedia.org/resource/Machine_learning> <http://purl.org/dc/terms/subject> <http://dbpedia.org/resource/Category:Learning> .\\n'\n",
      "b'<http://dbpedia.org/resource/Machine_learning> <http://purl.org/dc/terms/subject> <http://dbpedia.org/resource/Category:Cybernetics> .\\n'\n",
      "b'<http://dbpedia.org/resource/Unsupervised_learning> <http://purl.org/dc/terms/subject> <http://dbpedia.org/resource/Category:Machine_learning> .\\n'\n"
     ]
    },
    {
     "name": "stderr",
     "output_type": "stream",
     "text": [
      "851274it [00:07, 121420.72it/s]"
     ]
    },
    {
     "name": "stdout",
     "output_type": "stream",
     "text": [
      "b'<http://dbpedia.org/resource/Formal_concept_analysis> <http://purl.org/dc/terms/subject> <http://dbpedia.org/resource/Category:Machine_learning> .\\n'\n"
     ]
    },
    {
     "name": "stderr",
     "output_type": "stream",
     "text": [
      "1006707it [00:08, 120667.98it/s]"
     ]
    },
    {
     "name": "stdout",
     "output_type": "stream",
     "text": [
      "b'<http://dbpedia.org/resource/Computational_learning_theory> <http://purl.org/dc/terms/subject> <http://dbpedia.org/resource/Category:Machine_learning> .\\n'\n"
     ]
    },
    {
     "name": "stderr",
     "output_type": "stream",
     "text": [
      "1041094it [00:08, 120329.37it/s]"
     ]
    },
    {
     "name": "stdout",
     "output_type": "stream",
     "text": [
      "b\"<http://dbpedia.org/resource/Solomonoff's_theory_of_inductive_inference> <http://purl.org/dc/terms/subject> <http://dbpedia.org/resource/Category:Machine_learning> .\\n\"\n"
     ]
    },
    {
     "name": "stderr",
     "output_type": "stream",
     "text": [
      "1064604it [00:08, 120266.25it/s]"
     ]
    },
    {
     "name": "stdout",
     "output_type": "stream",
     "text": [
      "b'<http://dbpedia.org/resource/Cross-validation_(statistics)> <http://purl.org/dc/terms/subject> <http://dbpedia.org/resource/Category:Machine_learning> .\\n'\n"
     ]
    },
    {
     "name": "stderr",
     "output_type": "stream",
     "text": [
      "1173506it [00:09, 119887.48it/s]"
     ]
    },
    {
     "name": "stdout",
     "output_type": "stream",
     "text": [
      "b'<http://dbpedia.org/resource/Instantaneously_trained_neural_networks> <http://purl.org/dc/terms/subject> <http://dbpedia.org/resource/Category:Machine_learning> .\\n'\n"
     ]
    },
    {
     "name": "stderr",
     "output_type": "stream",
     "text": [
      "1258311it [00:10, 119860.40it/s]"
     ]
    },
    {
     "name": "stdout",
     "output_type": "stream",
     "text": [
      "b'<http://dbpedia.org/resource/Linear_separability> <http://purl.org/dc/terms/subject> <http://dbpedia.org/resource/Category:Machine_learning> .\\n'\n"
     ]
    },
    {
     "name": "stderr",
     "output_type": "stream",
     "text": [
      "1343165it [00:11, 119573.04it/s]"
     ]
    },
    {
     "name": "stdout",
     "output_type": "stream",
     "text": [
      "b'<http://dbpedia.org/resource/Dimensionality_reduction> <http://purl.org/dc/terms/subject> <http://dbpedia.org/resource/Category:Machine_learning> .\\n'\n"
     ]
    },
    {
     "name": "stderr",
     "output_type": "stream",
     "text": [
      "1658331it [00:13, 119348.25it/s]"
     ]
    },
    {
     "name": "stdout",
     "output_type": "stream",
     "text": [
      "b'<http://dbpedia.org/resource/Curse_of_dimensionality> <http://purl.org/dc/terms/subject> <http://dbpedia.org/resource/Category:Machine_learning> .\\n'\n"
     ]
    },
    {
     "name": "stderr",
     "output_type": "stream",
     "text": [
      "1717450it [00:14, 119090.56it/s]"
     ]
    },
    {
     "name": "stdout",
     "output_type": "stream",
     "text": [
      "b'<http://dbpedia.org/resource/Confusion_matrix> <http://purl.org/dc/terms/subject> <http://dbpedia.org/resource/Category:Machine_learning> .\\n'\n"
     ]
    },
    {
     "name": "stderr",
     "output_type": "stream",
     "text": [
      "1752839it [00:14, 119003.17it/s]"
     ]
    },
    {
     "name": "stdout",
     "output_type": "stream",
     "text": [
      "b'<http://dbpedia.org/resource/Mixture_model> <http://purl.org/dc/terms/subject> <http://dbpedia.org/resource/Category:Machine_learning> .\\n'\n"
     ]
    },
    {
     "name": "stderr",
     "output_type": "stream",
     "text": [
      "1833641it [00:15, 118474.06it/s]"
     ]
    },
    {
     "name": "stdout",
     "output_type": "stream",
     "text": [
      "b'<http://dbpedia.org/resource/Relational_data_mining> <http://purl.org/dc/terms/subject> <http://dbpedia.org/resource/Category:Machine_learning> .\\n'\n"
     ]
    },
    {
     "name": "stderr",
     "output_type": "stream",
     "text": [
      "1856851it [00:15, 118351.23it/s]"
     ]
    },
    {
     "name": "stdout",
     "output_type": "stream",
     "text": [
      "b'<http://dbpedia.org/resource/Multi-task_learning> <http://purl.org/dc/terms/subject> <http://dbpedia.org/resource/Category:Machine_learning> .\\n'\n"
     ]
    },
    {
     "name": "stderr",
     "output_type": "stream",
     "text": [
      "1889782it [00:15, 118173.55it/s]"
     ]
    },
    {
     "name": "stdout",
     "output_type": "stream",
     "text": [
      "b'<http://dbpedia.org/resource/Transduction_(machine_learning)> <http://purl.org/dc/terms/subject> <http://dbpedia.org/resource/Category:Machine_learning> .\\n'\n"
     ]
    },
    {
     "name": "stderr",
     "output_type": "stream",
     "text": [
      "1934760it [00:16, 117894.50it/s]"
     ]
    },
    {
     "name": "stdout",
     "output_type": "stream",
     "text": [
      "b'<http://dbpedia.org/resource/Savi_Technology> <http://purl.org/dc/terms/subject> <http://dbpedia.org/resource/Category:Machine_learning> .\\n'\n"
     ]
    },
    {
     "name": "stderr",
     "output_type": "stream",
     "text": [
      "1992373it [00:16, 117738.85it/s]"
     ]
    },
    {
     "name": "stdout",
     "output_type": "stream",
     "text": [
      "b'<http://dbpedia.org/resource/Granular_computing> <http://purl.org/dc/terms/subject> <http://dbpedia.org/resource/Category:Machine_learning> .\\n'\n",
      "b'<http://dbpedia.org/resource/Statistical_learning_theory> <http://purl.org/dc/terms/subject> <http://dbpedia.org/resource/Category:Machine_learning> .\\n'\n"
     ]
    },
    {
     "name": "stderr",
     "output_type": "stream",
     "text": [
      "2184061it [00:18, 116978.71it/s]"
     ]
    },
    {
     "name": "stdout",
     "output_type": "stream",
     "text": [
      "b'<http://dbpedia.org/resource/Bongard_problem> <http://purl.org/dc/terms/subject> <http://dbpedia.org/resource/Category:Machine_learning> .\\n'\n"
     ]
    },
    {
     "name": "stderr",
     "output_type": "stream",
     "text": [
      "2238313it [00:19, 116338.66it/s]"
     ]
    },
    {
     "name": "stdout",
     "output_type": "stream",
     "text": [
      "b'<http://dbpedia.org/resource/Generative_model> <http://purl.org/dc/terms/subject> <http://dbpedia.org/resource/Category:Machine_learning> .\\n'\n"
     ]
    },
    {
     "name": "stderr",
     "output_type": "stream",
     "text": [
      "2328494it [00:20, 116024.64it/s]"
     ]
    },
    {
     "name": "stdout",
     "output_type": "stream",
     "text": [
      "b'<http://dbpedia.org/resource/Feature_(machine_learning)> <http://purl.org/dc/terms/subject> <http://dbpedia.org/resource/Category:Machine_learning> .\\n'\n"
     ]
    },
    {
     "name": "stderr",
     "output_type": "stream",
     "text": [
      "2362871it [00:20, 115979.93it/s]"
     ]
    },
    {
     "name": "stdout",
     "output_type": "stream",
     "text": [
      "b'<http://dbpedia.org/resource/Document_classification> <http://purl.org/dc/terms/subject> <http://dbpedia.org/resource/Category:Machine_learning> .\\n'\n"
     ]
    },
    {
     "name": "stderr",
     "output_type": "stream",
     "text": [
      "2473364it [00:21, 116182.03it/s]"
     ]
    },
    {
     "name": "stdout",
     "output_type": "stream",
     "text": [
      "b'<http://dbpedia.org/resource/Developmental_robotics> <http://purl.org/dc/terms/subject> <http://dbpedia.org/resource/Category:Machine_learning> .\\n'\n"
     ]
    },
    {
     "name": "stderr",
     "output_type": "stream",
     "text": [
      "2509582it [00:21, 116196.21it/s]"
     ]
    },
    {
     "name": "stdout",
     "output_type": "stream",
     "text": [
      "b'<http://dbpedia.org/resource/Empirical_risk_minimization> <http://purl.org/dc/terms/subject> <http://dbpedia.org/resource/Category:Machine_learning> .\\n'\n"
     ]
    },
    {
     "name": "stderr",
     "output_type": "stream",
     "text": [
      "2569661it [00:22, 116193.71it/s]"
     ]
    },
    {
     "name": "stdout",
     "output_type": "stream",
     "text": [
      "b'<http://dbpedia.org/resource/Test_set> <http://purl.org/dc/terms/subject> <http://dbpedia.org/resource/Category:Machine_learning> .\\n'\n"
     ]
    },
    {
     "name": "stderr",
     "output_type": "stream",
     "text": [
      "2640216it [00:22, 116039.86it/s]"
     ]
    },
    {
     "name": "stdout",
     "output_type": "stream",
     "text": [
      "b'<http://dbpedia.org/resource/Statistical_classification> <http://purl.org/dc/terms/subject> <http://dbpedia.org/resource/Category:Machine_learning> .\\n'\n"
     ]
    },
    {
     "name": "stderr",
     "output_type": "stream",
     "text": [
      "3204988it [00:27, 116172.52it/s]"
     ]
    },
    {
     "name": "stdout",
     "output_type": "stream",
     "text": [
      "b'<http://dbpedia.org/resource/Feature_vector> <http://purl.org/dc/terms/subject> <http://dbpedia.org/resource/Category:Machine_learning> .\\n'\n",
      "b'<http://dbpedia.org/resource/Kernel_density_estimation> <http://purl.org/dc/terms/subject> <http://dbpedia.org/resource/Category:Machine_learning> .\\n'\n"
     ]
    },
    {
     "name": "stderr",
     "output_type": "stream",
     "text": [
      "3416610it [00:29, 116015.81it/s]"
     ]
    },
    {
     "name": "stdout",
     "output_type": "stream",
     "text": [
      "b'<http://dbpedia.org/resource/Predictive_learning> <http://purl.org/dc/terms/subject> <http://dbpedia.org/resource/Category:Machine_learning> .\\n'\n"
     ]
    },
    {
     "name": "stderr",
     "output_type": "stream",
     "text": [
      "3669678it [00:31, 116116.27it/s]"
     ]
    },
    {
     "name": "stdout",
     "output_type": "stream",
     "text": [
      "b'<http://dbpedia.org/resource/Orange_(software)> <http://purl.org/dc/terms/subject> <http://dbpedia.org/resource/Category:Machine_learning> .\\n'\n"
     ]
    },
    {
     "name": "stderr",
     "output_type": "stream",
     "text": [
      "3925559it [00:33, 116214.12it/s]"
     ]
    },
    {
     "name": "stdout",
     "output_type": "stream",
     "text": [
      "b'<http://dbpedia.org/resource/Semi-supervised_learning> <http://purl.org/dc/terms/subject> <http://dbpedia.org/resource/Category:Machine_learning> .\\n'\n"
     ]
    },
    {
     "name": "stderr",
     "output_type": "stream",
     "text": [
      "3948962it [00:33, 116201.81it/s]"
     ]
    },
    {
     "name": "stdout",
     "output_type": "stream",
     "text": [
      "b'<http://dbpedia.org/resource/Multi-armed_bandit> <http://purl.org/dc/terms/subject> <http://dbpedia.org/resource/Category:Machine_learning> .\\n'\n"
     ]
    },
    {
     "name": "stderr",
     "output_type": "stream",
     "text": [
      "4030611it [00:34, 116143.41it/s]"
     ]
    },
    {
     "name": "stdout",
     "output_type": "stream",
     "text": [
      "b'<http://dbpedia.org/resource/Cognitive_robotics> <http://purl.org/dc/terms/subject> <http://dbpedia.org/resource/Category:Machine_learning> .\\n'\n"
     ]
    },
    {
     "name": "stderr",
     "output_type": "stream",
     "text": [
      "4198321it [00:36, 116145.41it/s]"
     ]
    },
    {
     "name": "stdout",
     "output_type": "stream",
     "text": [
      "b'<http://dbpedia.org/resource/Concept_drift> <http://purl.org/dc/terms/subject> <http://dbpedia.org/resource/Category:Machine_learning> .\\n'\n",
      "b'<http://dbpedia.org/resource/Subclass_reachability> <http://purl.org/dc/terms/subject> <http://dbpedia.org/resource/Category:Machine_learning> .\\n'\n"
     ]
    },
    {
     "name": "stderr",
     "output_type": "stream",
     "text": [
      "4327467it [00:37, 116100.89it/s]"
     ]
    },
    {
     "name": "stdout",
     "output_type": "stream",
     "text": [
      "b'<http://dbpedia.org/resource/Learning_automata> <http://purl.org/dc/terms/subject> <http://dbpedia.org/resource/Category:Machine_learning> .\\n'\n",
      "b'<http://dbpedia.org/resource/Robot_learning> <http://purl.org/dc/terms/subject> <http://dbpedia.org/resource/Category:Machine_learning> .\\n'\n"
     ]
    },
    {
     "name": "stderr",
     "output_type": "stream",
     "text": [
      "4723419it [00:40, 116180.00it/s]"
     ]
    },
    {
     "name": "stdout",
     "output_type": "stream",
     "text": [
      "b'<http://dbpedia.org/resource/Accuracy_paradox> <http://purl.org/dc/terms/subject> <http://dbpedia.org/resource/Category:Machine_learning> .\\n'\n"
     ]
    },
    {
     "name": "stderr",
     "output_type": "stream",
     "text": [
      "4822181it [00:41, 116251.87it/s]"
     ]
    },
    {
     "name": "stdout",
     "output_type": "stream",
     "text": [
      "b'<http://dbpedia.org/resource/Inductive_transfer> <http://purl.org/dc/terms/subject> <http://dbpedia.org/resource/Category:Machine_learning> .\\n'\n"
     ]
    },
    {
     "name": "stderr",
     "output_type": "stream",
     "text": [
      "4954230it [00:42, 116257.01it/s]"
     ]
    },
    {
     "name": "stdout",
     "output_type": "stream",
     "text": [
      "b'<http://dbpedia.org/resource/Conditional_random_field> <http://purl.org/dc/terms/subject> <http://dbpedia.org/resource/Category:Machine_learning> .\\n'\n",
      "b'<http://dbpedia.org/resource/Knowledge_integration> <http://purl.org/dc/terms/subject> <http://dbpedia.org/resource/Category:Machine_learning> .\\n'\n"
     ]
    },
    {
     "name": "stderr",
     "output_type": "stream",
     "text": [
      "5145654it [00:44, 116276.88it/s]"
     ]
    },
    {
     "name": "stdout",
     "output_type": "stream",
     "text": [
      "b'<http://dbpedia.org/resource/Grammar_induction> <http://purl.org/dc/terms/subject> <http://dbpedia.org/resource/Category:Machine_learning> .\\n'\n"
     ]
    },
    {
     "name": "stderr",
     "output_type": "stream",
     "text": [
      "5311511it [00:45, 116249.51it/s]"
     ]
    },
    {
     "name": "stdout",
     "output_type": "stream",
     "text": [
      "b'<http://dbpedia.org/resource/Meta_learning_(computer_science)> <http://purl.org/dc/terms/subject> <http://dbpedia.org/resource/Category:Machine_learning> .\\n'\n"
     ]
    },
    {
     "name": "stderr",
     "output_type": "stream",
     "text": [
      "5553577it [00:47, 116301.37it/s]"
     ]
    },
    {
     "name": "stdout",
     "output_type": "stream",
     "text": [
      "b'<http://dbpedia.org/resource/Inauthentic_text> <http://purl.org/dc/terms/subject> <http://dbpedia.org/resource/Category:Machine_learning> .\\n'\n"
     ]
    },
    {
     "name": "stderr",
     "output_type": "stream",
     "text": [
      "5589147it [00:48, 116280.06it/s]"
     ]
    },
    {
     "name": "stdout",
     "output_type": "stream",
     "text": [
      "b'<http://dbpedia.org/resource/Ugly_duckling_theorem> <http://purl.org/dc/terms/subject> <http://dbpedia.org/resource/Category:Machine_learning> .\\n'\n"
     ]
    },
    {
     "name": "stderr",
     "output_type": "stream",
     "text": [
      "5995033it [00:51, 116272.36it/s]"
     ]
    },
    {
     "name": "stdout",
     "output_type": "stream",
     "text": [
      "b'<http://dbpedia.org/resource/Journal_of_Machine_Learning_Research> <http://purl.org/dc/terms/subject> <http://dbpedia.org/resource/Category:Machine_learning> .\\n'\n",
      "b'<http://dbpedia.org/resource/Machine_Learning_(journal)> <http://purl.org/dc/terms/subject> <http://dbpedia.org/resource/Category:Machine_learning> .\\n'\n"
     ]
    },
    {
     "name": "stderr",
     "output_type": "stream",
     "text": [
      "6018506it [00:51, 116276.34it/s]"
     ]
    },
    {
     "name": "stdout",
     "output_type": "stream",
     "text": [
      "b'<http://dbpedia.org/resource/Cross-entropy_method> <http://purl.org/dc/terms/subject> <http://dbpedia.org/resource/Category:Machine_learning> .\\n'\n"
     ]
    },
    {
     "name": "stderr",
     "output_type": "stream",
     "text": [
      "6668903it [00:57, 116172.02it/s]"
     ]
    },
    {
     "name": "stdout",
     "output_type": "stream",
     "text": [
      "b'<http://dbpedia.org/resource/Prior_knowledge_for_pattern_recognition> <http://purl.org/dc/terms/subject> <http://dbpedia.org/resource/Category:Machine_learning> .\\n'\n"
     ]
    },
    {
     "name": "stderr",
     "output_type": "stream",
     "text": [
      "6717829it [00:57, 116213.30it/s]"
     ]
    },
    {
     "name": "stdout",
     "output_type": "stream",
     "text": [
      "b'<http://dbpedia.org/resource/Concept_learning> <http://purl.org/dc/terms/subject> <http://dbpedia.org/resource/Category:Machine_learning> .\\n'\n"
     ]
    },
    {
     "name": "stderr",
     "output_type": "stream",
     "text": [
      "6895221it [00:59, 116148.90it/s]"
     ]
    },
    {
     "name": "stdout",
     "output_type": "stream",
     "text": [
      "b'<http://dbpedia.org/resource/Nearest_neighbor_search> <http://purl.org/dc/terms/subject> <http://dbpedia.org/resource/Category:Machine_learning> .\\n'\n"
     ]
    },
    {
     "name": "stderr",
     "output_type": "stream",
     "text": [
      "7001012it [01:00, 116111.28it/s]"
     ]
    },
    {
     "name": "stdout",
     "output_type": "stream",
     "text": [
      "b'<http://dbpedia.org/resource/Rule_induction> <http://purl.org/dc/terms/subject> <http://dbpedia.org/resource/Category:Machine_learning> .\\n'\n"
     ]
    },
    {
     "name": "stderr",
     "output_type": "stream",
     "text": [
      "7035113it [01:00, 116094.15it/s]"
     ]
    },
    {
     "name": "stdout",
     "output_type": "stream",
     "text": [
      "b'<http://dbpedia.org/resource/Version_space_learning> <http://purl.org/dc/terms/subject> <http://dbpedia.org/resource/Category:Machine_learning> .\\n'\n"
     ]
    },
    {
     "name": "stderr",
     "output_type": "stream",
     "text": [
      "7431812it [01:04, 115981.93it/s]"
     ]
    },
    {
     "name": "stdout",
     "output_type": "stream",
     "text": [
      "b'<http://dbpedia.org/resource/Evolvability_(computer_science)> <http://purl.org/dc/terms/subject> <http://dbpedia.org/resource/Category:Machine_learning> .\\n'\n"
     ]
    },
    {
     "name": "stderr",
     "output_type": "stream",
     "text": [
      "7694740it [01:06, 115978.18it/s]"
     ]
    },
    {
     "name": "stdout",
     "output_type": "stream",
     "text": [
      "b'<http://dbpedia.org/resource/Category_utility> <http://purl.org/dc/terms/subject> <http://dbpedia.org/resource/Category:Machine_learning> .\\n'\n"
     ]
    },
    {
     "name": "stderr",
     "output_type": "stream",
     "text": [
      "7959221it [01:08, 116014.26it/s]"
     ]
    },
    {
     "name": "stdout",
     "output_type": "stream",
     "text": [
      "b'<http://dbpedia.org/resource/Committee_machine> <http://purl.org/dc/terms/subject> <http://dbpedia.org/resource/Category:Machine_learning> .\\n'\n"
     ]
    },
    {
     "name": "stderr",
     "output_type": "stream",
     "text": [
      "8018406it [01:09, 116017.82it/s]"
     ]
    },
    {
     "name": "stdout",
     "output_type": "stream",
     "text": [
      "b'<http://dbpedia.org/resource/Probability_matching> <http://purl.org/dc/terms/subject> <http://dbpedia.org/resource/Category:Machine_learning> .\\n'\n",
      "b'<http://dbpedia.org/resource/Base_rate> <http://purl.org/dc/terms/subject> <http://dbpedia.org/resource/Category:Machine_learning> .\\n'\n"
     ]
    },
    {
     "name": "stderr",
     "output_type": "stream",
     "text": [
      "8383607it [01:12, 115963.37it/s]"
     ]
    },
    {
     "name": "stdout",
     "output_type": "stream",
     "text": [
      "b'<http://dbpedia.org/resource/Structural_risk_minimization> <http://purl.org/dc/terms/subject> <http://dbpedia.org/resource/Category:Machine_learning> .\\n'\n",
      "b'<http://dbpedia.org/resource/Lazy_learning> <http://purl.org/dc/terms/subject> <http://dbpedia.org/resource/Category:Machine_learning> .\\n'\n",
      "b'<http://dbpedia.org/resource/Offline_learning> <http://purl.org/dc/terms/subject> <http://dbpedia.org/resource/Category:Machine_learning> .\\n'\n",
      "b'<http://dbpedia.org/resource/Eager_learning> <http://purl.org/dc/terms/subject> <http://dbpedia.org/resource/Category:Machine_learning> .\\n'\n"
     ]
    },
    {
     "name": "stderr",
     "output_type": "stream",
     "text": [
      "8656293it [01:14, 115938.39it/s]"
     ]
    },
    {
     "name": "stdout",
     "output_type": "stream",
     "text": [
      "b'<http://dbpedia.org/resource/Predictive_state_representation> <http://purl.org/dc/terms/subject> <http://dbpedia.org/resource/Category:Machine_learning> .\\n'\n"
     ]
    },
    {
     "name": "stderr",
     "output_type": "stream",
     "text": [
      "9049063it [01:18, 115931.21it/s]"
     ]
    },
    {
     "name": "stdout",
     "output_type": "stream",
     "text": [
      "b'<http://dbpedia.org/resource/Discriminative_model> <http://purl.org/dc/terms/subject> <http://dbpedia.org/resource/Category:Machine_learning> .\\n'\n"
     ]
    },
    {
     "name": "stderr",
     "output_type": "stream",
     "text": [
      "9133286it [01:18, 115955.31it/s]"
     ]
    },
    {
     "name": "stdout",
     "output_type": "stream",
     "text": [
      "b'<http://dbpedia.org/resource/Ensembles_of_classifiers> <http://purl.org/dc/terms/subject> <http://dbpedia.org/resource/Category:Machine_learning> .\\n'\n",
      "b'<http://dbpedia.org/resource/Matthews_correlation_coefficient> <http://purl.org/dc/terms/subject> <http://dbpedia.org/resource/Category:Machine_learning> .\\n'\n"
     ]
    },
    {
     "name": "stderr",
     "output_type": "stream",
     "text": [
      "9182883it [01:19, 115992.03it/s]"
     ]
    },
    {
     "name": "stdout",
     "output_type": "stream",
     "text": [
      "b'<http://dbpedia.org/resource/Data_pre-processing> <http://purl.org/dc/terms/subject> <http://dbpedia.org/resource/Category:Machine_learning> .\\n'\n"
     ]
    },
    {
     "name": "stderr",
     "output_type": "stream",
     "text": [
      "9864085it [01:24, 116156.99it/s]"
     ]
    },
    {
     "name": "stdout",
     "output_type": "stream",
     "text": [
      "b'<http://dbpedia.org/resource/Elastic_matching> <http://purl.org/dc/terms/subject> <http://dbpedia.org/resource/Category:Machine_learning> .\\n'\n"
     ]
    },
    {
     "name": "stderr",
     "output_type": "stream",
     "text": [
      "9958472it [01:25, 116153.41it/s]"
     ]
    },
    {
     "name": "stdout",
     "output_type": "stream",
     "text": [
      "b'<http://dbpedia.org/resource/Bag-of-words_model> <http://purl.org/dc/terms/subject> <http://dbpedia.org/resource/Category:Machine_learning> .\\n'\n"
     ]
    },
    {
     "name": "stderr",
     "output_type": "stream",
     "text": [
      "9994061it [01:26, 116147.54it/s]"
     ]
    },
    {
     "name": "stdout",
     "output_type": "stream",
     "text": [
      "b'<http://dbpedia.org/resource/Multiple-instance_learning> <http://purl.org/dc/terms/subject> <http://dbpedia.org/resource/Category:Machine_learning> .\\n'\n"
     ]
    },
    {
     "name": "stderr",
     "output_type": "stream",
     "text": [
      "10065343it [01:26, 116142.30it/s]"
     ]
    },
    {
     "name": "stdout",
     "output_type": "stream",
     "text": [
      "b'<http://dbpedia.org/resource/Semantic_analysis_(machine_learning)> <http://purl.org/dc/terms/subject> <http://dbpedia.org/resource/Category:Machine_learning> .\\n'\n"
     ]
    },
    {
     "name": "stderr",
     "output_type": "stream",
     "text": [
      "10159555it [01:27, 116132.42it/s]"
     ]
    },
    {
     "name": "stdout",
     "output_type": "stream",
     "text": [
      "b'<http://dbpedia.org/resource/Rademacher_complexity> <http://purl.org/dc/terms/subject> <http://dbpedia.org/resource/Category:Machine_learning> .\\n'\n"
     ]
    },
    {
     "name": "stderr",
     "output_type": "stream",
     "text": [
      "10316527it [01:28, 116162.41it/s]"
     ]
    },
    {
     "name": "stdout",
     "output_type": "stream",
     "text": [
      "b'<http://dbpedia.org/resource/Expectation_propagation> <http://purl.org/dc/terms/subject> <http://dbpedia.org/resource/Category:Machine_learning> .\\n'\n"
     ]
    },
    {
     "name": "stderr",
     "output_type": "stream",
     "text": [
      "11155992it [01:35, 116342.73it/s]"
     ]
    },
    {
     "name": "stdout",
     "output_type": "stream",
     "text": [
      "b'<http://dbpedia.org/resource/CBCL_(MIT)> <http://purl.org/dc/terms/subject> <http://dbpedia.org/resource/Category:Machine_learning> .\\n'\n"
     ]
    },
    {
     "name": "stderr",
     "output_type": "stream",
     "text": [
      "11655406it [01:40, 116434.09it/s]"
     ]
    },
    {
     "name": "stdout",
     "output_type": "stream",
     "text": [
      "b'<http://dbpedia.org/resource/Multivariate_adaptive_regression_splines> <http://purl.org/dc/terms/subject> <http://dbpedia.org/resource/Category:Machine_learning> .\\n'\n"
     ]
    },
    {
     "name": "stderr",
     "output_type": "stream",
     "text": [
      "11949850it [01:42, 116516.96it/s]"
     ]
    },
    {
     "name": "stdout",
     "output_type": "stream",
     "text": [
      "b'<http://dbpedia.org/resource/Uncertain_data> <http://purl.org/dc/terms/subject> <http://dbpedia.org/resource/Category:Machine_learning> .\\n'\n"
     ]
    },
    {
     "name": "stderr",
     "output_type": "stream",
     "text": [
      "12007979it [01:43, 116494.63it/s]"
     ]
    },
    {
     "name": "stdout",
     "output_type": "stream",
     "text": [
      "b'<http://dbpedia.org/resource/Neural_modeling_fields> <http://purl.org/dc/terms/subject> <http://dbpedia.org/resource/Category:Machine_learning> .\\n'\n"
     ]
    },
    {
     "name": "stderr",
     "output_type": "stream",
     "text": [
      "12043201it [01:43, 116492.76it/s]"
     ]
    },
    {
     "name": "stdout",
     "output_type": "stream",
     "text": [
      "b'<http://dbpedia.org/resource/Decision_list> <http://purl.org/dc/terms/subject> <http://dbpedia.org/resource/Category:Machine_learning> .\\n'\n"
     ]
    },
    {
     "name": "stderr",
     "output_type": "stream",
     "text": [
      "12104787it [01:43, 116516.64it/s]"
     ]
    },
    {
     "name": "stdout",
     "output_type": "stream",
     "text": [
      "b'<http://dbpedia.org/resource/Apprenticeship_learning> <http://purl.org/dc/terms/subject> <http://dbpedia.org/resource/Category:Machine_learning> .\\n'\n"
     ]
    },
    {
     "name": "stderr",
     "output_type": "stream",
     "text": [
      "12164483it [01:44, 116503.24it/s]"
     ]
    },
    {
     "name": "stdout",
     "output_type": "stream",
     "text": [
      "b'<http://dbpedia.org/resource/Statistical_relational_learning> <http://purl.org/dc/terms/subject> <http://dbpedia.org/resource/Category:Machine_learning> .\\n'\n"
     ]
    },
    {
     "name": "stderr",
     "output_type": "stream",
     "text": [
      "12637415it [01:48, 116565.36it/s]"
     ]
    },
    {
     "name": "stdout",
     "output_type": "stream",
     "text": [
      "b'<http://dbpedia.org/resource/Algorithmic_inference> <http://purl.org/dc/terms/subject> <http://dbpedia.org/resource/Category:Machine_learning> .\\n'\n"
     ]
    },
    {
     "name": "stderr",
     "output_type": "stream",
     "text": [
      "12951865it [01:51, 116606.95it/s]"
     ]
    },
    {
     "name": "stdout",
     "output_type": "stream",
     "text": [
      "b'<http://dbpedia.org/resource/Explanation-based_learning> <http://purl.org/dc/terms/subject> <http://dbpedia.org/resource/Category:Machine_learning> .\\n'\n"
     ]
    },
    {
     "name": "stderr",
     "output_type": "stream",
     "text": [
      "13098614it [01:52, 116633.29it/s]"
     ]
    },
    {
     "name": "stdout",
     "output_type": "stream",
     "text": [
      "b'<http://dbpedia.org/resource/Proactive_learning> <http://purl.org/dc/terms/subject> <http://dbpedia.org/resource/Category:Machine_learning> .\\n'\n"
     ]
    },
    {
     "name": "stderr",
     "output_type": "stream",
     "text": [
      "13345738it [01:54, 116609.78it/s]"
     ]
    },
    {
     "name": "stdout",
     "output_type": "stream",
     "text": [
      "b'<http://dbpedia.org/resource/Instance-based_learning> <http://purl.org/dc/terms/subject> <http://dbpedia.org/resource/Category:Machine_learning> .\\n'\n"
     ]
    },
    {
     "name": "stderr",
     "output_type": "stream",
     "text": [
      "13441916it [01:55, 116588.13it/s]"
     ]
    },
    {
     "name": "stdout",
     "output_type": "stream",
     "text": [
      "b'<http://dbpedia.org/resource/CIML_community_portal> <http://purl.org/dc/terms/subject> <http://dbpedia.org/resource/Category:Machine_learning> .\\n'\n"
     ]
    },
    {
     "name": "stderr",
     "output_type": "stream",
     "text": [
      "13514069it [01:55, 116579.36it/s]"
     ]
    },
    {
     "name": "stdout",
     "output_type": "stream",
     "text": [
      "b'<http://dbpedia.org/resource/Uniform_convergence_(combinatorics)> <http://purl.org/dc/terms/subject> <http://dbpedia.org/resource/Category:Machine_learning> .\\n'\n"
     ]
    },
    {
     "name": "stderr",
     "output_type": "stream",
     "text": [
      "13879398it [01:59, 116623.12it/s]"
     ]
    },
    {
     "name": "stdout",
     "output_type": "stream",
     "text": [
      "b'<http://dbpedia.org/resource/Parity_learning> <http://purl.org/dc/terms/subject> <http://dbpedia.org/resource/Category:Machine_learning> .\\n'\n",
      "b'<http://dbpedia.org/resource/Learning_with_errors> <http://purl.org/dc/terms/subject> <http://dbpedia.org/resource/Category:Machine_learning> .\\n'\n"
     ]
    },
    {
     "name": "stderr",
     "output_type": "stream",
     "text": [
      "14310858it [02:02, 116610.41it/s]"
     ]
    },
    {
     "name": "stdout",
     "output_type": "stream",
     "text": [
      "b'<http://dbpedia.org/resource/Product_of_experts> <http://purl.org/dc/terms/subject> <http://dbpedia.org/resource/Category:Machine_learning> .\\n'\n"
     ]
    },
    {
     "name": "stderr",
     "output_type": "stream",
     "text": [
      "14400493it [02:03, 116555.87it/s]"
     ]
    },
    {
     "name": "stdout",
     "output_type": "stream",
     "text": [
      "b'<http://dbpedia.org/resource/Learning_to_rank> <http://purl.org/dc/terms/subject> <http://dbpedia.org/resource/Category:Machine_learning> .\\n'\n"
     ]
    },
    {
     "name": "stderr",
     "output_type": "stream",
     "text": [
      "15538663it [02:13, 116575.91it/s]"
     ]
    },
    {
     "name": "stdout",
     "output_type": "stream",
     "text": [
      "b'<http://dbpedia.org/resource/Large_margin_nearest_neighbor> <http://purl.org/dc/terms/subject> <http://dbpedia.org/resource/Category:Machine_learning> .\\n'\n"
     ]
    },
    {
     "name": "stderr",
     "output_type": "stream",
     "text": [
      "15634758it [02:14, 116581.63it/s]"
     ]
    },
    {
     "name": "stdout",
     "output_type": "stream",
     "text": [
      "b'<http://dbpedia.org/resource/Constrained_conditional_model> <http://purl.org/dc/terms/subject> <http://dbpedia.org/resource/Category:Machine_learning> .\\n'\n"
     ]
    },
    {
     "name": "stderr",
     "output_type": "stream",
     "text": [
      "15755038it [02:15, 116586.96it/s]"
     ]
    },
    {
     "name": "stdout",
     "output_type": "stream",
     "text": [
      "b'<http://dbpedia.org/resource/Cleverbot> <http://purl.org/dc/terms/subject> <http://dbpedia.org/resource/Category:Machine_learning> .\\n'\n"
     ]
    },
    {
     "name": "stderr",
     "output_type": "stream",
     "text": [
      "15804017it [02:15, 116591.93it/s]"
     ]
    },
    {
     "name": "stdout",
     "output_type": "stream",
     "text": [
      "b'<http://dbpedia.org/resource/Active_learning_(machine_learning)> <http://purl.org/dc/terms/subject> <http://dbpedia.org/resource/Category:Machine_learning> .\\n'\n"
     ]
    },
    {
     "name": "stderr",
     "output_type": "stream",
     "text": [
      "15973085it [02:16, 116603.83it/s]"
     ]
    },
    {
     "name": "stdout",
     "output_type": "stream",
     "text": [
      "b'<http://dbpedia.org/resource/Sequence_labeling> <http://purl.org/dc/terms/subject> <http://dbpedia.org/resource/Category:Machine_learning> .\\n'\n"
     ]
    },
    {
     "name": "stderr",
     "output_type": "stream",
     "text": [
      "16353733it [02:20, 116476.98it/s]"
     ]
    },
    {
     "name": "stdout",
     "output_type": "stream",
     "text": [
      "b'<http://dbpedia.org/resource/AIXI> <http://purl.org/dc/terms/subject> <http://dbpedia.org/resource/Category:Machine_learning> .\\n'\n"
     ]
    },
    {
     "name": "stderr",
     "output_type": "stream",
     "text": [
      "16514184it [02:21, 116428.52it/s]"
     ]
    },
    {
     "name": "stdout",
     "output_type": "stream",
     "text": [
      "b'<http://dbpedia.org/resource/Multilinear_subspace_learning> <http://purl.org/dc/terms/subject> <http://dbpedia.org/resource/Category:Machine_learning> .\\n'\n",
      "b'<http://dbpedia.org/resource/Multilinear_principal_component_analysis> <http://purl.org/dc/terms/subject> <http://dbpedia.org/resource/Category:Machine_learning> .\\n'\n"
     ]
    },
    {
     "name": "stderr",
     "output_type": "stream",
     "text": [
      "16905807it [02:25, 116296.93it/s]"
     ]
    },
    {
     "name": "stdout",
     "output_type": "stream",
     "text": [
      "b'<http://dbpedia.org/resource/Ball_tree> <http://purl.org/dc/terms/subject> <http://dbpedia.org/resource/Category:Machine_learning> .\\n'\n"
     ]
    },
    {
     "name": "stderr",
     "output_type": "stream",
     "text": [
      "17090710it [02:27, 116220.34it/s]"
     ]
    },
    {
     "name": "stdout",
     "output_type": "stream",
     "text": [
      "b'<http://dbpedia.org/resource/Hyperparameter_optimization> <http://purl.org/dc/terms/subject> <http://dbpedia.org/resource/Category:Machine_learning> .\\n'\n"
     ]
    },
    {
     "name": "stderr",
     "output_type": "stream",
     "text": [
      "17613746it [02:31, 116035.40it/s]"
     ]
    },
    {
     "name": "stdout",
     "output_type": "stream",
     "text": [
      "b'<http://dbpedia.org/resource/Inferential_theory_of_learning> <http://purl.org/dc/terms/subject> <http://dbpedia.org/resource/Category:Machine_learning> .\\n'\n"
     ]
    },
    {
     "name": "stderr",
     "output_type": "stream",
     "text": [
      "17658735it [02:32, 116007.26it/s]"
     ]
    },
    {
     "name": "stdout",
     "output_type": "stream",
     "text": [
      "b'<http://dbpedia.org/resource/Stability_(learning_theory)> <http://purl.org/dc/terms/subject> <http://dbpedia.org/resource/Category:Machine_learning> .\\n'\n",
      "b'<http://dbpedia.org/resource/Leave-one-out_error> <http://purl.org/dc/terms/subject> <http://dbpedia.org/resource/Category:Machine_learning> .\\n'\n"
     ]
    },
    {
     "name": "stderr",
     "output_type": "stream",
     "text": [
      "17700983it [02:32, 115966.00it/s]"
     ]
    },
    {
     "name": "stdout",
     "output_type": "stream",
     "text": [
      "b'<http://dbpedia.org/resource/Mountain_Car> <http://purl.org/dc/terms/subject> <http://dbpedia.org/resource/Category:Machine_learning> .\\n'\n",
      "b'<http://dbpedia.org/resource/Coupled_pattern_learner> <http://purl.org/dc/terms/subject> <http://dbpedia.org/resource/Category:Machine_learning> .\\n'\n"
     ]
    },
    {
     "name": "stderr",
     "output_type": "stream",
     "text": [
      "17724351it [02:32, 115967.13it/s]"
     ]
    },
    {
     "name": "stdout",
     "output_type": "stream",
     "text": [
      "b'<http://dbpedia.org/resource/Feature_scaling> <http://purl.org/dc/terms/subject> <http://dbpedia.org/resource/Category:Machine_learning> .\\n'\n",
      "b'<http://dbpedia.org/resource/Preference_learning> <http://purl.org/dc/terms/subject> <http://dbpedia.org/resource/Category:Machine_learning> .\\n'\n"
     ]
    },
    {
     "name": "stderr",
     "output_type": "stream",
     "text": [
      "18130784it [02:36, 115821.40it/s]"
     ]
    },
    {
     "name": "stdout",
     "output_type": "stream",
     "text": [
      "b'<http://dbpedia.org/resource/Linear_predictor_function> <http://purl.org/dc/terms/subject> <http://dbpedia.org/resource/Category:Machine_learning> .\\n'\n"
     ]
    },
    {
     "name": "stderr",
     "output_type": "stream",
     "text": [
      "18339826it [02:38, 115771.94it/s]"
     ]
    },
    {
     "name": "stdout",
     "output_type": "stream",
     "text": [
      "b'<http://dbpedia.org/resource/Bayesian_interpretation_of_kernel_regularization> <http://purl.org/dc/terms/subject> <http://dbpedia.org/resource/Category:Machine_learning> .\\n'\n",
      "b'<http://dbpedia.org/resource/Representer_theorem> <http://purl.org/dc/terms/subject> <http://dbpedia.org/resource/Category:Machine_learning> .\\n'\n"
     ]
    },
    {
     "name": "stderr",
     "output_type": "stream",
     "text": [
      "18439941it [02:39, 115724.30it/s]"
     ]
    },
    {
     "name": "stdout",
     "output_type": "stream",
     "text": [
      "b'<http://dbpedia.org/resource/Feature_hashing> <http://purl.org/dc/terms/subject> <http://dbpedia.org/resource/Category:Machine_learning> .\\n'\n"
     ]
    },
    {
     "name": "stderr",
     "output_type": "stream",
     "text": [
      "19052122it [02:44, 115626.72it/s]"
     ]
    },
    {
     "name": "stdout",
     "output_type": "stream",
     "text": [
      "b'<http://dbpedia.org/resource/Random_indexing> <http://purl.org/dc/terms/subject> <http://dbpedia.org/resource/Category:Machine_learning> .\\n'\n"
     ]
    },
    {
     "name": "stderr",
     "output_type": "stream",
     "text": [
      "19085952it [02:45, 115605.51it/s]"
     ]
    },
    {
     "name": "stdout",
     "output_type": "stream",
     "text": [
      "b'<http://dbpedia.org/resource/Universal_portfolio_algorithm> <http://purl.org/dc/terms/subject> <http://dbpedia.org/resource/Category:Machine_learning> .\\n'\n"
     ]
    },
    {
     "name": "stderr",
     "output_type": "stream",
     "text": [
      "19179623it [02:45, 115603.27it/s]"
     ]
    },
    {
     "name": "stdout",
     "output_type": "stream",
     "text": [
      "b'<http://dbpedia.org/resource/Similarity_learning> <http://purl.org/dc/terms/subject> <http://dbpedia.org/resource/Category:Machine_learning> .\\n'\n"
     ]
    },
    {
     "name": "stderr",
     "output_type": "stream",
     "text": [
      "19457562it [02:48, 115541.41it/s]"
     ]
    },
    {
     "name": "stdout",
     "output_type": "stream",
     "text": [
      "b'<http://dbpedia.org/resource/Feature_learning> <http://purl.org/dc/terms/subject> <http://dbpedia.org/resource/Category:Machine_learning> .\\n'\n"
     ]
    },
    {
     "name": "stderr",
     "output_type": "stream",
     "text": [
      "19576868it [02:49, 115555.74it/s]"
     ]
    },
    {
     "name": "stdout",
     "output_type": "stream",
     "text": [
      "b'<http://dbpedia.org/resource/Catastrophic_interference> <http://purl.org/dc/terms/subject> <http://dbpedia.org/resource/Category:Machine_learning> .\\n'\n"
     ]
    },
    {
     "name": "stderr",
     "output_type": "stream",
     "text": [
      "19864491it [02:51, 115563.11it/s]"
     ]
    },
    {
     "name": "stdout",
     "output_type": "stream",
     "text": [
      "b'<http://dbpedia.org/resource/Validation_set> <http://purl.org/dc/terms/subject> <http://dbpedia.org/resource/Category:Machine_learning> .\\n'\n"
     ]
    },
    {
     "name": "stderr",
     "output_type": "stream",
     "text": [
      "20133449it [02:54, 115547.64it/s]"
     ]
    },
    {
     "name": "stdout",
     "output_type": "stream",
     "text": [
      "b'<http://dbpedia.org/resource/Bias\\xe2\\x80\\x93variance_tradeoff> <http://purl.org/dc/terms/subject> <http://dbpedia.org/resource/Category:Machine_learning> .\\n'\n"
     ]
    },
    {
     "name": "stderr",
     "output_type": "stream",
     "text": [
      "20239139it [02:55, 115539.72it/s]"
     ]
    },
    {
     "name": "stdout",
     "output_type": "stream",
     "text": [
      "b'<http://dbpedia.org/resource/Pattern_language_(formal_languages)> <http://purl.org/dc/terms/subject> <http://dbpedia.org/resource/Category:Machine_learning> .\\n'\n",
      "b'<http://dbpedia.org/resource/Bayesian_optimization> <http://purl.org/dc/terms/subject> <http://dbpedia.org/resource/Category:Machine_learning> .\\n'\n"
     ]
    },
    {
     "name": "stderr",
     "output_type": "stream",
     "text": [
      "20322302it [02:55, 115550.48it/s]"
     ]
    },
    {
     "name": "stdout",
     "output_type": "stream",
     "text": [
      "b'<http://dbpedia.org/resource/Proximal_gradient_methods_for_learning> <http://purl.org/dc/terms/subject> <http://dbpedia.org/resource/Category:Machine_learning> .\\n'\n"
     ]
    },
    {
     "name": "stderr",
     "output_type": "stream",
     "text": [
      "20381206it [02:56, 115535.24it/s]"
     ]
    },
    {
     "name": "stdout",
     "output_type": "stream",
     "text": [
      "b'<http://dbpedia.org/resource/Kernel_embedding_of_distributions> <http://purl.org/dc/terms/subject> <http://dbpedia.org/resource/Category:Machine_learning> .\\n'\n"
     ]
    },
    {
     "name": "stderr",
     "output_type": "stream",
     "text": [
      "20487443it [02:57, 115539.77it/s]"
     ]
    },
    {
     "name": "stdout",
     "output_type": "stream",
     "text": [
      "b'<http://dbpedia.org/resource/Inductive_programming> <http://purl.org/dc/terms/subject> <http://dbpedia.org/resource/Category:Machine_learning> .\\n'\n",
      "b'<http://dbpedia.org/resource/Inductive_functional_programming> <http://purl.org/dc/terms/subject> <http://dbpedia.org/resource/Category:Machine_learning> .\\n'\n"
     ]
    },
    {
     "name": "stderr",
     "output_type": "stream",
     "text": [
      "20535630it [02:57, 115549.24it/s]"
     ]
    },
    {
     "name": "stdout",
     "output_type": "stream",
     "text": [
      "b'<http://dbpedia.org/resource/DeepMind> <http://purl.org/dc/terms/subject> <http://dbpedia.org/resource/Category:Machine_learning> .\\n'\n"
     ]
    },
    {
     "name": "stderr",
     "output_type": "stream",
     "text": [
      "20594118it [02:58, 115539.55it/s]"
     ]
    },
    {
     "name": "stdout",
     "output_type": "stream",
     "text": [
      "b'<http://dbpedia.org/resource/Query_level_feature> <http://purl.org/dc/terms/subject> <http://dbpedia.org/resource/Category:Machine_learning> .\\n'\n"
     ]
    },
    {
     "name": "stderr",
     "output_type": "stream",
     "text": [
      "20676407it [02:58, 115543.09it/s]"
     ]
    },
    {
     "name": "stdout",
     "output_type": "stream",
     "text": [
      "b'<http://dbpedia.org/resource/OpenNN> <http://purl.org/dc/terms/subject> <http://dbpedia.org/resource/Category:Machine_learning> .\\n'\n"
     ]
    },
    {
     "name": "stderr",
     "output_type": "stream",
     "text": [
      "20842616it [03:00, 115544.76it/s]"
     ]
    },
    {
     "name": "stdout",
     "output_type": "stream",
     "text": [
      "b'<http://dbpedia.org/resource/Inductive_probability> <http://purl.org/dc/terms/subject> <http://dbpedia.org/resource/Category:Machine_learning> .\\n'\n"
     ]
    },
    {
     "name": "stderr",
     "output_type": "stream",
     "text": [
      "21054557it [03:02, 115543.59it/s]"
     ]
    },
    {
     "name": "stdout",
     "output_type": "stream",
     "text": [
      "b'<http://dbpedia.org/resource/Deeplearning4j> <http://purl.org/dc/terms/subject> <http://dbpedia.org/resource/Category:Machine_learning> .\\n'\n",
      "b'<http://dbpedia.org/resource/Evaluation_of_binary_classifiers> <http://purl.org/dc/terms/subject> <http://dbpedia.org/resource/Category:Machine_learning> .\\n'\n"
     ]
    },
    {
     "name": "stderr",
     "output_type": "stream",
     "text": [
      "21089281it [03:02, 115541.77it/s]"
     ]
    },
    {
     "name": "stdout",
     "output_type": "stream",
     "text": [
      "b'<http://dbpedia.org/resource/Sample_complexity> <http://purl.org/dc/terms/subject> <http://dbpedia.org/resource/Category:Machine_learning> .\\n'\n"
     ]
    },
    {
     "name": "stderr",
     "output_type": "stream",
     "text": [
      "21195035it [03:03, 115539.31it/s]"
     ]
    },
    {
     "name": "stdout",
     "output_type": "stream",
     "text": [
      "b'<http://dbpedia.org/resource/Vanishing_gradient_problem> <http://purl.org/dc/terms/subject> <http://dbpedia.org/resource/Category:Machine_learning> .\\n'\n"
     ]
    },
    {
     "name": "stderr",
     "output_type": "stream",
     "text": [
      "21266912it [03:04, 115545.06it/s]"
     ]
    },
    {
     "name": "stdout",
     "output_type": "stream",
     "text": [
      "b'<http://dbpedia.org/resource/Knowledge_Vault> <http://purl.org/dc/terms/subject> <http://dbpedia.org/resource/Category:Machine_learning> .\\n'\n"
     ]
    },
    {
     "name": "stderr",
     "output_type": "stream",
     "text": [
      "21325261it [03:04, 115535.09it/s]"
     ]
    },
    {
     "name": "stdout",
     "output_type": "stream",
     "text": [
      "b'<http://dbpedia.org/resource/Action_model_learning> <http://purl.org/dc/terms/subject> <http://dbpedia.org/resource/Category:Machine_learning> .\\n'\n"
     ]
    },
    {
     "name": "stderr",
     "output_type": "stream",
     "text": [
      "21360526it [03:04, 115531.42it/s]"
     ]
    },
    {
     "name": "stdout",
     "output_type": "stream",
     "text": [
      "b'<http://dbpedia.org/resource/Random_projection> <http://purl.org/dc/terms/subject> <http://dbpedia.org/resource/Category:Machine_learning> .\\n'\n"
     ]
    },
    {
     "name": "stderr",
     "output_type": "stream",
     "text": [
      "21429449it [03:05, 115524.21it/s]"
     ]
    },
    {
     "name": "stdout",
     "output_type": "stream",
     "text": [
      "b'<http://dbpedia.org/resource/Quantum_machine_learning> <http://purl.org/dc/terms/subject> <http://dbpedia.org/resource/Category:Machine_learning> .\\n'\n"
     ]
    },
    {
     "name": "stderr",
     "output_type": "stream",
     "text": [
      "21570561it [03:06, 115524.19it/s]"
     ]
    },
    {
     "name": "stdout",
     "output_type": "stream",
     "text": [
      "b'<http://dbpedia.org/resource/Bradley\\xe2\\x80\\x93Terry_model> <http://purl.org/dc/terms/subject> <http://dbpedia.org/resource/Category:Machine_learning> .\\n'\n"
     ]
    },
    {
     "name": "stderr",
     "output_type": "stream",
     "text": [
      "21618732it [03:07, 115529.39it/s]"
     ]
    },
    {
     "name": "stdout",
     "output_type": "stream",
     "text": [
      "b'<http://dbpedia.org/resource/Occam_learning> <http://purl.org/dc/terms/subject> <http://dbpedia.org/resource/Category:Machine_learning> .\\n'\n",
      "b'<http://dbpedia.org/resource/Matrix_regularization> <http://purl.org/dc/terms/subject> <http://dbpedia.org/resource/Category:Machine_learning> .\\n'\n",
      "b'<http://dbpedia.org/resource/M-Theory_(learning_framework)> <http://purl.org/dc/terms/subject> <http://dbpedia.org/resource/Category:Machine_learning> .\\n'\n"
     ]
    },
    {
     "name": "stderr",
     "output_type": "stream",
     "text": [
      "21771240it [03:08, 115526.40it/s]"
     ]
    },
    {
     "name": "stdout",
     "output_type": "stream",
     "text": [
      "b'<http://dbpedia.org/resource/Adversarial_machine_learning> <http://purl.org/dc/terms/subject> <http://dbpedia.org/resource/Category:Machine_learning> .\\n'\n"
     ]
    },
    {
     "name": "stderr",
     "output_type": "stream",
     "text": [
      "21876715it [03:09, 115520.14it/s]"
     ]
    },
    {
     "name": "stdout",
     "output_type": "stream",
     "text": [
      "b'<http://dbpedia.org/resource/Logic_learning_machine> <http://purl.org/dc/terms/subject> <http://dbpedia.org/resource/Category:Machine_learning> .\\n'\n",
      "b'<http://dbpedia.org/resource/Domain_adaptation> <http://purl.org/dc/terms/subject> <http://dbpedia.org/resource/Category:Machine_learning> .\\n'\n"
     ]
    },
    {
     "name": "stderr",
     "output_type": "stream",
     "text": [
      "21970208it [03:10, 115511.66it/s]"
     ]
    },
    {
     "name": "stdout",
     "output_type": "stream",
     "text": [
      "b'<http://dbpedia.org/resource/Native-language_identification> <http://purl.org/dc/terms/subject> <http://dbpedia.org/resource/Category:Machine_learning> .\\n'\n",
      "b'<http://dbpedia.org/resource/Zeroth_(software)> <http://purl.org/dc/terms/subject> <http://dbpedia.org/resource/Category:Machine_learning> .\\n'\n"
     ]
    },
    {
     "name": "stderr",
     "output_type": "stream",
     "text": [
      "22018521it [03:10, 115519.21it/s]"
     ]
    },
    {
     "name": "stdout",
     "output_type": "stream",
     "text": [
      "b'<http://dbpedia.org/resource/Feature_engineering> <http://purl.org/dc/terms/subject> <http://dbpedia.org/resource/Category:Machine_learning> .\\n'\n"
     ]
    },
    {
     "name": "stderr",
     "output_type": "stream",
     "text": [
      "22233442it [03:12, 115532.81it/s]"
     ]
    },
    {
     "name": "stdout",
     "output_type": "stream",
     "text": [
      "b'<http://dbpedia.org/resource/Kernel_random_forest> <http://purl.org/dc/terms/subject> <http://dbpedia.org/resource/Category:Machine_learning> .\\n'\n"
     ]
    },
    {
     "name": "stderr",
     "output_type": "stream",
     "text": [
      "22292896it [03:12, 115534.86it/s]"
     ]
    },
    {
     "name": "stdout",
     "output_type": "stream",
     "text": [
      "b'<http://dbpedia.org/resource/Local_case-control_sampling> <http://purl.org/dc/terms/subject> <http://dbpedia.org/resource/Category:Machine_learning> .\\n'\n"
     ]
    },
    {
     "name": "stderr",
     "output_type": "stream",
     "text": [
      "22410777it [03:13, 115533.83it/s]"
     ]
    },
    {
     "name": "stdout",
     "output_type": "stream",
     "text": [
      "b'<http://dbpedia.org/resource/User_behavior_analytics> <http://purl.org/dc/terms/subject> <http://dbpedia.org/resource/Category:Machine_learning> .\\n'\n"
     ]
    },
    {
     "name": "stderr",
     "output_type": "stream",
     "text": [
      "22458192it [03:14, 115532.39it/s]"
     ]
    },
    {
     "name": "stdout",
     "output_type": "stream",
     "text": [
      "b'<http://dbpedia.org/resource/Dropout_(neural_networks)> <http://purl.org/dc/terms/subject> <http://dbpedia.org/resource/Category:Machine_learning> .\\n'\n"
     ]
    },
    {
     "name": "stderr",
     "output_type": "stream",
     "text": [
      "22516691it [03:14, 115526.11it/s]"
     ]
    },
    {
     "name": "stdout",
     "output_type": "stream",
     "text": [
      "b'<http://dbpedia.org/resource/Skymind> <http://purl.org/dc/terms/subject> <http://dbpedia.org/resource/Category:Machine_learning> .\\n'\n",
      "b'<http://dbpedia.org/resource/Word2vec> <http://purl.org/dc/terms/subject> <http://dbpedia.org/resource/Category:Machine_learning> .\\n'\n"
     ]
    },
    {
     "name": "stderr",
     "output_type": "stream",
     "text": [
      "22540133it [03:15, 115523.55it/s]"
     ]
    },
    {
     "name": "stdout",
     "output_type": "stream",
     "text": [
      "b'<http://dbpedia.org/resource/Trax_Image_Recognition> <http://purl.org/dc/terms/subject> <http://dbpedia.org/resource/Category:Machine_learning> .\\n'\n"
     ]
    },
    {
     "name": "stderr",
     "output_type": "stream",
     "text": [
      "22650112it [03:16, 115542.34it/s]"
     ]
    },
    {
     "name": "stdout",
     "output_type": "stream",
     "text": [
      "b'<http://dbpedia.org/resource/Stochastic_block_model> <http://purl.org/dc/terms/subject> <http://dbpedia.org/resource/Category:Machine_learning> .\\n'\n"
     ]
    },
    {
     "name": "stderr",
     "output_type": "stream",
     "text": [
      "22673798it [03:16, 115541.43it/s]"
     ]
    },
    {
     "name": "stdout",
     "output_type": "stream",
     "text": [
      "b'<http://dbpedia.org/resource/The_Master_Algorithm> <http://purl.org/dc/terms/subject> <http://dbpedia.org/resource/Category:Machine_learning> .\\n'\n"
     ]
    },
    {
     "name": "stderr",
     "output_type": "stream",
     "text": [
      "22758062it [03:16, 115554.83it/s]"
     ]
    },
    {
     "name": "stdout",
     "output_type": "stream",
     "text": [
      "b'<http://dbpedia.org/resource/Deep_feature_synthesis> <http://purl.org/dc/terms/subject> <http://dbpedia.org/resource/Category:Machine_learning> .\\n'\n"
     ]
    },
    {
     "name": "stderr",
     "output_type": "stream",
     "text": [
      "22934042it [03:18, 115538.35it/s]"
     ]
    },
    {
     "name": "stdout",
     "output_type": "stream",
     "text": [
      "b'<http://dbpedia.org/resource/Manifold_regularization> <http://purl.org/dc/terms/subject> <http://dbpedia.org/resource/Category:Machine_learning> .\\n'\n",
      "b'<http://dbpedia.org/resource/Sparse_dictionary_learning> <http://purl.org/dc/terms/subject> <http://dbpedia.org/resource/Category:Machine_learning> .\\n'\n",
      "b'<http://dbpedia.org/resource/Learnable_function_class> <http://purl.org/dc/terms/subject> <http://dbpedia.org/resource/Category:Machine_learning> .\\n'\n",
      "b'<http://dbpedia.org/resource/Error_Tolerance_(PAC_learning)> <http://purl.org/dc/terms/subject> <http://dbpedia.org/resource/Category:Machine_learning> .\\n'\n",
      "b'<http://dbpedia.org/resource/Multiple_instance_learning> <http://purl.org/dc/terms/subject> <http://dbpedia.org/resource/Category:Machine_learning> .\\n'\n"
     ]
    },
    {
     "name": "stderr",
     "output_type": "stream",
     "text": [
      "22956895it [03:18, 115534.63it/s]"
     ]
    },
    {
     "name": "stdout",
     "output_type": "stream",
     "text": [
      "b'<http://dbpedia.org/resource/Structured_sparsity_regularization> <http://purl.org/dc/terms/subject> <http://dbpedia.org/resource/Category:Machine_learning> .\\n'\n"
     ]
    },
    {
     "name": "stderr",
     "output_type": "stream",
     "text": [
      "23004753it [03:19, 115538.41it/s]"
     ]
    },
    {
     "name": "stdout",
     "output_type": "stream",
     "text": [
      "b'<http://dbpedia.org/resource/MysteryVibe> <http://purl.org/dc/terms/subject> <http://dbpedia.org/resource/Category:Machine_learning> .\\n'\n",
      "b'<http://dbpedia.org/resource/Isotropic_position> <http://purl.org/dc/terms/subject> <http://dbpedia.org/resource/Category:Machine_learning> .\\n'\n"
     ]
    },
    {
     "name": "stderr",
     "output_type": "stream",
     "text": [
      "23040019it [03:19, 115538.57it/s]"
     ]
    },
    {
     "name": "stdout",
     "output_type": "stream",
     "text": [
      "b'<http://dbpedia.org/resource/List_of_datasets_for_machine_learning_research> <http://purl.org/dc/terms/subject> <http://dbpedia.org/resource/Category:Machine_learning> .\\n'\n"
     ]
    },
    {
     "name": "stderr",
     "output_type": "stream",
     "text": [
      "23098107it [03:19, 115532.86it/s]"
     ]
    },
    {
     "name": "stdout",
     "output_type": "stream",
     "text": [
      "b'<http://dbpedia.org/resource/AlphaGo> <http://purl.org/dc/terms/subject> <http://dbpedia.org/resource/Category:Machine_learning> .\\n'\n",
      "b'<http://dbpedia.org/resource/Holdout_method> <http://purl.org/dc/terms/subject> <http://dbpedia.org/resource/Category:Machine_learning> .\\n'\n"
     ]
    },
    {
     "name": "stderr",
     "output_type": "stream",
     "text": [
      "23121713it [03:20, 115529.84it/s]"
     ]
    },
    {
     "name": "stdout",
     "output_type": "stream",
     "text": [
      "b'<http://dbpedia.org/resource/Darkforest> <http://purl.org/dc/terms/subject> <http://dbpedia.org/resource/Category:Machine_learning> .\\n'\n"
     ]
    },
    {
     "name": "stderr",
     "output_type": "stream",
     "text": [
      "23281556it [03:21, 115556.69it/s]"
     ]
    },
    {
     "name": "stdout",
     "output_type": "stream",
     "text": [
      "b'<http://dbpedia.org/resource/Movidius_(company)> <http://purl.org/dc/terms/subject> <http://dbpedia.org/resource/Category:Machine_learning> .\\n'\n"
     ]
    },
    {
     "name": "stderr",
     "output_type": "stream",
     "text": [
      "23398942it [03:22, 115552.46it/s]"
     ]
    },
    {
     "name": "stdout",
     "output_type": "stream",
     "text": [
      "b'<http://dbpedia.org/resource/Bayesian_structural_time_series> <http://purl.org/dc/terms/subject> <http://dbpedia.org/resource/Category:Machine_learning> .\\n'\n",
      "b'<http://dbpedia.org/resource/Semantic_folding> <http://purl.org/dc/terms/subject> <http://dbpedia.org/resource/Category:Machine_learning> .\\n'\n",
      "b'<http://dbpedia.org/resource/Spike-and-slab_variable_selection> <http://purl.org/dc/terms/subject> <http://dbpedia.org/resource/Category:Machine_learning> .\\n'\n"
     ]
    },
    {
     "name": "stderr",
     "output_type": "stream",
     "text": [
      "23434178it [03:22, 115549.34it/s]"
     ]
    },
    {
     "name": "stdout",
     "output_type": "stream",
     "text": [
      "b'<http://dbpedia.org/resource/Glossary_of_artificial_intelligence> <http://purl.org/dc/terms/subject> <http://dbpedia.org/resource/Category:Machine_learning> .\\n'\n"
     ]
    },
    {
     "name": "stderr",
     "output_type": "stream",
     "text": [
      "23531104it [03:23, 115480.54it/s]"
     ]
    },
    {
     "name": "stdout",
     "output_type": "stream",
     "text": [
      "b'<http://dbpedia.org/resource/Bing_Predicts> <http://purl.org/dc/terms/subject> <http://dbpedia.org/resource/Category:Machine_learning> .\\n'\n"
     ]
    },
    {
     "name": "stderr",
     "output_type": "stream",
     "text": [
      "23583763it [03:24, 115417.34it/s]"
     ]
    },
    {
     "name": "stdout",
     "output_type": "stream",
     "text": [
      "b'<http://dbpedia.org/resource/Algorithm_Selection> <http://purl.org/dc/terms/subject> <http://dbpedia.org/resource/Category:Machine_learning> .\\n'\n",
      "b'<http://dbpedia.org/resource/Timeline_of_machine_learning> <http://purl.org/dc/terms/subject> <http://dbpedia.org/resource/Category:Machine_learning> .\\n'\n"
     ]
    },
    {
     "name": "stderr",
     "output_type": "stream",
     "text": [
      "23697417it [03:25, 115394.41it/s]"
     ]
    },
    {
     "name": "stdout",
     "output_type": "stream",
     "text": [
      "b'<http://dbpedia.org/resource/Dataiku> <http://purl.org/dc/terms/subject> <http://dbpedia.org/resource/Category:Machine_learning> .\\n'\n"
     ]
    },
    {
     "name": "stderr",
     "output_type": "stream",
     "text": [
      "23872800it [03:27, 115321.58it/s]"
     ]
    },
    {
     "name": "stdout",
     "output_type": "stream",
     "text": [
      "b'<http://dbpedia.org/resource/Machine_Teaching> <http://purl.org/dc/terms/subject> <http://dbpedia.org/resource/Category:Machine_learning> .\\n'\n"
     ]
    },
    {
     "name": "stderr",
     "output_type": "stream",
     "text": [
      "23990516it [03:28, 115287.15it/s]\n"
     ]
    }
   ],
   "source": [
    "search_file('../article_categories_en.ttl.bz2', 'Machine_learning>')"
   ]
  },
  {
   "cell_type": "markdown",
   "metadata": {},
   "source": [
    "### Topical concepts\n",
    "\n",
    "Descriptions of categories"
   ]
  },
  {
   "cell_type": "code",
   "execution_count": 10,
   "metadata": {},
   "outputs": [
    {
     "name": "stdout",
     "output_type": "stream",
     "text": [
      "b'# started 2017-04-04T13:10:48Z\\n'\n",
      "b'<http://dbpedia.org/resource/Category:Futurama> <http://purl.org/dc/terms/subject> <http://dbpedia.org/resource/Futurama> <http://en.wikipedia.org/wiki/Category:Futurama?oldid=736823570#absolute-line=2> .\\n'\n",
      "b'<http://dbpedia.org/resource/Futurama> <http://www.w3.org/1999/02/22-rdf-syntax-ns#type> <http://www.w3.org/2004/02/skos/core#Concept> <http://en.wikipedia.org/wiki/Category:Futurama?oldid=736823570#absolute-line=2> .\\n'\n",
      "b'<http://dbpedia.org/resource/Category:Programming_languages> <http://purl.org/dc/terms/subject> <http://dbpedia.org/resource/Programming_language> <http://en.wikipedia.org/wiki/Category:Programming_languages?oldid=681143028#absolute-line=1> .\\n'\n",
      "b'<http://dbpedia.org/resource/Programming_language> <http://www.w3.org/1999/02/22-rdf-syntax-ns#type> <http://www.w3.org/2004/02/skos/core#Concept> <http://en.wikipedia.org/wiki/Category:Programming_languages?oldid=681143028#absolute-line=1> .\\n'\n",
      "b'<http://dbpedia.org/resource/Category:Anime> <http://purl.org/dc/terms/subject> <http://dbpedia.org/resource/Anime> <http://en.wikipedia.org/wiki/Category:Anime?oldid=726314466#absolute-line=2> .\\n'\n",
      "b'<http://dbpedia.org/resource/Anime> <http://www.w3.org/1999/02/22-rdf-syntax-ns#type> <http://www.w3.org/2004/02/skos/core#Concept> <http://en.wikipedia.org/wiki/Category:Anime?oldid=726314466#absolute-line=2> .\\n'\n",
      "b'<http://dbpedia.org/resource/Category:Abstract_algebra> <http://purl.org/dc/terms/subject> <http://dbpedia.org/resource/Abstract_algebra> <http://en.wikipedia.org/wiki/Category:Abstract_algebra?oldid=543792865#absolute-line=3> .\\n'\n",
      "b'<http://dbpedia.org/resource/Abstract_algebra> <http://www.w3.org/1999/02/22-rdf-syntax-ns#type> <http://www.w3.org/2004/02/skos/core#Concept> <http://en.wikipedia.org/wiki/Category:Abstract_algebra?oldid=543792865#absolute-line=3> .\\n'\n",
      "b'<http://dbpedia.org/resource/Category:Mathematics> <http://purl.org/dc/terms/subject> <http://dbpedia.org/resource/Mathematics> <http://en.wikipedia.org/wiki/Category:Mathematics?oldid=740516417#absolute-line=9> .\\n'\n",
      "b'<http://dbpedia.org/resource/Mathematics> <http://www.w3.org/1999/02/22-rdf-syntax-ns#type> <http://www.w3.org/2004/02/skos/core#Concept> <http://en.wikipedia.org/wiki/Category:Mathematics?oldid=740516417#absolute-line=9> .\\n'\n"
     ]
    }
   ],
   "source": [
    "preview_file('../topical_concepts_en.tql.bz2')"
   ]
  },
  {
   "cell_type": "code",
   "execution_count": 30,
   "metadata": {},
   "outputs": [
    {
     "name": "stderr",
     "output_type": "stream",
     "text": [
      "17735it [00:00, 88667.05it/s]"
     ]
    },
    {
     "name": "stdout",
     "output_type": "stream",
     "text": [
      "b'<http://dbpedia.org/resource/Category:Machine_learning> <http://purl.org/dc/terms/subject> <http://dbpedia.org/resource/Machine_learning> <http://en.wikipedia.org/wiki/Category:Machine_learning?oldid=548447226#absolute-line=3> .\\n'\n",
      "b'<http://dbpedia.org/resource/Machine_learning> <http://www.w3.org/1999/02/22-rdf-syntax-ns#type> <http://www.w3.org/2004/02/skos/core#Concept> <http://en.wikipedia.org/wiki/Category:Machine_learning?oldid=548447226#absolute-line=3> .\\n'\n"
     ]
    },
    {
     "name": "stderr",
     "output_type": "stream",
     "text": [
      "186682it [00:02, 87696.46it/s]\n"
     ]
    }
   ],
   "source": [
    "search_file('../topical_concepts_en.tql.bz2', 'Machine_learning')"
   ]
  },
  {
   "cell_type": "markdown",
   "metadata": {},
   "source": [
    "### Mapping literals"
   ]
  },
  {
   "cell_type": "code",
   "execution_count": 25,
   "metadata": {},
   "outputs": [
    {
     "name": "stdout",
     "output_type": "stream",
     "text": [
      "b'# started 2017-03-31T16:36:17Z\\n'\n",
      "b'<http://dbpedia.org/resource/Autism> <http://dbpedia.org/ontology/icd10> \"F84.0\" .\\n'\n",
      "b'<http://dbpedia.org/resource/Autism> <http://dbpedia.org/ontology/icd9> \"299.00\" .\\n'\n",
      "b'<http://dbpedia.org/resource/Autism> <http://dbpedia.org/ontology/omim> \"209850\"^^<http://www.w3.org/2001/XMLSchema#integer> .\\n'\n",
      "b'<http://dbpedia.org/resource/Autism> <http://dbpedia.org/ontology/meshId> \"D001321\" .\\n'\n",
      "b'<http://dbpedia.org/resource/Autism> <http://xmlns.com/foaf/0.1/name> \"Autism\"@en .\\n'\n",
      "b'<http://dbpedia.org/resource/Alabama> <http://xmlns.com/foaf/0.1/name> \"State of Alabama\"@en .\\n'\n",
      "b'<http://dbpedia.org/resource/Alabama> <http://dbpedia.org/ontology/demonym> \"Alabaman or Alabamian\"@en .\\n'\n",
      "b'<http://dbpedia.org/resource/Alabama> <http://dbpedia.org/ontology/areaTotal> \"1.35765E11\"^^<http://www.w3.org/2001/XMLSchema#double> .\\n'\n",
      "b'<http://dbpedia.org/resource/Alabama> <http://dbpedia.org/ontology/areaLand> \"1.31426E11\"^^<http://www.w3.org/2001/XMLSchema#double> .\\n'\n",
      "b'<http://dbpedia.org/resource/Alabama> <http://dbpedia.org/ontology/areaWater> \"4.338E9\"^^<http://www.w3.org/2001/XMLSchema#double> .\\n'\n",
      "b'<http://dbpedia.org/resource/Alabama> <http://dbpedia.org/ontology/maximumElevation> \"735.5\"^^<http://www.w3.org/2001/XMLSchema#double> .\\n'\n",
      "b'<http://dbpedia.org/resource/Alabama> <http://dbpedia.org/ontology/minimumElevation> \"0.0\"^^<http://www.w3.org/2001/XMLSchema#double> .\\n'\n",
      "b'<http://dbpedia.org/resource/Abraham_Lincoln> <http://xmlns.com/foaf/0.1/name> \"Abraham Lincoln\"@en .\\n'\n",
      "b'<http://dbpedia.org/resource/Abraham_Lincoln> <http://dbpedia.org/ontology/birthDate> \"1809-02-12\"^^<http://www.w3.org/2001/XMLSchema#date> .\\n'\n",
      "b'<http://dbpedia.org/resource/Abraham_Lincoln> <http://dbpedia.org/ontology/deathDate> \"1865-04-15\"^^<http://www.w3.org/2001/XMLSchema#date> .\\n'\n",
      "b'<http://dbpedia.org/resource/Abraham_Lincoln> <http://dbpedia.org/ontology/signature> \"Abraham Lincoln 1862 signature.svg\" .\\n'\n",
      "b'<http://dbpedia.org/resource/Abraham_Lincoln> <http://dbpedia.org/ontology/serviceStartYear> \"0003\"^^<http://www.w3.org/2001/XMLSchema#gYear> .\\n'\n",
      "b'<http://dbpedia.org/resource/Abraham_Lincoln> <http://dbpedia.org/ontology/serviceEndYear> \"0003\"^^<http://www.w3.org/2001/XMLSchema#gYear> .\\n'\n",
      "b'<http://dbpedia.org/resource/Abraham_Lincoln> <http://dbpedia.org/ontology/office> \"16th President of the United States\" .\\n'\n",
      "b'<http://dbpedia.org/resource/Abraham_Lincoln> <http://dbpedia.org/ontology/office> \"Member of theIllinois House of Representatives\" .\\n'\n",
      "b'<http://dbpedia.org/resource/Abraham_Lincoln__1> <http://dbpedia.org/ontology/activeYearsStartDate> \"1861-03-04\"^^<http://www.w3.org/2001/XMLSchema#date> .\\n'\n",
      "b'<http://dbpedia.org/resource/Abraham_Lincoln__1> <http://dbpedia.org/ontology/activeYearsEndDate> \"1865-04-15\"^^<http://www.w3.org/2001/XMLSchema#date> .\\n'\n",
      "b'<http://dbpedia.org/resource/Abraham_Lincoln__1> <http://dbpedia.org/ontology/office> \"16th President of the United States\" .\\n'\n",
      "b'<http://dbpedia.org/resource/Abraham_Lincoln__2> <http://dbpedia.org/ontology/activeYearsStartDate> \"1847-03-04\"^^<http://www.w3.org/2001/XMLSchema#date> .\\n'\n",
      "b'<http://dbpedia.org/resource/Abraham_Lincoln__2> <http://dbpedia.org/ontology/activeYearsEndDate> \"1849-03-03\"^^<http://www.w3.org/2001/XMLSchema#date> .\\n'\n",
      "b'<http://dbpedia.org/resource/Abraham_Lincoln__3> <http://dbpedia.org/ontology/office> \"Member of theIllinois House of Representatives\" .\\n'\n",
      "b'<http://dbpedia.org/resource/Animalia_(book)> <http://xmlns.com/foaf/0.1/name> \"Animalia\"@en .\\n'\n",
      "b'<http://dbpedia.org/resource/Animalia_(book)> <http://purl.org/dc/elements/1.1/publisher> \"Harcourt Brace Jovanovich\" .\\n'\n",
      "b'<http://dbpedia.org/resource/Animalia_(book)> <http://dbpedia.org/ontology/numberOfPages> \"32\"^^<http://www.w3.org/2001/XMLSchema#positiveInteger> .\\n'\n",
      "b'<http://dbpedia.org/resource/Animalia_(book)> <http://dbpedia.org/ontology/isbn> \"0-810-91868-4\" .\\n'\n"
     ]
    }
   ],
   "source": [
    "preview_file('../mappingbased_literals_en.ttl.bz2', lines=30)"
   ]
  },
  {
   "cell_type": "code",
   "execution_count": 24,
   "metadata": {},
   "outputs": [
    {
     "name": "stderr",
     "output_type": "stream",
     "text": [
      "14388539it [01:42, 140417.88it/s]\n"
     ]
    }
   ],
   "source": [
    "search_file('../mappingbased_literals_en.ttl.bz2', 'Machine_learning>')"
   ]
  },
  {
   "cell_type": "markdown",
   "metadata": {},
   "source": [
    "### Mapping objects"
   ]
  },
  {
   "cell_type": "code",
   "execution_count": 26,
   "metadata": {},
   "outputs": [
    {
     "name": "stdout",
     "output_type": "stream",
     "text": [
      "b'# started 2017-05-25T05:44:10Z\\n'\n",
      "b'<http://dbpedia.org/resource/Anarchism> <http://www.w3.org/2000/01/rdf-schema#seeAlso> <http://dbpedia.org/resource/Anarchist_terminology> .\\n'\n",
      "b'<http://dbpedia.org/resource/Anarchism> <http://www.w3.org/2000/01/rdf-schema#seeAlso> <http://dbpedia.org/resource/Anarchism> .\\n'\n",
      "b'<http://dbpedia.org/resource/Anarchism> <http://www.w3.org/2000/01/rdf-schema#seeAlso> <http://dbpedia.org/resource/France> .\\n'\n",
      "b'<http://dbpedia.org/resource/Anarchism> <http://www.w3.org/2000/01/rdf-schema#seeAlso> <http://dbpedia.org/resource/Violence> .\\n'\n",
      "b'<http://dbpedia.org/resource/Anarchism> <http://www.w3.org/2000/01/rdf-schema#seeAlso> <http://dbpedia.org/resource/Education> .\\n'\n",
      "b'<http://dbpedia.org/resource/Alabama> <http://dbpedia.org/ontology/country> <http://dbpedia.org/resource/United_States> .\\n'\n",
      "b'<http://dbpedia.org/resource/Alabama> <http://dbpedia.org/ontology/language> <http://dbpedia.org/resource/English_American> .\\n'\n",
      "b'<http://dbpedia.org/resource/Alabama> <http://dbpedia.org/ontology/capital> <http://dbpedia.org/resource/Montgomery,_Alabama> .\\n'\n",
      "b'<http://dbpedia.org/resource/Alabama> <http://dbpedia.org/ontology/largestCity> <http://dbpedia.org/resource/Birmingham,_Alabama> .\\n'\n",
      "b'<http://dbpedia.org/resource/Alabama> <http://www.w3.org/2000/01/rdf-schema#seeAlso> <http://dbpedia.org/resource/List_of_Alabama_counties> .\\n'\n",
      "b'<http://dbpedia.org/resource/Alabama> <http://www.w3.org/2000/01/rdf-schema#seeAlso> <http://dbpedia.org/resource/Alabama_locations_by_per_capita_income> .\\n'\n",
      "b'<http://dbpedia.org/resource/Alabama> <http://www.w3.org/2000/01/rdf-schema#seeAlso> <http://dbpedia.org/resource/List_of_counties> .\\n'\n",
      "b'<http://dbpedia.org/resource/Alabama> <http://www.w3.org/2000/01/rdf-schema#seeAlso> <http://dbpedia.org/resource/Alabama> .\\n'\n",
      "b'<http://dbpedia.org/resource/Abraham_Lincoln> <http://dbpedia.org/ontology/otherParty> <http://dbpedia.org/resource/National_Union_Party_(United_States)> .\\n'\n",
      "b'<http://dbpedia.org/resource/Abraham_Lincoln> <http://dbpedia.org/ontology/birthPlace> <http://dbpedia.org/resource/Hodgenville,_Kentucky> .\\n'\n",
      "b'<http://dbpedia.org/resource/Abraham_Lincoln> <http://dbpedia.org/ontology/deathPlace> <http://dbpedia.org/resource/Petersen_House_(Washington,_D.C.)> .\\n'\n",
      "b'<http://dbpedia.org/resource/Abraham_Lincoln> <http://dbpedia.org/ontology/deathPlace> <http://dbpedia.org/resource/Washington,_D.C.> .\\n'\n",
      "b'<http://dbpedia.org/resource/Abraham_Lincoln> <http://dbpedia.org/ontology/restingPlace> <http://dbpedia.org/resource/Lincoln_Tomb> .\\n'\n",
      "b'<http://dbpedia.org/resource/Abraham_Lincoln> <http://dbpedia.org/ontology/restingPlace> <http://dbpedia.org/resource/Oak_Ridge_Cemetery> .\\n'\n",
      "b'<http://dbpedia.org/resource/Abraham_Lincoln> <http://dbpedia.org/ontology/restingPlace> <http://dbpedia.org/resource/Springfield,_Illinois> .\\n'\n",
      "b'<http://dbpedia.org/resource/Abraham_Lincoln> <http://dbpedia.org/ontology/party> <http://dbpedia.org/resource/Whig_Party_(United_States)> .\\n'\n",
      "b'<http://dbpedia.org/resource/Abraham_Lincoln> <http://dbpedia.org/ontology/party> <http://dbpedia.org/resource/Republican_Party_(United_States)> .\\n'\n",
      "b'<http://dbpedia.org/resource/Abraham_Lincoln> <http://dbpedia.org/ontology/spouse> <http://dbpedia.org/resource/Mary_Todd_Lincoln> .\\n'\n",
      "b'<http://dbpedia.org/resource/Abraham_Lincoln> <http://dbpedia.org/ontology/child> <http://dbpedia.org/resource/Robert_Todd_Lincoln> .\\n'\n",
      "b'<http://dbpedia.org/resource/Abraham_Lincoln> <http://dbpedia.org/ontology/child> <http://dbpedia.org/resource/Edward_Baker_Lincoln> .\\n'\n",
      "b'<http://dbpedia.org/resource/Abraham_Lincoln> <http://dbpedia.org/ontology/child> <http://dbpedia.org/resource/William_Wallace_Lincoln> .\\n'\n",
      "b'<http://dbpedia.org/resource/Abraham_Lincoln> <http://dbpedia.org/ontology/child> <http://dbpedia.org/resource/Tad_Lincoln> .\\n'\n",
      "b'<http://dbpedia.org/resource/Abraham_Lincoln> <http://dbpedia.org/ontology/religion> <http://dbpedia.org/resource/Religious_views_of_Abraham_Lincoln> .\\n'\n",
      "b'<http://dbpedia.org/resource/Abraham_Lincoln> <http://dbpedia.org/ontology/country> <http://dbpedia.org/resource/United_States_of_America> .\\n'\n",
      "b'<http://dbpedia.org/resource/Abraham_Lincoln> <http://dbpedia.org/ontology/militaryRank> <http://dbpedia.org/resource/Captain_(US_Army)> .\\n'\n"
     ]
    }
   ],
   "source": [
    "preview_file('../mappingbased_objects_en.ttl.bz2', lines=30)"
   ]
  },
  {
   "cell_type": "code",
   "execution_count": 27,
   "metadata": {},
   "outputs": [
    {
     "name": "stderr",
     "output_type": "stream",
     "text": [
      "35654it [00:00, 118694.34it/s]"
     ]
    },
    {
     "name": "stdout",
     "output_type": "stream",
     "text": [
      "b'<http://dbpedia.org/resource/Computer_music> <http://www.w3.org/2000/01/rdf-schema#seeAlso> <http://dbpedia.org/resource/Machine_learning> .\\n'\n",
      "b'<http://dbpedia.org/resource/Data_compression> <http://www.w3.org/2000/01/rdf-schema#seeAlso> <http://dbpedia.org/resource/Machine_learning> .\\n'\n"
     ]
    },
    {
     "name": "stderr",
     "output_type": "stream",
     "text": [
      "64400it [00:00, 128597.58it/s]"
     ]
    },
    {
     "name": "stdout",
     "output_type": "stream",
     "text": [
      "b'<http://dbpedia.org/resource/Artificial_neural_network> <http://www.w3.org/2000/01/rdf-schema#seeAlso> <http://dbpedia.org/resource/Machine_learning> .\\n'\n"
     ]
    },
    {
     "name": "stderr",
     "output_type": "stream",
     "text": [
      "511521it [00:04, 123347.68it/s]"
     ]
    },
    {
     "name": "stdout",
     "output_type": "stream",
     "text": [
      "b'<http://dbpedia.org/resource/Vladimir_Vapnik> <http://dbpedia.org/ontology/field> <http://dbpedia.org/resource/Machine_learning> .\\n'\n"
     ]
    },
    {
     "name": "stderr",
     "output_type": "stream",
     "text": [
      "537621it [00:04, 123470.07it/s]"
     ]
    },
    {
     "name": "stdout",
     "output_type": "stream",
     "text": [
      "b'<http://dbpedia.org/resource/Machine_learning> <http://www.w3.org/2000/01/rdf-schema#seeAlso> <http://dbpedia.org/resource/Timeline_of_machine_learning> .\\n'\n"
     ]
    },
    {
     "name": "stderr",
     "output_type": "stream",
     "text": [
      "753453it [00:06, 124561.36it/s]"
     ]
    },
    {
     "name": "stdout",
     "output_type": "stream",
     "text": [
      "b'<http://dbpedia.org/resource/Computing_Machinery_and_Intelligence> <http://www.w3.org/2000/01/rdf-schema#seeAlso> <http://dbpedia.org/resource/Machine_learning> .\\n'\n"
     ]
    },
    {
     "name": "stderr",
     "output_type": "stream",
     "text": [
      "871064it [00:07, 121059.41it/s]"
     ]
    },
    {
     "name": "stdout",
     "output_type": "stream",
     "text": [
      "b'<http://dbpedia.org/resource/Geoffrey_Hinton> <http://dbpedia.org/ontology/field> <http://dbpedia.org/resource/Machine_learning> .\\n'\n"
     ]
    },
    {
     "name": "stderr",
     "output_type": "stream",
     "text": [
      "1483802it [00:12, 122357.24it/s]"
     ]
    },
    {
     "name": "stdout",
     "output_type": "stream",
     "text": [
      "b'<http://dbpedia.org/resource/Conference_on_Neural_Information_Processing_Systems> <http://dbpedia.org/ontology/academicDiscipline> <http://dbpedia.org/resource/Machine_learning> .\\n'\n"
     ]
    },
    {
     "name": "stderr",
     "output_type": "stream",
     "text": [
      "2437543it [00:19, 126998.22it/s]"
     ]
    },
    {
     "name": "stdout",
     "output_type": "stream",
     "text": [
      "b'<http://dbpedia.org/resource/Orange_(software)> <http://dbpedia.org/ontology/genre> <http://dbpedia.org/resource/Machine_learning> .\\n'\n"
     ]
    },
    {
     "name": "stderr",
     "output_type": "stream",
     "text": [
      "2526080it [00:19, 127573.70it/s]"
     ]
    },
    {
     "name": "stdout",
     "output_type": "stream",
     "text": [
      "b'<http://dbpedia.org/resource/David_J._C._MacKay> <http://dbpedia.org/ontology/field> <http://dbpedia.org/resource/Machine_learning> .\\n'\n"
     ]
    },
    {
     "name": "stderr",
     "output_type": "stream",
     "text": [
      "2850983it [00:22, 128522.14it/s]"
     ]
    },
    {
     "name": "stdout",
     "output_type": "stream",
     "text": [
      "b'<http://dbpedia.org/resource/Demis_Hassabis> <http://dbpedia.org/ontology/field> <http://dbpedia.org/resource/Machine_learning> .\\n'\n"
     ]
    },
    {
     "name": "stderr",
     "output_type": "stream",
     "text": [
      "3126642it [00:24, 127877.51it/s]"
     ]
    },
    {
     "name": "stdout",
     "output_type": "stream",
     "text": [
      "b'<http://dbpedia.org/resource/Weka_(machine_learning)> <http://dbpedia.org/ontology/genre> <http://dbpedia.org/resource/Machine_learning> .\\n'\n"
     ]
    },
    {
     "name": "stderr",
     "output_type": "stream",
     "text": [
      "3801848it [00:29, 128693.55it/s]"
     ]
    },
    {
     "name": "stdout",
     "output_type": "stream",
     "text": [
      "b'<http://dbpedia.org/resource/Mallet_(software_project)> <http://dbpedia.org/ontology/genre> <http://dbpedia.org/resource/Machine_learning> .\\n'\n"
     ]
    },
    {
     "name": "stderr",
     "output_type": "stream",
     "text": [
      "3955332it [00:30, 128799.18it/s]"
     ]
    },
    {
     "name": "stdout",
     "output_type": "stream",
     "text": [
      "b'<http://dbpedia.org/resource/Machine_Learning_(journal)> <http://dbpedia.org/ontology/academicDiscipline> <http://dbpedia.org/resource/Machine_learning> .\\n'\n",
      "b'<http://dbpedia.org/resource/Journal_of_Machine_Learning_Research> <http://dbpedia.org/ontology/academicDiscipline> <http://dbpedia.org/resource/Machine_learning> .\\n'\n"
     ]
    },
    {
     "name": "stderr",
     "output_type": "stream",
     "text": [
      "4836827it [00:37, 128649.75it/s]"
     ]
    },
    {
     "name": "stdout",
     "output_type": "stream",
     "text": [
      "b'<http://dbpedia.org/resource/Stephen_Muggleton> <http://dbpedia.org/ontology/field> <http://dbpedia.org/resource/Machine_learning> .\\n'\n"
     ]
    },
    {
     "name": "stderr",
     "output_type": "stream",
     "text": [
      "5077929it [00:39, 129025.38it/s]"
     ]
    },
    {
     "name": "stdout",
     "output_type": "stream",
     "text": [
      "b'<http://dbpedia.org/resource/David_Lary> <http://dbpedia.org/ontology/knownFor> <http://dbpedia.org/resource/Machine_learning> .\\n'\n"
     ]
    },
    {
     "name": "stderr",
     "output_type": "stream",
     "text": [
      "5133821it [00:39, 128965.60it/s]"
     ]
    },
    {
     "name": "stdout",
     "output_type": "stream",
     "text": [
      "b'<http://dbpedia.org/resource/Christopher_Bishop> <http://dbpedia.org/ontology/field> <http://dbpedia.org/resource/Machine_learning> .\\n'\n"
     ]
    },
    {
     "name": "stderr",
     "output_type": "stream",
     "text": [
      "5326231it [00:41, 128397.76it/s]"
     ]
    },
    {
     "name": "stdout",
     "output_type": "stream",
     "text": [
      "b'<http://dbpedia.org/resource/Roger_Jones_(physicist)> <http://dbpedia.org/ontology/field> <http://dbpedia.org/resource/Machine_learning> .\\n'\n"
     ]
    },
    {
     "name": "stderr",
     "output_type": "stream",
     "text": [
      "5365571it [00:41, 128387.68it/s]"
     ]
    },
    {
     "name": "stdout",
     "output_type": "stream",
     "text": [
      "b'<http://dbpedia.org/resource/Shogun_(toolbox)> <http://dbpedia.org/ontology/genre> <http://dbpedia.org/resource/Machine_learning> .\\n'\n"
     ]
    },
    {
     "name": "stderr",
     "output_type": "stream",
     "text": [
      "5720186it [00:44, 128346.81it/s]"
     ]
    },
    {
     "name": "stdout",
     "output_type": "stream",
     "text": [
      "b'<http://dbpedia.org/resource/Arthur_Samuel> <http://dbpedia.org/ontology/knownFor> <http://dbpedia.org/resource/Machine_learning> .\\n'\n"
     ]
    },
    {
     "name": "stderr",
     "output_type": "stream",
     "text": [
      "5832120it [00:45, 128456.80it/s]"
     ]
    },
    {
     "name": "stdout",
     "output_type": "stream",
     "text": [
      "b'<http://dbpedia.org/resource/Michael_Collins_(computational_linguist)> <http://dbpedia.org/ontology/field> <http://dbpedia.org/resource/Machine_learning> .\\n'\n"
     ]
    },
    {
     "name": "stderr",
     "output_type": "stream",
     "text": [
      "6935088it [00:53, 129939.54it/s]"
     ]
    },
    {
     "name": "stdout",
     "output_type": "stream",
     "text": [
      "b'<http://dbpedia.org/resource/Alexey_Grigorevich_Ivakhnenko> <http://dbpedia.org/ontology/field> <http://dbpedia.org/resource/Machine_learning> .\\n'\n"
     ]
    },
    {
     "name": "stderr",
     "output_type": "stream",
     "text": [
      "9071918it [01:08, 131729.28it/s]"
     ]
    },
    {
     "name": "stdout",
     "output_type": "stream",
     "text": [
      "b'<http://dbpedia.org/resource/Pierre_Baldi> <http://dbpedia.org/ontology/knownFor> <http://dbpedia.org/resource/Machine_learning> .\\n'\n"
     ]
    },
    {
     "name": "stderr",
     "output_type": "stream",
     "text": [
      "10892075it [01:22, 131795.88it/s]"
     ]
    },
    {
     "name": "stdout",
     "output_type": "stream",
     "text": [
      "b'<http://dbpedia.org/resource/Neurocomputing_(journal)> <http://dbpedia.org/ontology/academicDiscipline> <http://dbpedia.org/resource/Machine_learning> .\\n'\n"
     ]
    },
    {
     "name": "stderr",
     "output_type": "stream",
     "text": [
      "12017151it [01:31, 131856.30it/s]"
     ]
    },
    {
     "name": "stdout",
     "output_type": "stream",
     "text": [
      "b'<http://dbpedia.org/resource/Ofer_Dekel_(researcher)> <http://dbpedia.org/ontology/field> <http://dbpedia.org/resource/Machine_learning> .\\n'\n"
     ]
    },
    {
     "name": "stderr",
     "output_type": "stream",
     "text": [
      "12191666it [01:32, 131773.66it/s]"
     ]
    },
    {
     "name": "stdout",
     "output_type": "stream",
     "text": [
      "b'<http://dbpedia.org/resource/Feature_Selection_Toolbox> <http://dbpedia.org/ontology/genre> <http://dbpedia.org/resource/Machine_learning> .\\n'\n"
     ]
    },
    {
     "name": "stderr",
     "output_type": "stream",
     "text": [
      "12803842it [01:37, 131946.60it/s]"
     ]
    },
    {
     "name": "stdout",
     "output_type": "stream",
     "text": [
      "b'<http://dbpedia.org/resource/Olga_Troyanskaya> <http://dbpedia.org/ontology/field> <http://dbpedia.org/resource/Machine_learning> .\\n'\n"
     ]
    },
    {
     "name": "stderr",
     "output_type": "stream",
     "text": [
      "12904658it [01:37, 131831.04it/s]"
     ]
    },
    {
     "name": "stdout",
     "output_type": "stream",
     "text": [
      "b'<http://dbpedia.org/resource/Mark_S._Cohen> <http://dbpedia.org/ontology/field> <http://dbpedia.org/resource/Machine_learning> .\\n'\n",
      "b'<http://dbpedia.org/resource/Sepp_Hochreiter> <http://dbpedia.org/ontology/field> <http://dbpedia.org/resource/Machine_learning> .\\n'\n"
     ]
    },
    {
     "name": "stderr",
     "output_type": "stream",
     "text": [
      "13264076it [01:40, 131865.57it/s]"
     ]
    },
    {
     "name": "stdout",
     "output_type": "stream",
     "text": [
      "b'<http://dbpedia.org/resource/Tom_M._Mitchell> <http://dbpedia.org/ontology/field> <http://dbpedia.org/resource/Machine_learning> .\\n'\n"
     ]
    },
    {
     "name": "stderr",
     "output_type": "stream",
     "text": [
      "13323778it [01:41, 131908.08it/s]"
     ]
    },
    {
     "name": "stdout",
     "output_type": "stream",
     "text": [
      "b'<http://dbpedia.org/resource/Scikit-learn> <http://dbpedia.org/ontology/genre> <http://dbpedia.org/resource/Machine_learning> .\\n'\n"
     ]
    },
    {
     "name": "stderr",
     "output_type": "stream",
     "text": [
      "13458310it [01:41, 132013.79it/s]"
     ]
    },
    {
     "name": "stdout",
     "output_type": "stream",
     "text": [
      "b'<http://dbpedia.org/resource/Mlpy> <http://dbpedia.org/ontology/genre> <http://dbpedia.org/resource/Machine_learning> .\\n'\n"
     ]
    },
    {
     "name": "stderr",
     "output_type": "stream",
     "text": [
      "13531361it [01:42, 132064.33it/s]"
     ]
    },
    {
     "name": "stdout",
     "output_type": "stream",
     "text": [
      "b'<http://dbpedia.org/resource/Robert_F._Murphy_(computational_biologist)> <http://dbpedia.org/ontology/field> <http://dbpedia.org/resource/Machine_learning> .\\n'\n"
     ]
    },
    {
     "name": "stderr",
     "output_type": "stream",
     "text": [
      "13690095it [01:43, 132108.33it/s]"
     ]
    },
    {
     "name": "stdout",
     "output_type": "stream",
     "text": [
      "b'<http://dbpedia.org/resource/Vowpal_Wabbit> <http://dbpedia.org/ontology/genre> <http://dbpedia.org/resource/Machine_learning> .\\n'\n"
     ]
    },
    {
     "name": "stderr",
     "output_type": "stream",
     "text": [
      "13790769it [01:44, 132137.59it/s]"
     ]
    },
    {
     "name": "stdout",
     "output_type": "stream",
     "text": [
      "b'<http://dbpedia.org/resource/Yasuo_Matsuyama> <http://dbpedia.org/ontology/field> <http://dbpedia.org/resource/Machine_learning> .\\n'\n"
     ]
    },
    {
     "name": "stderr",
     "output_type": "stream",
     "text": [
      "14333590it [01:48, 132242.77it/s]"
     ]
    },
    {
     "name": "stdout",
     "output_type": "stream",
     "text": [
      "b'<http://dbpedia.org/resource/Pedro_Pedrosa_Mendes> <http://dbpedia.org/ontology/field> <http://dbpedia.org/resource/Machine_learning> .\\n'\n"
     ]
    },
    {
     "name": "stderr",
     "output_type": "stream",
     "text": [
      "14900482it [01:52, 132376.25it/s]"
     ]
    },
    {
     "name": "stdout",
     "output_type": "stream",
     "text": [
      "b'<http://dbpedia.org/resource/Burkhard_Rost> <http://dbpedia.org/ontology/field> <http://dbpedia.org/resource/Machine_learning> .\\n'\n",
      "b'<http://dbpedia.org/resource/Burkhard_Rost> <http://dbpedia.org/ontology/knownFor> <http://dbpedia.org/resource/Machine_learning> .\\n'\n"
     ]
    },
    {
     "name": "stderr",
     "output_type": "stream",
     "text": [
      "14972233it [01:53, 132407.36it/s]"
     ]
    },
    {
     "name": "stdout",
     "output_type": "stream",
     "text": [
      "b'<http://dbpedia.org/resource/Dlib> <http://dbpedia.org/ontology/genre> <http://dbpedia.org/resource/Machine_learning> .\\n'\n",
      "b'<http://dbpedia.org/resource/Ross_D._King> <http://dbpedia.org/ontology/field> <http://dbpedia.org/resource/Machine_learning> .\\n'\n"
     ]
    },
    {
     "name": "stderr",
     "output_type": "stream",
     "text": [
      "15055402it [01:53, 132409.68it/s]"
     ]
    },
    {
     "name": "stdout",
     "output_type": "stream",
     "text": [
      "b'<http://dbpedia.org/resource/Rayid_Ghani> <http://dbpedia.org/ontology/field> <http://dbpedia.org/resource/Machine_learning> .\\n'\n"
     ]
    },
    {
     "name": "stderr",
     "output_type": "stream",
     "text": [
      "15149179it [01:54, 132371.14it/s]"
     ]
    },
    {
     "name": "stdout",
     "output_type": "stream",
     "text": [
      "b'<http://dbpedia.org/resource/Jubatus> <http://dbpedia.org/ontology/genre> <http://dbpedia.org/resource/Machine_learning> .\\n'\n"
     ]
    },
    {
     "name": "stderr",
     "output_type": "stream",
     "text": [
      "15327090it [01:55, 132246.36it/s]"
     ]
    },
    {
     "name": "stdout",
     "output_type": "stream",
     "text": [
      "b'<http://dbpedia.org/resource/H2O_(software)> <http://dbpedia.org/ontology/genre> <http://dbpedia.org/resource/Machine_learning> .\\n'\n"
     ]
    },
    {
     "name": "stderr",
     "output_type": "stream",
     "text": [
      "16109005it [02:01, 132550.48it/s]"
     ]
    },
    {
     "name": "stdout",
     "output_type": "stream",
     "text": [
      "b'<http://dbpedia.org/resource/Ziv_Bar-Joseph> <http://dbpedia.org/ontology/field> <http://dbpedia.org/resource/Machine_learning> .\\n'\n",
      "b'<http://dbpedia.org/resource/Michael_Sternberg> <http://dbpedia.org/ontology/field> <http://dbpedia.org/resource/Machine_learning> .\\n'\n"
     ]
    },
    {
     "name": "stderr",
     "output_type": "stream",
     "text": [
      "16164619it [02:01, 132559.01it/s]"
     ]
    },
    {
     "name": "stdout",
     "output_type": "stream",
     "text": [
      "b'<http://dbpedia.org/resource/Apache_Spark> <http://dbpedia.org/ontology/genre> <http://dbpedia.org/resource/Machine_learning> .\\n'\n"
     ]
    },
    {
     "name": "stderr",
     "output_type": "stream",
     "text": [
      "16294869it [02:03, 132474.41it/s]"
     ]
    },
    {
     "name": "stdout",
     "output_type": "stream",
     "text": [
      "b'<http://dbpedia.org/resource/Torch_(machine_learning)> <http://dbpedia.org/ontology/genre> <http://dbpedia.org/resource/Machine_learning> .\\n'\n"
     ]
    },
    {
     "name": "stderr",
     "output_type": "stream",
     "text": [
      "16891081it [02:07, 132606.34it/s]"
     ]
    },
    {
     "name": "stdout",
     "output_type": "stream",
     "text": [
      "b'<http://dbpedia.org/resource/Fei-Fei_Li> <http://dbpedia.org/ontology/knownFor> <http://dbpedia.org/resource/Machine_learning> .\\n'\n"
     ]
    },
    {
     "name": "stderr",
     "output_type": "stream",
     "text": [
      "17006896it [02:08, 132538.17it/s]"
     ]
    },
    {
     "name": "stdout",
     "output_type": "stream",
     "text": [
      "b'<http://dbpedia.org/resource/Brendan_Frey> <http://dbpedia.org/ontology/field> <http://dbpedia.org/resource/Machine_learning> .\\n'\n",
      "b'<http://dbpedia.org/resource/Ryszard_S._Michalski> <http://dbpedia.org/ontology/field> <http://dbpedia.org/resource/Machine_learning> .\\n'\n"
     ]
    },
    {
     "name": "stderr",
     "output_type": "stream",
     "text": [
      "17137423it [02:09, 132597.89it/s]"
     ]
    },
    {
     "name": "stdout",
     "output_type": "stream",
     "text": [
      "b'<http://dbpedia.org/resource/Zhou_Zhihua> <http://dbpedia.org/ontology/field> <http://dbpedia.org/resource/Machine_learning> .\\n'\n"
     ]
    },
    {
     "name": "stderr",
     "output_type": "stream",
     "text": [
      "17196171it [02:09, 132617.29it/s]"
     ]
    },
    {
     "name": "stdout",
     "output_type": "stream",
     "text": [
      "b'<http://dbpedia.org/resource/Distributed_R> <http://dbpedia.org/ontology/genre> <http://dbpedia.org/resource/Machine_learning> .\\n'\n"
     ]
    },
    {
     "name": "stderr",
     "output_type": "stream",
     "text": [
      "17532807it [02:12, 132635.94it/s]"
     ]
    },
    {
     "name": "stdout",
     "output_type": "stream",
     "text": [
      "b'<http://dbpedia.org/resource/Neural_Designer> <http://dbpedia.org/ontology/genre> <http://dbpedia.org/resource/Machine_learning> .\\n'\n"
     ]
    },
    {
     "name": "stderr",
     "output_type": "stream",
     "text": [
      "17800826it [02:14, 132607.10it/s]"
     ]
    },
    {
     "name": "stdout",
     "output_type": "stream",
     "text": [
      "b'<http://dbpedia.org/resource/Pedro_Domingos> <http://dbpedia.org/ontology/field> <http://dbpedia.org/resource/Machine_learning> .\\n'\n"
     ]
    },
    {
     "name": "stderr",
     "output_type": "stream",
     "text": [
      "18086989it [02:16, 132691.48it/s]"
     ]
    },
    {
     "name": "stdout",
     "output_type": "stream",
     "text": [
      "b'<http://dbpedia.org/resource/Shane_Legg> <http://dbpedia.org/ontology/field> <http://dbpedia.org/resource/Machine_learning> .\\n'\n"
     ]
    },
    {
     "name": "stderr",
     "output_type": "stream",
     "text": [
      "18146314it [02:16, 132707.52it/s]"
     ]
    },
    {
     "name": "stdout",
     "output_type": "stream",
     "text": [
      "b'<http://dbpedia.org/resource/Chih-Jen_Lin> <http://dbpedia.org/ontology/field> <http://dbpedia.org/resource/Machine_learning> .\\n'\n"
     ]
    },
    {
     "name": "stderr",
     "output_type": "stream",
     "text": [
      "18200340it [02:17, 132662.96it/s]"
     ]
    },
    {
     "name": "stdout",
     "output_type": "stream",
     "text": [
      "b'<http://dbpedia.org/resource/Xgboost> <http://dbpedia.org/ontology/genre> <http://dbpedia.org/resource/Machine_learning> .\\n'\n"
     ]
    },
    {
     "name": "stderr",
     "output_type": "stream",
     "text": [
      "18254422it [02:17, 132664.45it/s]"
     ]
    },
    {
     "name": "stdout",
     "output_type": "stream",
     "text": [
      "b'<http://dbpedia.org/resource/CNTK> <http://dbpedia.org/ontology/genre> <http://dbpedia.org/resource/Machine_learning> .\\n'\n"
     ]
    },
    {
     "name": "stderr",
     "output_type": "stream",
     "text": [
      "18677480it [02:20, 132493.81it/s]"
     ]
    },
    {
     "name": "stdout",
     "output_type": "stream",
     "text": [
      "b'<http://dbpedia.org/resource/Nancy_Fulda> <http://purl.org/dc/elements/1.1/subject> <http://dbpedia.org/resource/Machine_learning> .\\n'\n"
     ]
    },
    {
     "name": "stderr",
     "output_type": "stream",
     "text": [
      "18740938it [02:21, 132456.54it/s]"
     ]
    },
    {
     "name": "stdout",
     "output_type": "stream",
     "text": [
      "b'<http://dbpedia.org/resource/Klaus-Robert_M\\xc3\\xbcller> <http://dbpedia.org/ontology/field> <http://dbpedia.org/resource/Machine_learning> .\\n'\n",
      "b'<http://dbpedia.org/resource/Klaus-Robert_M\\xc3\\xbcller> <http://dbpedia.org/ontology/knownFor> <http://dbpedia.org/resource/Machine_learning> .\\n'\n"
     ]
    },
    {
     "name": "stderr",
     "output_type": "stream",
     "text": [
      "18746176it [02:21, 132451.73it/s]\n"
     ]
    }
   ],
   "source": [
    "search_file('../mappingbased_objects_en.ttl.bz2', 'Machine_learning')"
   ]
  },
  {
   "cell_type": "markdown",
   "metadata": {},
   "source": [
    "## Infobox properties mapped"
   ]
  },
  {
   "cell_type": "markdown",
   "metadata": {},
   "source": [
    "## Page links"
   ]
  },
  {
   "cell_type": "code",
   "execution_count": 32,
   "metadata": {},
   "outputs": [
    {
     "name": "stdout",
     "output_type": "stream",
     "text": [
      "b'# started 2017-04-04T13:10:48Z\\n'\n",
      "b'<http://dbpedia.org/resource/AccessibleComputing> <http://dbpedia.org/ontology/wikiPageWikiLink> <http://dbpedia.org/resource/Computer_accessibility> .\\n'\n",
      "b'<http://dbpedia.org/resource/AfghanistanHistory> <http://dbpedia.org/ontology/wikiPageWikiLink> <http://dbpedia.org/resource/History_of_Afghanistan> .\\n'\n",
      "b'<http://dbpedia.org/resource/AfghanistanGeography> <http://dbpedia.org/ontology/wikiPageWikiLink> <http://dbpedia.org/resource/Geography_of_Afghanistan> .\\n'\n",
      "b'<http://dbpedia.org/resource/AfghanistanPeople> <http://dbpedia.org/ontology/wikiPageWikiLink> <http://dbpedia.org/resource/Demographics_of_Afghanistan> .\\n'\n",
      "b'<http://dbpedia.org/resource/AfghanistanCommunications> <http://dbpedia.org/ontology/wikiPageWikiLink> <http://dbpedia.org/resource/Communications_in_Afghanistan> .\\n'\n",
      "b'<http://dbpedia.org/resource/AfghanistanTransportations> <http://dbpedia.org/ontology/wikiPageWikiLink> <http://dbpedia.org/resource/Transport_in_Afghanistan> .\\n'\n",
      "b'<http://dbpedia.org/resource/AfghanistanMilitary> <http://dbpedia.org/ontology/wikiPageWikiLink> <http://dbpedia.org/resource/Afghan_Armed_Forces> .\\n'\n",
      "b'<http://dbpedia.org/resource/AfghanistanTransnationalIssues> <http://dbpedia.org/ontology/wikiPageWikiLink> <http://dbpedia.org/resource/Foreign_relations_of_Afghanistan> .\\n'\n",
      "b'<http://dbpedia.org/resource/AssistiveTechnology> <http://dbpedia.org/ontology/wikiPageWikiLink> <http://dbpedia.org/resource/Assistive_technology> .\\n'\n",
      "b'<http://dbpedia.org/resource/AmoeboidTaxa> <http://dbpedia.org/ontology/wikiPageWikiLink> <http://dbpedia.org/resource/Amoeba> .\\n'\n"
     ]
    }
   ],
   "source": [
    "preview_file('../page_links_en.ttl.bz2')"
   ]
  },
  {
   "cell_type": "code",
   "execution_count": 34,
   "metadata": {},
   "outputs": [
    {
     "name": "stderr",
     "output_type": "stream",
     "text": [
      "\n",
      "\n",
      "0it [00:00, ?it/s]\u001b[A\u001b[A\n",
      "\n",
      "11812it [00:00, 116297.58it/s]\u001b[A\u001b[A\n",
      "\n",
      "25539it [00:00, 124527.67it/s]\u001b[A\u001b[A\n",
      "\n",
      "38501it [00:00, 125613.46it/s]\u001b[A\u001b[A\n",
      "\n",
      "51666it [00:00, 126195.35it/s]\u001b[A\u001b[A\n",
      "\n",
      "65269it [00:00, 128087.71it/s]\u001b[A\u001b[A\n",
      "\n",
      "77446it [00:00, 126160.67it/s]\u001b[A\u001b[A\n",
      "\n",
      "90733it [00:00, 126009.50it/s]\u001b[A\u001b[A"
     ]
    },
    {
     "name": "stdout",
     "output_type": "stream",
     "text": [
      "b'<http://dbpedia.org/resource/Artificial_intelligence> <http://dbpedia.org/ontology/wikiPageWikiLink> <http://dbpedia.org/resource/Unsupervised_learning> .\\n'\n"
     ]
    },
    {
     "name": "stderr",
     "output_type": "stream",
     "text": [
      "\n",
      "\n",
      "103216it [00:00, 125821.93it/s]\u001b[A\u001b[A\n",
      "\n",
      "116361it [00:00, 126147.52it/s]\u001b[A\u001b[A\n",
      "\n",
      "130604it [00:01, 127824.70it/s]\u001b[A\u001b[A\n",
      "\n",
      "144996it [00:01, 129230.64it/s]\u001b[A\u001b[A\n",
      "\n",
      "158832it [00:01, 129946.88it/s]\u001b[A\u001b[A\n",
      "\n",
      "173147it [00:01, 130955.10it/s]\u001b[A\u001b[A\n",
      "\n",
      "186840it [00:01, 131279.21it/s]\u001b[A\u001b[A\n",
      "\n",
      "201372it [00:01, 132206.73it/s]\u001b[A\u001b[A\n",
      "\n",
      "215277it [00:01, 132386.03it/s]\u001b[A\u001b[A\n",
      "\n",
      "229076it [00:01, 131687.46it/s]\u001b[A\u001b[A\n",
      "\n",
      "242765it [00:01, 131986.73it/s]\u001b[A\u001b[A\n",
      "\n",
      "256188it [00:01, 131036.96it/s]\u001b[A\u001b[A\n",
      "\n",
      "269090it [00:02, 130738.36it/s]\u001b[A\u001b[A\n",
      "\n",
      "283471it [00:02, 131365.58it/s]\u001b[A\u001b[A\n",
      "\n",
      "296723it [00:02, 130968.26it/s]\u001b[A\u001b[A\n",
      "\n",
      "309685it [00:02, 130749.94it/s]\u001b[A\u001b[A\n",
      "\n",
      "322548it [00:02, 130197.55it/s]\u001b[A\u001b[A\n",
      "\n",
      "335089it [00:02, 129822.94it/s]\u001b[A\u001b[A\n",
      "\n",
      "347657it [00:02, 129650.11it/s]\u001b[A\u001b[A\n",
      "\n",
      "360256it [00:02, 129505.06it/s]\u001b[A\u001b[A\n",
      "\n",
      "372754it [00:02, 129109.06it/s]\u001b[A\u001b[A\n",
      "\n",
      "385046it [00:02, 128434.42it/s]\u001b[A\u001b[A\n",
      "\n",
      "396972it [00:03, 128001.60it/s]\u001b[A\u001b[A\n",
      "\n",
      "409214it [00:03, 127813.67it/s]\u001b[A\u001b[A\n",
      "\n",
      "421154it [00:03, 127498.25it/s]\u001b[A\u001b[A\n",
      "\n",
      "433650it [00:03, 127423.26it/s]\u001b[A\u001b[A\n",
      "\n",
      "445719it [00:03, 127062.40it/s]\u001b[A\u001b[A\n",
      "\n",
      "457616it [00:03, 126340.28it/s]\u001b[A\u001b[A\n",
      "\n",
      "469119it [00:03, 126009.74it/s]\u001b[A\u001b[A\n",
      "\n",
      "480534it [00:03, 125132.38it/s]\u001b[A\u001b[A\n",
      "\n",
      "492848it [00:03, 125094.55it/s]\u001b[A\u001b[A\n",
      "\n",
      "505767it [00:04, 125190.75it/s]\u001b[A\u001b[A\n",
      "\n",
      "517577it [00:04, 124718.97it/s]\u001b[A\u001b[A\n",
      "\n",
      "529080it [00:04, 124280.13it/s]\u001b[A\u001b[A\n",
      "\n",
      "540335it [00:04, 123922.06it/s]\u001b[A\u001b[A\n",
      "\n",
      "551496it [00:04, 123593.37it/s]\u001b[A\u001b[A\n",
      "\n",
      "562607it [00:04, 122962.57it/s]\u001b[A\u001b[A\n",
      "\n",
      "573314it [00:04, 122497.44it/s]\u001b[A\u001b[A\n",
      "\n",
      "584241it [00:04, 122190.64it/s]\u001b[A\u001b[A\n",
      "\n",
      "594910it [00:04, 121660.90it/s]\u001b[A\u001b[A\n",
      "\n",
      "605295it [00:04, 121245.53it/s]\u001b[A\u001b[A\n",
      "\n",
      "615606it [00:05, 120808.58it/s]\u001b[A\u001b[A\n",
      "\n",
      "627161it [00:05, 120697.11it/s]\u001b[A\u001b[A\n",
      "\n",
      "638331it [00:05, 120531.10it/s]\u001b[A\u001b[A\n",
      "\n",
      "651050it [00:05, 120658.53it/s]\u001b[A\u001b[A\n",
      "\n",
      "663437it [00:05, 120706.55it/s]\u001b[A\u001b[A\n",
      "\n",
      "676414it [00:05, 120874.25it/s]\u001b[A\u001b[A\n",
      "\n",
      "688678it [00:05, 120893.35it/s]\u001b[A\u001b[A\n",
      "\n",
      "700800it [00:05, 120643.10it/s]\u001b[A\u001b[A\n",
      "\n",
      "712499it [00:05, 120227.12it/s]\u001b[A\u001b[A\n",
      "\n",
      "723683it [00:06, 119827.85it/s]\u001b[A\u001b[A\n",
      "\n",
      "735190it [00:06, 119733.16it/s]\u001b[A\u001b[A\n",
      "\n",
      "747419it [00:06, 119759.59it/s]\u001b[A\u001b[A\n",
      "\n",
      "759415it [00:06, 119766.08it/s]\u001b[A\u001b[A\n",
      "\n",
      "770942it [00:06, 119409.43it/s]\u001b[A\u001b[A\n",
      "\n",
      "781997it [00:06, 119197.72it/s]\u001b[A\u001b[A\n",
      "\n",
      "792918it [00:06, 118577.16it/s]\u001b[A\u001b[A\n",
      "\n",
      "803190it [00:06, 118027.43it/s]\u001b[A\u001b[A\n",
      "\n",
      "814504it [00:06, 117946.81it/s]\u001b[A\u001b[A\n",
      "\n",
      "824720it [00:07, 117469.68it/s]\u001b[A\u001b[A\n",
      "\n",
      "835122it [00:07, 117262.10it/s]\u001b[A\u001b[A\n",
      "\n",
      "845574it [00:07, 117104.32it/s]\u001b[A\u001b[A\n",
      "\n",
      "858068it [00:07, 117204.18it/s]\u001b[A\u001b[A\n",
      "\n",
      "869289it [00:07, 117132.64it/s]\u001b[A\u001b[A\n",
      "\n",
      "882577it [00:07, 117344.44it/s]\u001b[A\u001b[A\n",
      "\n",
      "894468it [00:07, 117352.42it/s]\u001b[A\u001b[A\n",
      "\n",
      "906190it [00:07, 117003.95it/s]\u001b[A\u001b[A\n",
      "\n",
      "917225it [00:07, 116682.64it/s]\u001b[A\u001b[A\n",
      "\n",
      "927809it [00:07, 116537.66it/s]\u001b[A\u001b[A\n",
      "\n",
      "938376it [00:08, 116251.75it/s]\u001b[A\u001b[A\n",
      "\n",
      "948657it [00:08, 116020.46it/s]\u001b[A\u001b[A\n",
      "\n",
      "960317it [00:08, 116025.80it/s]\u001b[A\u001b[A\n",
      "\n",
      "971971it [00:08, 116025.94it/s]\u001b[A\u001b[A\n",
      "\n",
      "983859it [00:08, 116060.63it/s]\u001b[A\u001b[A\n",
      "\n",
      "995197it [00:08, 116030.28it/s]\u001b[A\u001b[A\n",
      "\n",
      "1006429it [00:08, 115860.49it/s]\u001b[A\u001b[A\n",
      "\n",
      "1017399it [00:08, 115636.57it/s]\u001b[A\u001b[A\n",
      "\n",
      "1029007it [00:08, 115639.45it/s]\u001b[A\u001b[A\n",
      "\n",
      "1040100it [00:08, 115585.56it/s]\u001b[A\u001b[A\n",
      "\n",
      "1052395it [00:09, 115663.07it/s]\u001b[A\u001b[A\n",
      "\n",
      "1065127it [00:09, 115794.81it/s]\u001b[A\u001b[A\n",
      "\n",
      "1077724it [00:09, 115904.62it/s]\u001b[A\u001b[A\n",
      "\n",
      "1089741it [00:09, 115835.77it/s]\u001b[A\u001b[A\n",
      "\n",
      "1101473it [00:09, 115654.81it/s]\u001b[A\u001b[A\n",
      "\n",
      "1112703it [00:09, 115521.28it/s]\u001b[A\u001b[A\n",
      "\n",
      "1123702it [00:09, 115358.91it/s]\u001b[A\u001b[A\n",
      "\n",
      "1134408it [00:09, 114903.72it/s]\u001b[A\u001b[A\n",
      "\n",
      "1144358it [00:10, 114332.38it/s]\u001b[A\u001b[A\n",
      "\n",
      "1154046it [00:10, 114135.50it/s]\u001b[A\u001b[A\n",
      "\n",
      "1163296it [00:10, 113758.03it/s]\u001b[A\u001b[A\n",
      "\n",
      "1172196it [00:10, 113512.23it/s]\u001b[A\u001b[A\n",
      "\n",
      "1182056it [00:10, 113362.05it/s]\u001b[A\u001b[A\n",
      "\n",
      "1191352it [00:10, 113136.64it/s]\u001b[A\u001b[A\n",
      "\n",
      "1201131it [00:10, 112984.07it/s]\u001b[A\u001b[A\n",
      "\n",
      "1211184it [00:10, 112792.78it/s]\u001b[A\u001b[A\n",
      "\n",
      "1223313it [00:10, 112872.31it/s]\u001b[A\u001b[A\n",
      "\n",
      "1233476it [00:10, 112718.28it/s]\u001b[A\u001b[A\n",
      "\n",
      "1243483it [00:11, 112582.54it/s]\u001b[A\u001b[A\n",
      "\n",
      "1253433it [00:11, 112442.25it/s]\u001b[A\u001b[A\n",
      "\n",
      "1265592it [00:11, 112516.17it/s]\u001b[A\u001b[A\n",
      "\n",
      "1278050it [00:11, 112629.39it/s]\u001b[A\u001b[A\n",
      "3159116it [00:44, 71012.03it/s] \u001b[A\n",
      "\n",
      "1289187it [00:11, 112585.62it/s]\u001b[A\u001b[A\n",
      "\n",
      "1301385it [00:11, 112673.82it/s]\u001b[A\u001b[A\n",
      "\n",
      "1312780it [00:11, 112626.42it/s]\u001b[A\u001b[A\n",
      "\n",
      "1323971it [00:11, 112067.31it/s]\u001b[A\u001b[A\n",
      "\n",
      "1333944it [00:11, 111790.71it/s]\u001b[A\u001b[A\n",
      "\n",
      "1343837it [00:12, 111676.36it/s]\u001b[A\u001b[A\n",
      "\n",
      "1353455it [00:12, 111459.07it/s]\u001b[A\u001b[A\n",
      "\n",
      "1363379it [00:12, 111359.00it/s]\u001b[A\u001b[A\n",
      "\n",
      "1375045it [00:12, 111397.77it/s]\u001b[A\u001b[A\n",
      "\n",
      "1389562it [00:12, 111666.64it/s]\u001b[A\u001b[A\n",
      "\n",
      "1401020it [00:12, 111668.05it/s]\u001b[A\u001b[A\n",
      "\n",
      "1412384it [00:12, 111463.27it/s]\u001b[A\u001b[A\n",
      "\n",
      "1423081it [00:12, 111419.03it/s]\u001b[A\u001b[A\n",
      "\n",
      "1433733it [00:12, 111370.01it/s]\u001b[A\u001b[A\n",
      "\n",
      "1444919it [00:12, 111377.46it/s]\u001b[A\u001b[A\n",
      "\n",
      "1458073it [00:13, 111528.13it/s]\u001b[A\u001b[A\n",
      "\n",
      "1469562it [00:13, 111392.88it/s]\u001b[A\u001b[A\n",
      "\n",
      "1480496it [00:13, 111293.92it/s]\u001b[A\u001b[A\n",
      "\n",
      "1491131it [00:13, 111187.05it/s]\u001b[A\u001b[A\n",
      "\n",
      "1502111it [00:13, 111175.52it/s]\u001b[A\u001b[A\n",
      "\n",
      "1512675it [00:13, 111022.83it/s]\u001b[A\u001b[A\n",
      "\n",
      "1524286it [00:13, 111060.97it/s]\u001b[A\u001b[A\n",
      "\n",
      "1534901it [00:13, 111013.86it/s]\u001b[A\u001b[A\n",
      "\n",
      "1546683it [00:13, 111061.46it/s]\u001b[A\u001b[A\n",
      "\n",
      "1557618it [00:14, 111028.90it/s]\u001b[A\u001b[A\n",
      "\n",
      "1569321it [00:14, 111069.50it/s]\u001b[A\u001b[A\n",
      "\n",
      "1580429it [00:14, 110975.05it/s]\u001b[A\u001b[A\n",
      "\n",
      "1591179it [00:14, 110931.16it/s]\u001b[A\u001b[A\n",
      "\n",
      "1602563it [00:14, 110948.19it/s]\u001b[A\u001b[A\n",
      "\n",
      "1614654it [00:14, 111014.67it/s]\u001b[A\u001b[A\n",
      "\n",
      "1626727it [00:14, 111084.22it/s]\u001b[A\u001b[A\n",
      "\n",
      "1640160it [00:14, 111243.29it/s]\u001b[A\u001b[A\n",
      "\n",
      "1653023it [00:14, 111354.24it/s]\u001b[A\u001b[A\n",
      "\n",
      "1665327it [00:14, 111339.65it/s]\u001b[A\u001b[A\n",
      "\n",
      "1677197it [00:15, 111307.36it/s]\u001b[A\u001b[A\n",
      "\n",
      "1688731it [00:15, 111212.70it/s]\u001b[A\u001b[A\n",
      "\n",
      "1699783it [00:15, 111143.13it/s]\u001b[A\u001b[A\n",
      "\n",
      "1710542it [00:15, 111072.05it/s]\u001b[A\u001b[A"
     ]
    },
    {
     "name": "stdout",
     "output_type": "stream",
     "text": [
      "b'<http://dbpedia.org/resource/Supervised_learning> <http://dbpedia.org/ontology/wikiPageWikiLink> <http://dbpedia.org/resource/Unsupervised_learning> .\\n'\n"
     ]
    },
    {
     "name": "stderr",
     "output_type": "stream",
     "text": [
      "\n",
      "\n",
      "1721121it [00:15, 110935.47it/s]\u001b[A\u001b[A\n",
      "\n",
      "1731882it [00:15, 110915.64it/s]\u001b[A\u001b[A\n",
      "\n",
      "1743170it [00:15, 110923.41it/s]\u001b[A\u001b[A\n",
      "\n",
      "1754204it [00:15, 110921.56it/s]\u001b[A\u001b[A\n",
      "\n",
      "1767144it [00:15, 111041.34it/s]\u001b[A\u001b[A"
     ]
    },
    {
     "name": "stdout",
     "output_type": "stream",
     "text": [
      "b'<http://dbpedia.org/resource/Artificial_neural_network> <http://dbpedia.org/ontology/wikiPageWikiLink> <http://dbpedia.org/resource/Unsupervised_learning> .\\n'\n",
      "b'<http://dbpedia.org/resource/Natural_language_processing> <http://dbpedia.org/ontology/wikiPageWikiLink> <http://dbpedia.org/resource/Unsupervised_learning> .\\n'\n"
     ]
    },
    {
     "name": "stderr",
     "output_type": "stream",
     "text": [
      "\n",
      "\n",
      "1779208it [00:16, 111098.74it/s]\u001b[A\u001b[A\n",
      "\n",
      "1790806it [00:16, 111108.97it/s]\u001b[A\u001b[A\n",
      "\n",
      "1802302it [00:16, 110989.97it/s]\u001b[A\u001b[A\n",
      "\n",
      "1813239it [00:16, 110886.77it/s]\u001b[A\u001b[A\n",
      "\n",
      "1823780it [00:16, 110776.97it/s]\u001b[A\u001b[A\n",
      "\n",
      "1835348it [00:16, 110805.72it/s]\u001b[A\u001b[A\n",
      "\n",
      "1847352it [00:16, 110858.13it/s]\u001b[A\u001b[A\n",
      "\n",
      "1858368it [00:16, 110818.81it/s]\u001b[A\u001b[A\n",
      "\n",
      "1869212it [00:16, 110678.61it/s]\u001b[A\u001b[A\n",
      "\n",
      "1879546it [00:17, 110377.00it/s]\u001b[A\u001b[A\n",
      "\n",
      "1889062it [00:17, 110025.58it/s]\u001b[A\u001b[A\n",
      "\n",
      "1898739it [00:17, 109958.79it/s]\u001b[A\u001b[A\n",
      "\n",
      "1907692it [00:17, 109792.22it/s]\u001b[A\u001b[A\n",
      "\n",
      "1917783it [00:17, 109740.47it/s]\u001b[A\u001b[A\n",
      "\n",
      "1926934it [00:17, 109515.94it/s]\u001b[A\u001b[A\n",
      "\n",
      "1936310it [00:17, 109421.85it/s]\u001b[A\u001b[A\n",
      "\n",
      "1945208it [00:17, 109210.69it/s]\u001b[A\u001b[A\n",
      "\n",
      "1956362it [00:17, 109219.76it/s]\u001b[A\u001b[A\n",
      "\n",
      "1968492it [00:18, 109285.63it/s]\u001b[A\u001b[A\n",
      "\n",
      "1979738it [00:18, 109303.19it/s]\u001b[A\u001b[A\n",
      "\n",
      "1990206it [00:18, 109267.42it/s]\u001b[A\u001b[A\n",
      "\n",
      "2000624it [00:18, 109160.67it/s]\u001b[A\u001b[A\n",
      "\n",
      "2010679it [00:18, 109023.24it/s]\u001b[A\u001b[A\n",
      "\n",
      "2020331it [00:18, 108945.95it/s]\u001b[A\u001b[A\n",
      "\n",
      "2029923it [00:18, 108866.44it/s]\u001b[A\u001b[A\n",
      "\n",
      "2039497it [00:18, 108747.83it/s]\u001b[A\u001b[A\n",
      "\n",
      "2049828it [00:18, 108726.33it/s]\u001b[A\u001b[A\n",
      "\n",
      "2062534it [00:18, 108821.08it/s]\u001b[A\u001b[A\n",
      "\n",
      "2073369it [00:19, 108813.90it/s]\u001b[A\u001b[A\n",
      "\n",
      "2084016it [00:19, 108791.41it/s]\u001b[A\u001b[A\n",
      "\n",
      "2096540it [00:19, 108875.05it/s]\u001b[A\u001b[A\n",
      "\n",
      "2109239it [00:19, 108966.58it/s]\u001b[A\u001b[A\n",
      "\n",
      "2122351it [00:19, 109078.51it/s]\u001b[A\u001b[A\n",
      "\n",
      "2134968it [00:19, 109168.88it/s]\u001b[A\u001b[A\n",
      "\n",
      "2148304it [00:19, 109288.16it/s]\u001b[A\u001b[A\n",
      "\n",
      "2160861it [00:19, 109325.00it/s]\u001b[A\u001b[A\n",
      "\n",
      "2173113it [00:19, 109354.63it/s]\u001b[A\u001b[A\n",
      "\n",
      "2185608it [00:19, 109431.71it/s]\u001b[A\u001b[A\n",
      "\n",
      "2197763it [00:20, 109450.28it/s]\u001b[A\u001b[A\n",
      "\n",
      "2209653it [00:20, 109311.24it/s]\u001b[A\u001b[A\n",
      "\n",
      "2220648it [00:20, 109090.13it/s]\u001b[A\u001b[A\n",
      "\n",
      "2230735it [00:20, 108816.71it/s]\u001b[A\u001b[A\n",
      "\n",
      "2239862it [00:20, 108576.24it/s]\u001b[A\u001b[A\n",
      "\n",
      "2248995it [00:20, 108503.76it/s]\u001b[A\u001b[A\n",
      "\n",
      "2259916it [00:20, 108504.44it/s]\u001b[A\u001b[A\n",
      "\n",
      "2271111it [00:20, 108521.13it/s]\u001b[A\u001b[A\n",
      "\n",
      "2283050it [00:21, 108571.02it/s]\u001b[A\u001b[A\n",
      "\n",
      "2296152it [00:21, 108652.70it/s]\u001b[A\u001b[A\n",
      "\n",
      "2309894it [00:21, 108788.25it/s]\u001b[A\u001b[A\n",
      "\n",
      "2321776it [00:21, 108823.91it/s]\u001b[A\u001b[A\n",
      "\n",
      "2334171it [00:21, 108893.79it/s]\u001b[A\u001b[A\n",
      "\n",
      "2347125it [00:21, 108994.37it/s]\u001b[A\u001b[A\n",
      "\n",
      "2359740it [00:21, 109074.33it/s]\u001b[A\u001b[A\n",
      "\n",
      "2372129it [00:21, 109134.57it/s]\u001b[A\u001b[A\n",
      "\n",
      "2384540it [00:21, 109182.07it/s]\u001b[A\u001b[A\n",
      "\n",
      "2397121it [00:21, 109245.14it/s]\u001b[A\u001b[A\n",
      "\n",
      "2410426it [00:22, 109353.61it/s]\u001b[A\u001b[A\n",
      "\n",
      "2423311it [00:22, 109439.38it/s]\u001b[A\u001b[A\n",
      "\n",
      "2437271it [00:22, 109576.86it/s]\u001b[A\u001b[A\n",
      "\n",
      "2451155it [00:22, 109708.11it/s]\u001b[A\u001b[A\n",
      "\n",
      "2465430it [00:22, 109854.74it/s]\u001b[A\u001b[A\n",
      "\n",
      "2479080it [00:22, 109972.90it/s]\u001b[A\u001b[A\n",
      "\n",
      "2492688it [00:22, 110016.49it/s]\u001b[A\u001b[A\n",
      "\n",
      "2505761it [00:22, 110098.96it/s]\u001b[A\u001b[A\n",
      "\n",
      "2518779it [00:22, 110162.63it/s]\u001b[A\u001b[A\n",
      "\n",
      "2531601it [00:22, 110237.86it/s]\u001b[A\u001b[A\n",
      "\n",
      "2546316it [00:23, 110396.26it/s]\u001b[A\u001b[A\n",
      "\n",
      "2559682it [00:23, 110467.83it/s]\u001b[A\u001b[A\n",
      "\n",
      "2573539it [00:23, 110585.27it/s]\u001b[A\u001b[A\n",
      "\n",
      "2586886it [00:23, 110634.04it/s]\u001b[A\u001b[A\n",
      "\n",
      "2599838it [00:23, 110549.03it/s]\u001b[A\u001b[A\n",
      "\n",
      "2612077it [00:23, 110225.47it/s]\u001b[A\u001b[A\n",
      "\n",
      "2622572it [00:23, 110137.70it/s]\u001b[A\u001b[A\n",
      "\n",
      "2632627it [00:23, 110078.57it/s]\u001b[A\u001b[A\n",
      "\n",
      "2644515it [00:24, 110117.50it/s]\u001b[A\u001b[A\n",
      "\n",
      "2655527it [00:24, 110113.39it/s]\u001b[A\u001b[A\n",
      "\n",
      "2666197it [00:24, 110010.86it/s]\u001b[A\u001b[A\n",
      "\n",
      "2676419it [00:24, 109916.98it/s]\u001b[A\u001b[A\n",
      "\n",
      "2688076it [00:24, 109934.36it/s]\u001b[A\u001b[A\n",
      "\n",
      "2700685it [00:24, 109971.09it/s]\u001b[A\u001b[A\n",
      "\n",
      "2711424it [00:24, 109907.07it/s]\u001b[A\u001b[A\n",
      "\n",
      "2721864it [00:24, 109867.01it/s]\u001b[A\u001b[A\n",
      "\n",
      "2732826it [00:24, 109852.80it/s]\u001b[A\u001b[A\n",
      "\n",
      "2746467it [00:24, 109956.72it/s]\u001b[A\u001b[A\n",
      "\n",
      "2757806it [00:25, 109958.66it/s]\u001b[A\u001b[A\n",
      "\n",
      "2769046it [00:25, 109950.36it/s]\u001b[A\u001b[A\n",
      "\n",
      "2780164it [00:25, 109955.64it/s]\u001b[A\u001b[A\n",
      "\n",
      "2791278it [00:25, 109905.40it/s]\u001b[A\u001b[A\n",
      "\n",
      "2802699it [00:25, 109922.36it/s]\u001b[A\u001b[A\n",
      "\n",
      "2813644it [00:25, 109859.39it/s]\u001b[A\u001b[A\n",
      "\n",
      "2824180it [00:25, 109752.80it/s]\u001b[A\u001b[A\n",
      "\n",
      "2834169it [00:25, 109684.98it/s]\u001b[A\u001b[A\n",
      "\n",
      "2843990it [00:25, 109598.23it/s]\u001b[A\u001b[A\n",
      "\n",
      "2854355it [00:26, 109572.74it/s]\u001b[A\u001b[A\n",
      "\n",
      "2864132it [00:26, 109506.95it/s]\u001b[A\u001b[A\n",
      "\n",
      "2873786it [00:26, 109456.37it/s]\u001b[A\u001b[A\n",
      "\n",
      "2885070it [00:26, 109454.04it/s]\u001b[A\u001b[A\n",
      "\n",
      "2898528it [00:26, 109546.46it/s]\u001b[A\u001b[A\n",
      "\n",
      "2910320it [00:26, 109577.82it/s]\u001b[A\u001b[A\n",
      "\n",
      "2922148it [00:26, 109607.59it/s]\u001b[A\u001b[A\n",
      "\n",
      "2933970it [00:26, 109637.82it/s]\u001b[A\u001b[A\n",
      "\n",
      "2946716it [00:26, 109707.52it/s]\u001b[A\u001b[A\n",
      "\n",
      "2958608it [00:26, 109704.17it/s]\u001b[A\u001b[A\n",
      "\n",
      "2970234it [00:27, 109495.30it/s]\u001b[A\u001b[A\n",
      "\n",
      "2980618it [00:27, 109390.86it/s]\u001b[A\u001b[A\n",
      "\n",
      "2990393it [00:27, 109292.78it/s]\u001b[A\u001b[A\n",
      "\n",
      "3000280it [00:27, 109254.91it/s]\u001b[A\u001b[A\n",
      "\n",
      "3011097it [00:27, 109250.01it/s]\u001b[A\u001b[A\n",
      "\n",
      "3021033it [00:27, 109186.49it/s]\u001b[A\u001b[A\n",
      "\n",
      "3030783it [00:27, 109133.12it/s]\u001b[A\u001b[A\n",
      "\n",
      "3040520it [00:27, 109069.14it/s]\u001b[A\u001b[A\n",
      "\n",
      "3051884it [00:27, 109085.47it/s]\u001b[A\u001b[A\n",
      "\n",
      "3062730it [00:28, 109081.05it/s]\u001b[A\u001b[A\n",
      "\n",
      "3073020it [00:28, 109003.36it/s]\u001b[A\u001b[A\n",
      "\n",
      "3082934it [00:28, 108957.53it/s]\u001b[A\u001b[A\n",
      "\n",
      "3092747it [00:28, 108868.84it/s]\u001b[A\u001b[A\n",
      "\n",
      "3102237it [00:28, 108761.95it/s]\u001b[A\u001b[A\n",
      "\n",
      "3111800it [00:28, 108711.41it/s]\u001b[A\u001b[A\n",
      "\n",
      "3121433it [00:28, 108671.81it/s]\u001b[A\u001b[A\n",
      "\n",
      "3133596it [00:28, 108711.33it/s]\u001b[A\u001b[A\n",
      "\n",
      "3146588it [00:28, 108784.10it/s]\u001b[A\u001b[A\n",
      "\n",
      "3158543it [00:29, 108794.59it/s]\u001b[A\u001b[A\n",
      "\n",
      "3169580it [00:29, 108747.73it/s]\u001b[A\u001b[A\n",
      "\n",
      "3180241it [00:29, 108630.80it/s]\u001b[A\u001b[A\n",
      "\n",
      "3190151it [00:29, 108580.15it/s]\u001b[A\u001b[A\n",
      "\n",
      "3200137it [00:29, 108550.01it/s]\u001b[A\u001b[A\n",
      "\n",
      "3213455it [00:29, 108629.37it/s]\u001b[A\u001b[A\n",
      "\n",
      "3224324it [00:29, 108581.19it/s]\u001b[A\u001b[A\n",
      "\n",
      "3234796it [00:29, 108561.13it/s]\u001b[A\u001b[A\n",
      "\n",
      "3245203it [00:29, 108506.85it/s]\u001b[A\u001b[A\n",
      "\n",
      "3255340it [00:30, 108456.79it/s]\u001b[A\u001b[A\n",
      "\n",
      "3265236it [00:30, 108403.18it/s]\u001b[A\u001b[A\n",
      "\n",
      "3275986it [00:30, 108402.97it/s]\u001b[A\u001b[A\n",
      "\n",
      "3286429it [00:30, 108391.26it/s]\u001b[A\u001b[A\n",
      "\n",
      "3298208it [00:30, 108421.87it/s]\u001b[A\u001b[A\n",
      "\n",
      "3308859it [00:30, 108233.86it/s]\u001b[A\u001b[A\n",
      "\n",
      "3318452it [00:30, 108006.86it/s]\u001b[A\u001b[A\n",
      "\n",
      "3327053it [00:30, 107890.55it/s]\u001b[A\u001b[A\n",
      "\n",
      "3335326it [00:30, 107750.92it/s]\u001b[A\u001b[A\n",
      "\n",
      "3344532it [00:31, 107701.36it/s]\u001b[A\u001b[A\n",
      "\n",
      "3353030it [00:31, 107615.39it/s]\u001b[A\u001b[A\n",
      "\n",
      "3361856it [00:31, 107560.28it/s]\u001b[A\u001b[A\n",
      "\n",
      "3371684it [00:31, 107509.61it/s]\u001b[A\u001b[A\n",
      "\n",
      "3383448it [00:31, 107544.11it/s]\u001b[A\u001b[A\n",
      "\n",
      "3395946it [00:31, 107599.23it/s]\u001b[A\u001b[A\n",
      "\n",
      "3408075it [00:31, 107641.49it/s]\u001b[A\u001b[A\n",
      "\n",
      "3419059it [00:31, 107639.54it/s]\u001b[A\u001b[A\n",
      "\n",
      "3429966it [00:31, 107554.89it/s]\u001b[A\u001b[A\n",
      "\n",
      "3441290it [00:31, 107577.20it/s]\u001b[A\u001b[A\n",
      "\n",
      "3454714it [00:32, 107660.71it/s]\u001b[A\u001b[A\n",
      "\n",
      "3467569it [00:32, 107725.33it/s]\u001b[A\u001b[A\n",
      "\n",
      "3480732it [00:32, 107798.91it/s]\u001b[A\u001b[A\n",
      "\n",
      "3494078it [00:32, 107877.82it/s]\u001b[A\u001b[A\n",
      "\n",
      "3507441it [00:32, 107956.06it/s]\u001b[A\u001b[A\n",
      "\n",
      "3520245it [00:32, 108006.32it/s]\u001b[A\u001b[A\n",
      "\n",
      "3533158it [00:32, 108070.47it/s]\u001b[A\u001b[A\n",
      "\n",
      "3546021it [00:32, 108131.65it/s]\u001b[A\u001b[A\n",
      "\n",
      "3558975it [00:32, 108196.63it/s]\u001b[A\u001b[A\n",
      "\n",
      "3571959it [00:32, 108263.91it/s]\u001b[A\u001b[A\n",
      "\n",
      "3586164it [00:33, 108365.51it/s]\u001b[A\u001b[A\n",
      "\n",
      "3600005it [00:33, 108455.39it/s]\u001b[A\u001b[A\n",
      "\n",
      "3614316it [00:33, 108559.51it/s]\u001b[A\u001b[A\n",
      "\n",
      "3628016it [00:33, 108632.94it/s]\u001b[A\u001b[A\n",
      "\n",
      "3641572it [00:33, 108651.08it/s]\u001b[A\u001b[A\n",
      "\n",
      "3654469it [00:33, 108698.71it/s]\u001b[A\u001b[A\n",
      "\n",
      "3667332it [00:33, 108758.47it/s]\u001b[A\u001b[A\n",
      "\n",
      "3680727it [00:33, 108831.27it/s]\u001b[A\u001b[A\n",
      "\n",
      "3693693it [00:33, 108788.58it/s]\u001b[A\u001b[A\n",
      "\n",
      "3705735it [00:34, 108622.92it/s]\u001b[A\u001b[A\n",
      "\n",
      "3716387it [00:34, 108511.01it/s]\u001b[A\u001b[A\n",
      "\n",
      "3726214it [00:34, 108368.44it/s]\u001b[A\u001b[A\n",
      "\n",
      "3736192it [00:34, 108346.94it/s]\u001b[A\u001b[A\n",
      "\n",
      "3747014it [00:34, 108345.36it/s]\u001b[A\u001b[A\n",
      "\n",
      "3758222it [00:34, 108356.44it/s]\u001b[A\u001b[A\n",
      "\n",
      "3769209it [00:34, 108360.84it/s]\u001b[A\u001b[A\n",
      "\n",
      "3779859it [00:34, 108354.62it/s]\u001b[A\u001b[A"
     ]
    },
    {
     "name": "stdout",
     "output_type": "stream",
     "text": [
      "b'<http://dbpedia.org/resource/Wolfram_Mathematica> <http://dbpedia.org/ontology/wikiPageWikiLink> <http://dbpedia.org/resource/Unsupervised_learning> .\\n'\n"
     ]
    },
    {
     "name": "stderr",
     "output_type": "stream",
     "text": [
      "\n",
      "\n",
      "3790365it [00:34, 108311.56it/s]\u001b[A\u001b[A\n",
      "\n",
      "3801480it [00:35, 108319.08it/s]\u001b[A\u001b[A\n",
      "\n",
      "3812234it [00:35, 108315.59it/s]\u001b[A\u001b[A\n",
      "\n",
      "3822782it [00:35, 108300.11it/s]\u001b[A\u001b[A\n",
      "\n",
      "3833879it [00:35, 108306.94it/s]\u001b[A\u001b[A\n",
      "\n",
      "3844580it [00:35, 108300.86it/s]\u001b[A\u001b[A\n",
      "\n",
      "3855235it [00:35, 108258.72it/s]\u001b[A\u001b[A"
     ]
    },
    {
     "name": "stdout",
     "output_type": "stream",
     "text": [
      "b'<http://dbpedia.org/resource/Cerebellum> <http://dbpedia.org/ontology/wikiPageWikiLink> <http://dbpedia.org/resource/Unsupervised_learning> .\\n'\n"
     ]
    },
    {
     "name": "stderr",
     "output_type": "stream",
     "text": [
      "\n",
      "\n",
      "3865530it [00:35, 108237.42it/s]\u001b[A\u001b[A\n",
      "\n",
      "3877032it [00:35, 108256.31it/s]\u001b[A\u001b[A\n",
      "\n",
      "3887646it [00:35, 108220.04it/s]\u001b[A\u001b[A\n",
      "\n",
      "3897978it [00:36, 108201.83it/s]\u001b[A\u001b[A\n",
      "\n",
      "3909430it [00:36, 108218.38it/s]\u001b[A\u001b[A\n",
      "\n",
      "3920060it [00:36, 108198.84it/s]\u001b[A\u001b[A\n",
      "\n",
      "3930520it [00:36, 108167.16it/s]\u001b[A\u001b[A\n",
      "\n",
      "3940806it [00:36, 108142.49it/s]\u001b[A\u001b[A\n",
      "\n",
      "3952203it [00:36, 108157.40it/s]\u001b[A\u001b[A\n",
      "\n",
      "3962742it [00:36, 108134.66it/s]\u001b[A\u001b[A\n",
      "\n",
      "3975045it [00:36, 108174.58it/s]\u001b[A\u001b[A\n",
      "\n",
      "3988094it [00:36, 108234.05it/s]\u001b[A\u001b[A"
     ]
    },
    {
     "name": "stdout",
     "output_type": "stream",
     "text": [
      "b'<http://dbpedia.org/resource/John_Goldsmith_(linguist)> <http://dbpedia.org/ontology/wikiPageWikiLink> <http://dbpedia.org/resource/Unsupervised_learning> .\\n'\n"
     ]
    },
    {
     "name": "stderr",
     "output_type": "stream",
     "text": [
      "\n",
      "\n",
      "3999660it [00:36, 108250.15it/s]\u001b[A\u001b[A\n",
      "\n",
      "4013508it [00:37, 108331.61it/s]\u001b[A\u001b[A\n",
      "\n",
      "4025722it [00:37, 108365.01it/s]\u001b[A\u001b[A\n",
      "\n",
      "4037891it [00:37, 108396.16it/s]\u001b[A\u001b[A\n",
      "\n",
      "4050004it [00:37, 108376.35it/s]\u001b[A\u001b[A\n",
      "\n",
      "4061561it [00:37, 108359.21it/s]\u001b[A\u001b[A\n",
      "\n",
      "4072712it [00:37, 108358.76it/s]\u001b[A\u001b[A\n",
      "\n",
      "4083807it [00:37, 108299.27it/s]\u001b[A\u001b[A\n",
      "\n",
      "4095223it [00:37, 108318.32it/s]\u001b[A\u001b[A\n",
      "\n",
      "4108926it [00:37, 108383.14it/s]\u001b[A\u001b[A\n",
      "\n",
      "4121716it [00:38, 108433.58it/s]\u001b[A\u001b[A\n",
      "\n",
      "4136543it [00:38, 108538.49it/s]\u001b[A\u001b[A\n",
      "\n",
      "4150533it [00:38, 108621.01it/s]\u001b[A\u001b[A\n",
      "\n",
      "4163663it [00:38, 108673.49it/s]\u001b[A\u001b[A\n",
      "\n",
      "4177257it [00:38, 108739.74it/s]\u001b[A\u001b[A\n",
      "\n",
      "4190402it [00:38, 108776.50it/s]\u001b[A\u001b[A\n",
      "\n",
      "4204120it [00:38, 108848.48it/s]\u001b[A\u001b[A\n",
      "\n",
      "4217976it [00:38, 108925.46it/s]\u001b[A\u001b[A\n",
      "\n",
      "4231305it [00:38, 108979.11it/s]\u001b[A\u001b[A\n",
      "\n",
      "4244494it [00:38, 109031.54it/s]\u001b[A\u001b[A\n",
      "\n",
      "4258852it [00:39, 109119.47it/s]\u001b[A\u001b[A\n",
      "\n",
      "4272747it [00:39, 109195.50it/s]\u001b[A\u001b[A\n",
      "\n",
      "4288099it [00:39, 109308.94it/s]\u001b[A\u001b[A\n",
      "\n",
      "4302221it [00:39, 109381.21it/s]\u001b[A\u001b[A\n",
      "\n",
      "4316230it [00:39, 109430.71it/s]\u001b[A\u001b[A\n",
      "\n",
      "4329881it [00:39, 109499.36it/s]\u001b[A\u001b[A\n",
      "\n",
      "4343501it [00:39, 109557.62it/s]\u001b[A\u001b[A\n",
      "\n",
      "4356983it [00:39, 109578.36it/s]\u001b[A\u001b[A\n",
      "\n",
      "4370471it [00:39, 109641.68it/s]\u001b[A\u001b[A\n",
      "\n",
      "4384475it [00:39, 109717.37it/s]\u001b[A\u001b[A\n",
      "\n",
      "4398154it [00:40, 109785.60it/s]\u001b[A\u001b[A\n",
      "\n",
      "4412088it [00:40, 109857.39it/s]\u001b[A\u001b[A\n",
      "\n",
      "4425700it [00:40, 109924.48it/s]\u001b[A\u001b[A\n",
      "\n",
      "4440791it [00:40, 110024.16it/s]\u001b[A\u001b[A\n",
      "\n",
      "4454932it [00:40, 110102.43it/s]\u001b[A\u001b[A\n",
      "\n",
      "4469003it [00:40, 110158.76it/s]\u001b[A\u001b[A\n",
      "\n",
      "4482780it [00:40, 110218.50it/s]\u001b[A\u001b[A\n",
      "\n",
      "4496440it [00:40, 110253.98it/s]\u001b[A\u001b[A\n",
      "\n",
      "4509701it [00:40, 110244.57it/s]\u001b[A\u001b[A\n",
      "\n",
      "4522199it [00:41, 110254.29it/s]\u001b[A\u001b[A\n",
      "\n",
      "4534366it [00:41, 110264.61it/s]\u001b[A\u001b[A\n",
      "\n",
      "4546310it [00:41, 110276.59it/s]\u001b[A\u001b[A\n",
      "\n",
      "4561188it [00:41, 110370.21it/s]\u001b[A\u001b[A\n",
      "\n",
      "4575509it [00:41, 110448.41it/s]\u001b[A\u001b[A\n",
      "\n",
      "4588717it [00:41, 110489.27it/s]\u001b[A\u001b[A\n",
      "\n",
      "4602223it [00:41, 110532.98it/s]\u001b[A\u001b[A\n",
      "\n",
      "4615184it [00:41, 110498.64it/s]\u001b[A\u001b[A\n",
      "\n",
      "4627255it [00:41, 110522.75it/s]\u001b[A\u001b[A\n",
      "\n",
      "4642156it [00:41, 110612.67it/s]\u001b[A\u001b[A\n",
      "\n",
      "4656046it [00:42, 110682.08it/s]\u001b[A\u001b[A\n",
      "\n",
      "4669298it [00:42, 110733.94it/s]\u001b[A\u001b[A\n",
      "\n",
      "4682745it [00:42, 110788.65it/s]\u001b[A\u001b[A\n",
      "\n",
      "4696297it [00:42, 110846.95it/s]\u001b[A\u001b[A\n",
      "\n",
      "4709650it [00:42, 110890.12it/s]\u001b[A\u001b[A\n",
      "\n",
      "4724431it [00:42, 110976.43it/s]\u001b[A\u001b[A\n",
      "\n",
      "4738160it [00:42, 111039.49it/s]\u001b[A\u001b[A\n",
      "\n",
      "4751857it [00:42, 111079.35it/s]\u001b[A\u001b[A\n",
      "\n",
      "4765254it [00:42, 111115.80it/s]\u001b[A\u001b[A\n",
      "\n",
      "4779625it [00:42, 111191.89it/s]\u001b[A\u001b[A"
     ]
    },
    {
     "name": "stdout",
     "output_type": "stream",
     "text": [
      "b'<http://dbpedia.org/resource/Word-sense_disambiguation> <http://dbpedia.org/ontology/wikiPageWikiLink> <http://dbpedia.org/resource/Unsupervised_learning> .\\n'\n"
     ]
    },
    {
     "name": "stderr",
     "output_type": "stream",
     "text": [
      "\n",
      "\n",
      "4793137it [00:43, 111222.93it/s]\u001b[A\u001b[A\n",
      "\n",
      "4806499it [00:43, 111265.94it/s]\u001b[A\u001b[A\n",
      "\n",
      "4820902it [00:43, 111340.71it/s]\u001b[A\u001b[A\n",
      "\n",
      "4834408it [00:43, 111394.62it/s]\u001b[A\u001b[A\n",
      "\n",
      "4847919it [00:43, 111449.82it/s]\u001b[A\u001b[A\n",
      "\n",
      "4861520it [00:43, 111506.71it/s]\u001b[A\u001b[A\n",
      "\n",
      "4875173it [00:43, 111563.96it/s]\u001b[A\u001b[A\n",
      "\n",
      "4888739it [00:43, 111611.76it/s]\u001b[A\u001b[A\n",
      "\n",
      "4902204it [00:43, 111656.52it/s]\u001b[A\u001b[A\n",
      "\n",
      "4915531it [00:44, 111697.74it/s]\u001b[A\u001b[A\n",
      "\n",
      "4929132it [00:44, 111742.54it/s]\u001b[A\u001b[A\n",
      "\n",
      "4942293it [00:44, 111776.47it/s]\u001b[A\u001b[A\n",
      "\n",
      "4955295it [00:44, 111813.60it/s]\u001b[A\u001b[A\n",
      "\n",
      "4968234it [00:44, 111836.94it/s]\u001b[A\u001b[A\n",
      "\n",
      "4980933it [00:44, 111851.24it/s]\u001b[A\u001b[A\n",
      "\n",
      "4993377it [00:44, 111866.76it/s]\u001b[A\u001b[A\n",
      "\n",
      "5007253it [00:44, 111926.55it/s]\u001b[A\u001b[A"
     ]
    },
    {
     "name": "stdout",
     "output_type": "stream",
     "text": [
      "b'<http://dbpedia.org/resource/Categorization> <http://dbpedia.org/ontology/wikiPageWikiLink> <http://dbpedia.org/resource/Unsupervised_learning> .\\n'\n"
     ]
    },
    {
     "name": "stderr",
     "output_type": "stream",
     "text": [
      "\n",
      "\n",
      "5019992it [00:44, 111957.65it/s]\u001b[A\u001b[A\n",
      "\n",
      "5032684it [00:44, 111976.51it/s]\u001b[A\u001b[A\n",
      "\n",
      "5045152it [00:45, 112004.16it/s]\u001b[A\u001b[A\n",
      "\n",
      "5057663it [00:45, 112028.11it/s]\u001b[A\u001b[A\n",
      "\n",
      "5070469it [00:45, 112064.69it/s]\u001b[A\u001b[A\n",
      "\n",
      "5083935it [00:45, 112114.57it/s]\u001b[A\u001b[A\n",
      "\n",
      "5098670it [00:45, 112190.65it/s]\u001b[A\u001b[A\n",
      "\n",
      "5112059it [00:45, 112232.20it/s]\u001b[A\u001b[A\n",
      "\n",
      "5126274it [00:45, 112297.50it/s]\u001b[A\u001b[A\n",
      "\n",
      "5139832it [00:45, 112343.83it/s]\u001b[A\u001b[A\n",
      "\n",
      "5153929it [00:45, 112406.84it/s]\u001b[A\u001b[A\n",
      "\n",
      "5167994it [00:45, 112469.22it/s]\u001b[A\u001b[A\n",
      "\n",
      "5181786it [00:46, 112511.67it/s]\u001b[A\u001b[A\n",
      "\n",
      "5196678it [00:46, 112589.02it/s]\u001b[A\u001b[A"
     ]
    },
    {
     "name": "stdout",
     "output_type": "stream",
     "text": [
      "b'<http://dbpedia.org/resource/Self-organizing_map> <http://dbpedia.org/ontology/wikiPageWikiLink> <http://dbpedia.org/resource/Unsupervised_learning> .\\n'\n"
     ]
    },
    {
     "name": "stderr",
     "output_type": "stream",
     "text": [
      "\n",
      "\n",
      "5210835it [00:46, 112644.97it/s]\u001b[A\u001b[A\n",
      "\n",
      "5225786it [00:46, 112723.13it/s]\u001b[A\u001b[A\n",
      "\n",
      "5239989it [00:46, 112785.84it/s]\u001b[A\u001b[A\n",
      "\n",
      "5254175it [00:46, 112824.73it/s]\u001b[A\u001b[A\n",
      "\n",
      "5268132it [00:46, 112882.17it/s]\u001b[A\u001b[A\n",
      "\n",
      "5281976it [00:46, 112931.66it/s]\u001b[A\u001b[A\n",
      "\n",
      "5295747it [00:46, 112976.49it/s]\u001b[A\u001b[A\n",
      "\n",
      "5309414it [00:46, 113019.08it/s]\u001b[A\u001b[A\n",
      "\n",
      "5322927it [00:47, 113049.70it/s]\u001b[A\u001b[A\n",
      "\n",
      "5338250it [00:47, 113134.96it/s]\u001b[A\u001b[A\n",
      "\n",
      "5352740it [00:47, 113200.12it/s]\u001b[A\u001b[A\n",
      "\n",
      "5367483it [00:47, 113273.79it/s]\u001b[A\u001b[A\n",
      "\n",
      "5381745it [00:47, 113305.70it/s]\u001b[A\u001b[A\n",
      "\n",
      "5395534it [00:47, 113351.79it/s]\u001b[A\u001b[A\n",
      "\n",
      "5409218it [00:47, 113355.10it/s]\u001b[A\u001b[A\n",
      "\n",
      "5422238it [00:47, 113377.04it/s]\u001b[A\u001b[A\n",
      "\n",
      "5435058it [00:47, 113398.19it/s]\u001b[A\u001b[A\n",
      "\n",
      "5447714it [00:48, 113401.31it/s]\u001b[A\u001b[A\n",
      "\n",
      "5462106it [00:48, 113465.49it/s]\u001b[A\u001b[A\n",
      "\n",
      "5475038it [00:48, 113496.23it/s]\u001b[A\u001b[A\n",
      "\n",
      "5487952it [00:48, 113505.92it/s]\u001b[A\u001b[A\n",
      "\n",
      "5500526it [00:48, 113531.31it/s]\u001b[A\u001b[A\n",
      "\n",
      "5513083it [00:48, 113543.81it/s]\u001b[A\u001b[A\n",
      "\n",
      "5526431it [00:48, 113584.54it/s]\u001b[A\u001b[A\n",
      "\n",
      "5540348it [00:48, 113635.98it/s]\u001b[A\u001b[A\n",
      "\n",
      "5553386it [00:48, 113649.03it/s]\u001b[A\u001b[A\n",
      "\n",
      "5567466it [00:48, 113705.61it/s]\u001b[A\u001b[A\n",
      "\n",
      "5580590it [00:49, 113736.87it/s]\u001b[A\u001b[A\n",
      "\n",
      "5595877it [00:49, 113816.78it/s]\u001b[A\u001b[A\n",
      "\n",
      "5610552it [00:49, 113874.10it/s]\u001b[A\u001b[A\n",
      "\n",
      "5624422it [00:49, 113921.22it/s]\u001b[A\u001b[A\n",
      "\n",
      "5638912it [00:49, 113982.72it/s]\u001b[A\u001b[A\n",
      "\n",
      "5652895it [00:49, 114029.95it/s]\u001b[A\u001b[A\n",
      "\n",
      "5666787it [00:49, 114079.48it/s]\u001b[A\u001b[A\n",
      "\n",
      "5680670it [00:49, 114105.16it/s]\u001b[A\u001b[A"
     ]
    },
    {
     "name": "stdout",
     "output_type": "stream",
     "text": [
      "b'<http://dbpedia.org/resource/Boosting_(machine_learning)> <http://dbpedia.org/ontology/wikiPageWikiLink> <http://dbpedia.org/resource/Unsupervised_learning> .\\n'\n"
     ]
    },
    {
     "name": "stderr",
     "output_type": "stream",
     "text": [
      "\n",
      "\n",
      "5694149it [00:49, 114111.30it/s]\u001b[A\u001b[A\n",
      "\n",
      "5707712it [00:50, 114148.61it/s]\u001b[A\u001b[A\n",
      "\n",
      "5720738it [00:50, 114172.18it/s]\u001b[A\u001b[A\n",
      "\n",
      "5734125it [00:50, 114209.87it/s]\u001b[A\u001b[A\n",
      "\n",
      "5747155it [00:50, 114236.42it/s]\u001b[A\u001b[A\n",
      "\n",
      "5760067it [00:50, 114243.36it/s]\u001b[A\u001b[A\n",
      "\n",
      "5774190it [00:50, 114296.40it/s]\u001b[A\u001b[A\n",
      "\n",
      "5787500it [00:50, 114332.61it/s]\u001b[A\u001b[A\n",
      "\n",
      "5800615it [00:50, 114353.24it/s]\u001b[A\u001b[A\n",
      "\n",
      "5813531it [00:50, 114377.23it/s]\u001b[A\u001b[A\n",
      "\n",
      "5826327it [00:50, 114389.24it/s]\u001b[A\u001b[A\n",
      "\n",
      "5838905it [00:51, 114407.40it/s]\u001b[A\u001b[A\n",
      "\n",
      "5851410it [00:51, 114402.81it/s]\u001b[A\u001b[A\n",
      "\n",
      "5863525it [00:51, 114396.16it/s]\u001b[A\u001b[A\n",
      "\n",
      "5875348it [00:51, 114384.09it/s]\u001b[A\u001b[A\n",
      "\n",
      "5886892it [00:51, 114380.07it/s]\u001b[A\u001b[A\n",
      "\n",
      "5899436it [00:51, 114401.89it/s]\u001b[A\u001b[A\n",
      "\n",
      "5911371it [00:51, 114410.61it/s]\u001b[A\u001b[A\n",
      "\n",
      "5924022it [00:51, 114433.50it/s]\u001b[A\u001b[A\n",
      "\n",
      "5936896it [00:51, 114460.95it/s]\u001b[A\u001b[A\n",
      "\n",
      "5949672it [00:51, 114480.80it/s]\u001b[A\u001b[A\n",
      "\n",
      "5962497it [00:52, 114507.36it/s]\u001b[A\u001b[A\n",
      "\n",
      "5976223it [00:52, 114551.26it/s]\u001b[A\u001b[A\n",
      "\n",
      "5990768it [00:52, 114596.70it/s]\u001b[A\u001b[A\n",
      "\n",
      "6003885it [00:52, 114617.24it/s]\u001b[A\u001b[A\n",
      "\n",
      "6017928it [00:52, 114667.23it/s]\u001b[A\u001b[A\n",
      "\n",
      "6031200it [00:52, 114699.47it/s]\u001b[A\u001b[A\n",
      "\n",
      "6044443it [00:52, 114701.68it/s]\u001b[A\u001b[A\n",
      "\n",
      "6057557it [00:52, 114733.22it/s]\u001b[A\u001b[A\n",
      "\n",
      "6071465it [00:52, 114779.08it/s]\u001b[A\u001b[A\n",
      "\n",
      "6085099it [00:52, 114817.55it/s]\u001b[A\u001b[A\n",
      "\n",
      "6098405it [00:53, 114842.19it/s]\u001b[A\u001b[A\n",
      "\n",
      "6112600it [00:53, 114891.59it/s]\u001b[A\u001b[A"
     ]
    },
    {
     "name": "stdout",
     "output_type": "stream",
     "text": [
      "b'<http://dbpedia.org/resource/Hidden_Markov_model> <http://dbpedia.org/ontology/wikiPageWikiLink> <http://dbpedia.org/resource/Unsupervised_learning> .\\n'\n",
      "b'<http://dbpedia.org/resource/Linear_classifier> <http://dbpedia.org/ontology/wikiPageWikiLink> <http://dbpedia.org/resource/Unsupervised_learning> .\\n'\n"
     ]
    },
    {
     "name": "stderr",
     "output_type": "stream",
     "text": [
      "\n",
      "\n",
      "6126021it [00:53, 114900.14it/s]\u001b[A\u001b[A\n",
      "\n",
      "6140862it [00:53, 114951.11it/s]\u001b[A\u001b[A\n",
      "\n",
      "6154613it [00:53, 114994.02it/s]\u001b[A\u001b[A\n",
      "\n",
      "6168144it [00:53, 115030.63it/s]\u001b[A\u001b[A\n",
      "\n",
      "6181606it [00:53, 115051.13it/s]\u001b[A\u001b[A\n",
      "\n",
      "6194772it [00:53, 115079.91it/s]\u001b[A\u001b[A\n",
      "\n",
      "6208392it [00:53, 115116.42it/s]\u001b[A\u001b[A\n",
      "\n",
      "6222264it [00:54, 115160.53it/s]\u001b[A\u001b[A\n",
      "\n",
      "6236614it [00:54, 115213.17it/s]\u001b[A\u001b[A\n",
      "\n",
      "6250318it [00:54, 115253.10it/s]\u001b[A\u001b[A\n",
      "\n",
      "6264017it [00:54, 115290.28it/s]\u001b[A\u001b[A\n",
      "\n",
      "6277848it [00:54, 115332.60it/s]\u001b[A\u001b[A\n",
      "\n",
      "6291553it [00:54, 115313.54it/s]\u001b[A\u001b[A\n",
      "\n",
      "6304360it [00:54, 115302.22it/s]\u001b[A\u001b[A\n",
      "\n",
      "6316635it [00:54, 115299.16it/s]\u001b[A\u001b[A\n",
      "\n",
      "6329032it [00:54, 115315.48it/s]\u001b[A\u001b[A\n",
      "\n",
      "6341148it [00:54, 115316.98it/s]\u001b[A\u001b[A\n",
      "\n",
      "6355497it [00:55, 115366.89it/s]\u001b[A\u001b[A\n",
      "\n",
      "6370389it [00:55, 115428.12it/s]\u001b[A\u001b[A\n",
      "\n",
      "6384525it [00:55, 115475.10it/s]\u001b[A\u001b[A\n",
      "\n",
      "6398104it [00:55, 115495.16it/s]\u001b[A\u001b[A\n",
      "\n",
      "6411376it [00:55, 115521.14it/s]\u001b[A\u001b[A\n",
      "\n",
      "6424554it [00:55, 115535.57it/s]\u001b[A\u001b[A\n",
      "\n",
      "6437471it [00:55, 115548.53it/s]\u001b[A\u001b[A\n",
      "\n",
      "6450190it [00:55, 115548.24it/s]\u001b[A\u001b[A\n",
      "\n",
      "6462557it [00:55, 115547.42it/s]\u001b[A\u001b[A\n",
      "\n",
      "6476397it [00:56, 115587.01it/s]\u001b[A\u001b[A\n",
      "\n",
      "6489084it [00:56, 115605.07it/s]\u001b[A\u001b[A\n",
      "\n",
      "6501682it [00:56, 115619.54it/s]\u001b[A\u001b[A\n",
      "\n",
      "6514544it [00:56, 115642.21it/s]\u001b[A\u001b[A\n",
      "\n",
      "6529034it [00:56, 115694.02it/s]\u001b[A\u001b[A\n",
      "\n",
      "6543101it [00:56, 115738.64it/s]\u001b[A\u001b[A\n",
      "\n",
      "6556679it [00:56, 115773.46it/s]\u001b[A\u001b[A\n",
      "\n",
      "6570946it [00:56, 115820.03it/s]\u001b[A\u001b[A\n",
      "\n",
      "6584667it [00:56, 115845.28it/s]\u001b[A\u001b[A\n",
      "\n",
      "6598686it [00:56, 115887.30it/s]\u001b[A\u001b[A\n",
      "\n",
      "6613349it [00:57, 115940.90it/s]\u001b[A\u001b[A\n",
      "\n",
      "6627282it [00:57, 115973.48it/s]\u001b[A\u001b[A\n",
      "\n",
      "6641315it [00:57, 116016.68it/s]\u001b[A\u001b[A\n",
      "\n",
      "6655159it [00:57, 116054.65it/s]\u001b[A\u001b[A\n",
      "\n",
      "6669000it [00:57, 116092.25it/s]\u001b[A\u001b[A\n",
      "\n",
      "6683255it [00:57, 116137.98it/s]\u001b[A\u001b[A\n",
      "\n",
      "6697199it [00:57, 116175.57it/s]\u001b[A\u001b[A\n",
      "\n",
      "6711084it [00:57, 116197.26it/s]\u001b[A\u001b[A\n",
      "\n",
      "6725160it [00:57, 116239.29it/s]\u001b[A\u001b[A\n",
      "\n",
      "6738864it [00:57, 116248.02it/s]\u001b[A\u001b[A\n",
      "\n",
      "6752073it [00:58, 116252.60it/s]\u001b[A\u001b[A\n",
      "\n",
      "6764873it [00:58, 116256.84it/s]\u001b[A\u001b[A\n",
      "\n",
      "6777390it [00:58, 116266.34it/s]\u001b[A\u001b[A\n",
      "\n",
      "6789817it [00:58, 116280.35it/s]\u001b[A\u001b[A\n",
      "\n",
      "6803236it [00:58, 116310.64it/s]\u001b[A\u001b[A\n",
      "\n",
      "6815953it [00:58, 116328.17it/s]\u001b[A\u001b[A\n",
      "\n",
      "6830178it [00:58, 116371.80it/s]\u001b[A\u001b[A\n",
      "\n",
      "6843333it [00:58, 116357.46it/s]\u001b[A\u001b[A\n",
      "\n",
      "6855822it [00:58, 116359.97it/s]\u001b[A\u001b[A\n",
      "\n",
      "6868304it [00:59, 116373.16it/s]\u001b[A\u001b[A\n",
      "\n",
      "6880630it [00:59, 116367.39it/s]\u001b[A\u001b[A\n",
      "\n",
      "6893359it [00:59, 116385.67it/s]\u001b[A\u001b[A\n",
      "\n",
      "6905909it [00:59, 116399.70it/s]\u001b[A\u001b[A\n",
      "\n",
      "6918222it [00:59, 116409.40it/s]\u001b[A\u001b[A\n",
      "\n",
      "6931830it [00:59, 116442.60it/s]\u001b[A\u001b[A\n",
      "\n",
      "6944502it [00:59, 116457.48it/s]\u001b[A\u001b[A\n",
      "\n",
      "6958808it [00:59, 116491.86it/s]\u001b[A\u001b[A\n",
      "\n",
      "6972481it [00:59, 116526.27it/s]\u001b[A\u001b[A\n",
      "\n",
      "6986444it [00:59, 116564.48it/s]\u001b[A\u001b[A\n",
      "\n",
      "7000023it [01:00, 116596.04it/s]\u001b[A\u001b[A\n",
      "\n",
      "7013467it [01:00, 116625.35it/s]\u001b[A\u001b[A\n",
      "\n",
      "7027626it [01:00, 116666.52it/s]\u001b[A\u001b[A\n",
      "\n",
      "7041279it [01:00, 116693.92it/s]\u001b[A\u001b[A\n",
      "\n",
      "7054816it [01:00, 116700.17it/s]\u001b[A\u001b[A\n",
      "\n",
      "7067895it [01:00, 116717.95it/s]\u001b[A\u001b[A\n",
      "\n",
      "7080856it [01:00, 116715.96it/s]\u001b[A\u001b[A\n",
      "\n",
      "7095300it [01:00, 116762.07it/s]\u001b[A\u001b[A\n",
      "\n",
      "7108413it [01:00, 116777.73it/s]\u001b[A\u001b[A\n",
      "\n",
      "7121956it [01:00, 116808.02it/s]\u001b[A\u001b[A\n",
      "\n",
      "7135089it [01:01, 116823.25it/s]\u001b[A\u001b[A\n",
      "\n",
      "7150509it [01:01, 116885.35it/s]\u001b[A\u001b[A\n",
      "\n",
      "7164217it [01:01, 116910.66it/s]\u001b[A\u001b[A\n",
      "\n",
      "7177767it [01:01, 116918.93it/s]\u001b[A\u001b[A\n",
      "\n",
      "7190901it [01:01, 116903.86it/s]\u001b[A\u001b[A\n",
      "\n",
      "7203377it [01:01, 116892.80it/s]\u001b[A\u001b[A\n",
      "\n",
      "7215440it [01:01, 116879.89it/s]\u001b[A\u001b[A\n",
      "\n",
      "7227165it [01:01, 116857.66it/s]\u001b[A\u001b[A\n",
      "\n",
      "7240636it [01:01, 116887.23it/s]\u001b[A\u001b[A\n",
      "\n",
      "7253912it [01:02, 116911.95it/s]\u001b[A\u001b[A\n",
      "\n",
      "7267055it [01:02, 116929.68it/s]\u001b[A\u001b[A\n",
      "\n",
      "7280411it [01:02, 116954.76it/s]\u001b[A\u001b[A\n",
      "\n",
      "7293685it [01:02, 116980.89it/s]\u001b[A\u001b[A\n",
      "\n",
      "7306855it [01:02, 117003.50it/s]\u001b[A\u001b[A\n",
      "\n",
      "7320297it [01:02, 117031.56it/s]\u001b[A\u001b[A\n",
      "\n",
      "7333416it [01:02, 117050.93it/s]\u001b[A\u001b[A"
     ]
    },
    {
     "name": "stdout",
     "output_type": "stream",
     "text": [
      "b'<http://dbpedia.org/resource/Pattern_recognition> <http://dbpedia.org/ontology/wikiPageWikiLink> <http://dbpedia.org/resource/Unsupervised_learning> .\\n'\n"
     ]
    },
    {
     "name": "stderr",
     "output_type": "stream",
     "text": [
      "\n",
      "\n",
      "7346453it [01:02, 117055.44it/s]\u001b[A\u001b[A\n",
      "\n",
      "7359486it [01:02, 117078.59it/s]\u001b[A\u001b[A\n",
      "\n",
      "7372606it [01:02, 117097.13it/s]\u001b[A\u001b[A\n",
      "\n",
      "7387090it [01:03, 117140.18it/s]\u001b[A\u001b[A\n",
      "\n",
      "7400420it [01:03, 117155.74it/s]\u001b[A\u001b[A\n",
      "\n",
      "7413527it [01:03, 117173.14it/s]\u001b[A\u001b[A\n",
      "\n",
      "7427770it [01:03, 117212.50it/s]\u001b[A\u001b[A\n",
      "\n",
      "7441153it [01:03, 117235.02it/s]\u001b[A\u001b[A\n",
      "\n",
      "7454525it [01:03, 117259.92it/s]\u001b[A\u001b[A\n",
      "\n",
      "7467828it [01:03, 117262.36it/s]\u001b[A\u001b[A\n",
      "\n",
      "7480688it [01:03, 117270.53it/s]\u001b[A\u001b[A\n",
      "\n",
      "7493366it [01:03, 117272.67it/s]\u001b[A\u001b[A\n",
      "\n",
      "7505799it [01:03, 117283.02it/s]\u001b[A\u001b[A\n",
      "\n",
      "7518206it [01:04, 117286.37it/s]\u001b[A\u001b[A\n",
      "\n",
      "7531236it [01:04, 117306.73it/s]\u001b[A\u001b[A\n",
      "\n",
      "7543735it [01:04, 117316.06it/s]\u001b[A\u001b[A\n",
      "\n",
      "7556514it [01:04, 117332.72it/s]\u001b[A\u001b[A\n",
      "\n",
      "7569958it [01:04, 117360.22it/s]\u001b[A\u001b[A\n",
      "\n",
      "7583494it [01:04, 117387.45it/s]\u001b[A\u001b[A\n",
      "\n",
      "7596699it [01:04, 117409.71it/s]\u001b[A\u001b[A\n",
      "\n",
      "7609784it [01:04, 117386.70it/s]\u001b[A\u001b[A\n",
      "\n",
      "7622103it [01:04, 117374.93it/s]\u001b[A\u001b[A\n",
      "\n",
      "7634481it [01:05, 117385.30it/s]\u001b[A\u001b[A\n",
      "\n",
      "7646552it [01:05, 117384.08it/s]\u001b[A\u001b[A\n",
      "\n",
      "7658493it [01:05, 117373.54it/s]\u001b[A\u001b[A\n",
      "\n",
      "7672970it [01:05, 117415.62it/s]\u001b[A\u001b[A\n",
      "\n",
      "7685738it [01:05, 117430.53it/s]\u001b[A\u001b[A\n",
      "\n",
      "7698339it [01:05, 117441.36it/s]\u001b[A\u001b[A\n",
      "\n",
      "7711122it [01:05, 117457.26it/s]\u001b[A\u001b[A\n",
      "\n",
      "7725074it [01:05, 117491.11it/s]\u001b[A\u001b[A\n",
      "\n",
      "7738095it [01:05, 117497.02it/s]\u001b[A\u001b[A\n",
      "\n",
      "7750843it [01:05, 117510.49it/s]\u001b[A\u001b[A\n",
      "\n",
      "7765318it [01:06, 117550.62it/s]\u001b[A\u001b[A\n",
      "\n",
      "7778558it [01:06, 117573.12it/s]\u001b[A\u001b[A\n",
      "\n",
      "7792983it [01:06, 117614.00it/s]\u001b[A\u001b[A\n",
      "\n",
      "7807811it [01:06, 117660.15it/s]\u001b[A\u001b[A\n",
      "\n",
      "7823511it [01:06, 117718.06it/s]\u001b[A\u001b[A\n",
      "\n",
      "7837992it [01:06, 117753.55it/s]\u001b[A\u001b[A\n",
      "\n",
      "7852365it [01:06, 117779.57it/s]\u001b[A\u001b[A\n",
      "\n",
      "7866397it [01:06, 117797.21it/s]\u001b[A\u001b[A\n",
      "\n",
      "7880089it [01:06, 117806.69it/s]\u001b[A\u001b[A\n",
      "\n",
      "7893373it [01:06, 117816.64it/s]\u001b[A\u001b[A\n",
      "\n",
      "7906399it [01:07, 117829.12it/s]\u001b[A\u001b[A\n",
      "\n",
      "7920451it [01:07, 117861.80it/s]\u001b[A\u001b[A\n",
      "\n",
      "7934374it [01:07, 117893.66it/s]\u001b[A\u001b[A\n",
      "\n",
      "7947816it [01:07, 117908.62it/s]\u001b[A\u001b[A\n",
      "\n",
      "7961017it [01:07, 117913.77it/s]\u001b[A\u001b[A\n",
      "\n",
      "7973901it [01:07, 117904.43it/s]\u001b[A\u001b[A\n",
      "\n",
      "7986295it [01:07, 117871.78it/s]\u001b[A\u001b[A\n",
      "\n",
      "7997986it [01:07, 117850.96it/s]\u001b[A\u001b[A\n",
      "\n",
      "8009323it [01:07, 117841.61it/s]\u001b[A\u001b[A\n",
      "\n",
      "8021382it [01:08, 117845.60it/s]\u001b[A\u001b[A\n",
      "\n",
      "8032889it [01:08, 117819.21it/s]\u001b[A\u001b[A\n",
      "\n",
      "8043993it [01:08, 117779.54it/s]\u001b[A\u001b[A\n",
      "\n",
      "8054635it [01:08, 117707.79it/s]\u001b[A\u001b[A\n",
      "\n",
      "8064503it [01:08, 117631.99it/s]\u001b[A\u001b[A\n",
      "\n",
      "8073723it [01:08, 117543.15it/s]\u001b[A\u001b[A\n",
      "\n",
      "8082308it [01:08, 117496.65it/s]\u001b[A\u001b[A\n",
      "\n",
      "8092362it [01:08, 117472.63it/s]\u001b[A\u001b[A\n",
      "\n",
      "8104356it [01:08, 117475.23it/s]\u001b[A\u001b[A\n",
      "\n",
      "8117060it [01:09, 117488.96it/s]\u001b[A\u001b[A\n",
      "\n",
      "8130151it [01:09, 117508.31it/s]\u001b[A\u001b[A\n",
      "\n",
      "8143083it [01:09, 117514.73it/s]\u001b[A\u001b[A\n",
      "\n",
      "8155770it [01:09, 117527.46it/s]\u001b[A\u001b[A\n",
      "\n",
      "8167723it [01:09, 117520.59it/s]\u001b[A\u001b[A\n",
      "\n",
      "8179943it [01:09, 117527.42it/s]\u001b[A\u001b[A\n",
      "\n",
      "8192228it [01:09, 117533.96it/s]\u001b[A\u001b[A\n",
      "\n",
      "8204547it [01:09, 117541.54it/s]\u001b[A\u001b[A\n",
      "\n",
      "8217548it [01:09, 117560.40it/s]\u001b[A\u001b[A\n",
      "\n",
      "8230519it [01:10, 117577.97it/s]\u001b[A\u001b[A\n",
      "\n",
      "8243813it [01:10, 117599.72it/s]\u001b[A\u001b[A\n",
      "\n",
      "8256586it [01:10, 117605.66it/s]\u001b[A\u001b[A\n",
      "\n",
      "8269289it [01:10, 117618.98it/s]\u001b[A\u001b[A\n",
      "\n",
      "8281905it [01:10, 117625.28it/s]\u001b[A\u001b[A\n",
      "\n",
      "8294406it [01:10, 117625.09it/s]\u001b[A\u001b[A\n",
      "\n",
      "8306887it [01:10, 117634.45it/s]\u001b[A\u001b[A\n",
      "\n",
      "8319352it [01:10, 117644.33it/s]\u001b[A\u001b[A\n",
      "\n",
      "8331724it [01:10, 117646.38it/s]\u001b[A\u001b[A\n",
      "\n",
      "8345385it [01:10, 117672.43it/s]\u001b[A\u001b[A\n",
      "\n",
      "8358347it [01:11, 117686.65it/s]\u001b[A\u001b[A\n",
      "\n",
      "8371387it [01:11, 117704.23it/s]\u001b[A\u001b[A\n",
      "\n",
      "8384166it [01:11, 117713.99it/s]\u001b[A\u001b[A\n",
      "\n",
      "8397778it [01:11, 117741.52it/s]\u001b[A\u001b[A\n",
      "\n",
      "8410758it [01:11, 117755.52it/s]\u001b[A\u001b[A\n",
      "\n",
      "8423771it [01:11, 117772.92it/s]\u001b[A\u001b[A\n",
      "\n",
      "8436723it [01:11, 117784.58it/s]\u001b[A\u001b[A\n",
      "\n",
      "8449574it [01:11, 117769.06it/s]\u001b[A\u001b[A\n",
      "\n",
      "8461810it [01:11, 117744.88it/s]\u001b[A\u001b[A\n",
      "\n",
      "8473719it [01:11, 117738.96it/s]\u001b[A\u001b[A\n",
      "\n",
      "8485953it [01:12, 117745.20it/s]\u001b[A\u001b[A\n",
      "\n",
      "8498082it [01:12, 117749.42it/s]\u001b[A\u001b[A\n",
      "\n",
      "8511930it [01:12, 117778.49it/s]\u001b[A\u001b[A\n",
      "\n",
      "8525601it [01:12, 117805.11it/s]\u001b[A\u001b[A\n",
      "\n",
      "8538427it [01:12, 117816.05it/s]\u001b[A\u001b[A\n",
      "\n",
      "8551678it [01:12, 117836.36it/s]\u001b[A\u001b[A\n",
      "\n",
      "8565687it [01:12, 117867.19it/s]\u001b[A\u001b[A\n",
      "\n",
      "8578929it [01:12, 117877.16it/s]\u001b[A\u001b[A\n",
      "\n",
      "8591935it [01:12, 117886.62it/s]\u001b[A\u001b[A\n",
      "\n",
      "8608365it [01:12, 117950.41it/s]\u001b[A\u001b[A\n",
      "\n",
      "8622277it [01:13, 117968.89it/s]\u001b[A\u001b[A\n",
      "\n",
      "8636239it [01:13, 117998.47it/s]\u001b[A\u001b[A\n",
      "\n",
      "8650138it [01:13, 118028.79it/s]\u001b[A\u001b[A\n",
      "\n",
      "8663955it [01:13, 118052.96it/s]\u001b[A\u001b[A\n",
      "\n",
      "8678061it [01:13, 118084.17it/s]\u001b[A\u001b[A\n",
      "\n",
      "8691920it [01:13, 118108.42it/s]\u001b[A\u001b[A\n",
      "\n",
      "8706097it [01:13, 118140.57it/s]\u001b[A\u001b[A\n",
      "\n",
      "8719981it [01:13, 118149.51it/s]\u001b[A\u001b[A\n",
      "\n",
      "8733411it [01:13, 118168.01it/s]\u001b[A\u001b[A\n",
      "\n",
      "8747482it [01:14, 118198.56it/s]\u001b[A\u001b[A\n",
      "\n",
      "8761857it [01:14, 118231.99it/s]\u001b[A\u001b[A\n",
      "\n",
      "8775666it [01:14, 118251.36it/s]\u001b[A\u001b[A\n",
      "\n",
      "8789263it [01:14, 118265.43it/s]\u001b[A\u001b[A\n",
      "\n",
      "8802628it [01:14, 118281.52it/s]\u001b[A\u001b[A\n",
      "\n",
      "8815873it [01:14, 118285.73it/s]\u001b[A\u001b[A\n",
      "\n",
      "8829674it [01:14, 118312.30it/s]\u001b[A\u001b[A\n",
      "\n",
      "8844018it [01:14, 118345.37it/s]\u001b[A\u001b[A\n",
      "\n",
      "8857545it [01:14, 118358.56it/s]\u001b[A\u001b[A\n",
      "\n",
      "8870847it [01:14, 118371.96it/s]\u001b[A\u001b[A\n",
      "\n",
      "8884347it [01:15, 118394.63it/s]\u001b[A\u001b[A\n",
      "\n",
      "8897600it [01:15, 118397.43it/s]\u001b[A\u001b[A\n",
      "\n",
      "8910500it [01:15, 118402.68it/s]\u001b[A\u001b[A\n",
      "\n",
      "8923195it [01:15, 118407.16it/s]\u001b[A\u001b[A\n",
      "\n",
      "8935723it [01:15, 118414.84it/s]\u001b[A\u001b[A\n",
      "\n",
      "8948215it [01:15, 118407.32it/s]\u001b[A\u001b[A\n",
      "\n",
      "8962446it [01:15, 118439.33it/s]\u001b[A\u001b[A\n",
      "\n",
      "8975222it [01:15, 118444.72it/s]\u001b[A\u001b[A\n",
      "\n",
      "8987858it [01:15, 118448.54it/s]\u001b[A\u001b[A\n",
      "\n",
      "9001935it [01:15, 118477.77it/s]\u001b[A\u001b[A\n",
      "\n",
      "9014871it [01:16, 118474.27it/s]\u001b[A\u001b[A\n",
      "\n",
      "9029030it [01:16, 118504.55it/s]\u001b[A\u001b[A\n",
      "\n",
      "9042880it [01:16, 118530.13it/s]\u001b[A\u001b[A\n",
      "\n",
      "9056184it [01:16, 118548.90it/s]\u001b[A\u001b[A\n",
      "\n",
      "9069466it [01:16, 118558.83it/s]\u001b[A\u001b[A\n",
      "\n",
      "9082508it [01:16, 118566.46it/s]\u001b[A\u001b[A\n",
      "\n",
      "9095802it [01:16, 118585.04it/s]\u001b[A\u001b[A\n",
      "\n",
      "9108794it [01:16, 118591.00it/s]\u001b[A\u001b[A\n",
      "\n",
      "9121570it [01:16, 118593.10it/s]\u001b[A\u001b[A\n",
      "\n",
      "9135016it [01:17, 118613.30it/s]\u001b[A\u001b[A\n",
      "\n",
      "9147825it [01:17, 118625.17it/s]\u001b[A\u001b[A\n",
      "\n",
      "9161625it [01:17, 118648.71it/s]\u001b[A\u001b[A\n",
      "\n",
      "9174692it [01:17, 118659.55it/s]\u001b[A\u001b[A\n",
      "\n",
      "9187885it [01:17, 118678.41it/s]\u001b[A\u001b[A\n",
      "\n",
      "9201899it [01:17, 118705.11it/s]\u001b[A\u001b[A\n",
      "\n",
      "9215231it [01:17, 118720.72it/s]\u001b[A\u001b[A\n",
      "\n",
      "9228470it [01:17, 118731.86it/s]\u001b[A\u001b[A\n",
      "\n",
      "9241563it [01:17, 118744.89it/s]\u001b[A\u001b[A"
     ]
    },
    {
     "name": "stdout",
     "output_type": "stream",
     "text": [
      "b'<http://dbpedia.org/resource/Membrane_topology> <http://dbpedia.org/ontology/wikiPageWikiLink> <http://dbpedia.org/resource/Unsupervised_learning> .\\n'\n"
     ]
    },
    {
     "name": "stderr",
     "output_type": "stream",
     "text": [
      "\n",
      "\n",
      "9254560it [01:17, 118748.67it/s]\u001b[A\u001b[A\n",
      "\n",
      "9268274it [01:18, 118772.36it/s]\u001b[A\u001b[A\n",
      "\n",
      "9282731it [01:18, 118804.08it/s]\u001b[A\u001b[A\n",
      "\n",
      "9296194it [01:18, 118824.35it/s]\u001b[A\u001b[A\n",
      "\n",
      "9309627it [01:18, 118833.86it/s]\u001b[A\u001b[A\n",
      "\n",
      "9322942it [01:18, 118852.08it/s]\u001b[A\u001b[A\n",
      "\n",
      "9336158it [01:18, 118864.61it/s]\u001b[A\u001b[A\n",
      "\n",
      "9349291it [01:18, 118860.37it/s]\u001b[A\u001b[A\n",
      "\n",
      "9361943it [01:18, 118849.53it/s]\u001b[A\u001b[A\n",
      "\n",
      "9374147it [01:18, 118830.32it/s]\u001b[A\u001b[A\n",
      "\n",
      "9385868it [01:18, 118818.62it/s]\u001b[A\u001b[A\n",
      "\n",
      "9399147it [01:19, 118835.72it/s]\u001b[A\u001b[A\n",
      "\n",
      "9412231it [01:19, 118850.77it/s]\u001b[A\u001b[A\n",
      "\n",
      "9425520it [01:19, 118867.88it/s]\u001b[A\u001b[A\n",
      "\n",
      "9438234it [01:19, 118879.27it/s]\u001b[A\u001b[A\n",
      "\n",
      "9452183it [01:19, 118903.64it/s]\u001b[A\u001b[A\n",
      "\n",
      "9465225it [01:19, 118916.03it/s]\u001b[A\u001b[A\n",
      "\n",
      "9478688it [01:19, 118935.82it/s]\u001b[A\u001b[A\n",
      "\n",
      "9491800it [01:19, 118934.45it/s]\u001b[A\u001b[A\n",
      "\n",
      "9505367it [01:19, 118954.63it/s]\u001b[A\u001b[A\n",
      "\n",
      "9519554it [01:20, 118983.67it/s]\u001b[A\u001b[A\n",
      "\n",
      "9534032it [01:20, 119016.17it/s]\u001b[A\u001b[A\n",
      "\n",
      "9547705it [01:20, 119031.60it/s]\u001b[A\u001b[A\n",
      "\n",
      "9561213it [01:20, 119051.49it/s]\u001b[A\u001b[A\n",
      "\n",
      "9576080it [01:20, 119087.25it/s]\u001b[A\u001b[A\n",
      "\n",
      "9591008it [01:20, 119124.86it/s]\u001b[A\u001b[A\n",
      "\n",
      "9605218it [01:20, 119129.75it/s]\u001b[A\u001b[A\n",
      "\n",
      "9618830it [01:20, 119150.65it/s]\u001b[A\u001b[A\n",
      "\n",
      "9632848it [01:20, 119176.19it/s]\u001b[A\u001b[A\n",
      "\n",
      "9646918it [01:20, 119202.69it/s]\u001b[A\u001b[A\n",
      "\n",
      "9661580it [01:21, 119236.30it/s]\u001b[A\u001b[A\n",
      "\n",
      "9675656it [01:21, 119260.40it/s]\u001b[A\u001b[A\n",
      "\n",
      "9689647it [01:21, 119272.82it/s]\u001b[A\u001b[A\n",
      "\n",
      "9703639it [01:21, 119298.23it/s]\u001b[A\u001b[A\n",
      "\n",
      "9717390it [01:21, 119316.12it/s]\u001b[A\u001b[A\n",
      "\n",
      "9731354it [01:21, 119341.07it/s]\u001b[A\u001b[A\n",
      "\n",
      "9745618it [01:21, 119368.03it/s]\u001b[A\u001b[A\n",
      "\n",
      "9759511it [01:21, 119378.87it/s]\u001b[A\u001b[A\n",
      "\n",
      "9773041it [01:21, 119387.02it/s]\u001b[A\u001b[A\n",
      "\n",
      "9786280it [01:21, 119398.95it/s]\u001b[A\u001b[A\n",
      "\n",
      "9799390it [01:22, 119392.04it/s]\u001b[A\u001b[A\n",
      "\n",
      "9812004it [01:22, 119382.29it/s]\u001b[A\u001b[A\n",
      "\n",
      "9824220it [01:22, 119383.80it/s]\u001b[A\u001b[A\n",
      "\n",
      "9836370it [01:22, 119380.33it/s]\u001b[A\u001b[A\n",
      "\n",
      "9850292it [01:22, 119403.79it/s]\u001b[A\u001b[A\n",
      "\n",
      "9864190it [01:22, 119419.09it/s]\u001b[A\u001b[A\n",
      "\n",
      "9876943it [01:22, 119418.78it/s]\u001b[A\u001b[A\n",
      "\n",
      "9890091it [01:22, 119433.14it/s]\u001b[A\u001b[A\n",
      "\n",
      "9902773it [01:22, 119438.03it/s]\u001b[A\u001b[A\n",
      "\n",
      "9916466it [01:23, 119459.12it/s]\u001b[A\u001b[A\n",
      "\n",
      "9930482it [01:23, 119483.73it/s]\u001b[A\u001b[A\n",
      "\n",
      "9943728it [01:23, 119486.69it/s]\u001b[A\u001b[A\n",
      "\n",
      "9957984it [01:23, 119514.64it/s]\u001b[A\u001b[A\n",
      "\n",
      "9971297it [01:23, 119527.15it/s]\u001b[A\u001b[A\n",
      "\n",
      "9984511it [01:23, 119530.47it/s]\u001b[A\u001b[A\n",
      "\n",
      "9997430it [01:23, 119528.79it/s]\u001b[A\u001b[A\n",
      "\n",
      "10010018it [01:23, 119530.12it/s]\u001b[A\u001b[A\n",
      "\n",
      "10022597it [01:23, 119537.91it/s]\u001b[A\u001b[A\n",
      "\n",
      "10035075it [01:23, 119537.76it/s]\u001b[A\u001b[A\n",
      "\n",
      "10047844it [01:24, 119548.57it/s]\u001b[A\u001b[A\n",
      "\n",
      "10062988it [01:24, 119586.11it/s]\u001b[A\u001b[A\n",
      "\n",
      "10076924it [01:24, 119604.98it/s]\u001b[A\u001b[A\n",
      "\n",
      "10092013it [01:24, 119642.66it/s]\u001b[A\u001b[A\n",
      "\n",
      "10106277it [01:24, 119669.06it/s]\u001b[A\u001b[A\n",
      "\n",
      "10120266it [01:24, 119690.03it/s]\u001b[A\u001b[A\n",
      "\n",
      "10134164it [01:24, 119709.38it/s]\u001b[A\u001b[A\n",
      "\n",
      "10147943it [01:24, 119714.04it/s]\u001b[A\u001b[A\n",
      "\n",
      "10161897it [01:24, 119737.67it/s]\u001b[A\u001b[A\n",
      "\n",
      "10175430it [01:24, 119731.33it/s]\u001b[A\u001b[A\n",
      "\n",
      "10188360it [01:25, 119706.76it/s]\u001b[A\u001b[A\n",
      "\n",
      "10200521it [01:25, 119690.96it/s]\u001b[A\u001b[A\n",
      "\n",
      "10212253it [01:25, 119674.44it/s]\u001b[A\u001b[A\n",
      "\n",
      "10223712it [01:25, 119655.77it/s]\u001b[A\u001b[A\n",
      "\n",
      "10234935it [01:25, 119642.38it/s]\u001b[A\u001b[A\n",
      "\n",
      "10247286it [01:25, 119646.90it/s]\u001b[A\u001b[A\n",
      "\n",
      "10258713it [01:25, 119615.52it/s]\u001b[A\u001b[A\n",
      "\n",
      "10269623it [01:25, 119553.45it/s]\u001b[A\u001b[A\n",
      "\n",
      "10280229it [01:25, 119538.68it/s]\u001b[A\u001b[A\n",
      "\n",
      "10292065it [01:26, 119537.73it/s]\u001b[A\u001b[A\n",
      "\n",
      "10305171it [01:26, 119550.99it/s]\u001b[A\u001b[A\n",
      "\n",
      "10317030it [01:26, 119549.70it/s]\u001b[A\u001b[A\n",
      "\n",
      "10330326it [01:26, 119565.17it/s]\u001b[A\u001b[A\n",
      "\n",
      "10342404it [01:26, 119562.05it/s]\u001b[A\u001b[A\n",
      "\n",
      "10354371it [01:26, 119562.77it/s]\u001b[A\u001b[A\n",
      "\n",
      "10367088it [01:26, 119571.30it/s]\u001b[A\u001b[A\n",
      "\n",
      "10381011it [01:26, 119593.62it/s]\u001b[A\u001b[A\n",
      "\n",
      "10393721it [01:26, 119600.27it/s]\u001b[A\u001b[A\n",
      "\n",
      "10406401it [01:27, 119591.32it/s]\u001b[A\u001b[A\n",
      "\n",
      "10418641it [01:27, 119558.71it/s]\u001b[A\u001b[A\n",
      "\n",
      "10430137it [01:27, 119553.93it/s]\u001b[A\u001b[A\n",
      "\n",
      "10442752it [01:27, 119561.16it/s]\u001b[A\u001b[A\n",
      "\n",
      "10455009it [01:27, 119564.45it/s]\u001b[A\u001b[A\n",
      "\n",
      "10467118it [01:27, 119565.72it/s]\u001b[A\u001b[A\n",
      "\n",
      "10479666it [01:27, 119572.91it/s]\u001b[A\u001b[A\n",
      "\n",
      "10491825it [01:27, 119566.56it/s]\u001b[A\u001b[A\n",
      "\n",
      "10503762it [01:27, 119565.76it/s]\u001b[A\u001b[A\n",
      "\n",
      "10516219it [01:27, 119570.69it/s]\u001b[A\u001b[A\n",
      "\n",
      "10529619it [01:28, 119587.23it/s]\u001b[A\u001b[A\n",
      "\n",
      "10543688it [01:28, 119611.41it/s]\u001b[A\u001b[A\n",
      "\n",
      "10557404it [01:28, 119630.51it/s]\u001b[A\u001b[A\n",
      "\n",
      "10570577it [01:28, 119634.93it/s]\u001b[A\u001b[A\n",
      "\n",
      "10583501it [01:28, 119633.85it/s]\u001b[A\u001b[A\n",
      "\n",
      "10596105it [01:28, 119638.57it/s]\u001b[A\u001b[A\n",
      "\n",
      "10608882it [01:28, 119647.78it/s]\u001b[A\u001b[A\n",
      "\n",
      "10621487it [01:28, 119651.55it/s]\u001b[A\u001b[A\n",
      "\n",
      "10633995it [01:28, 119645.73it/s]\u001b[A\u001b[A\n",
      "\n",
      "10646195it [01:28, 119634.73it/s]\u001b[A\u001b[A\n",
      "\n",
      "10658057it [01:29, 119630.47it/s]\u001b[A\u001b[A\n",
      "\n",
      "10669840it [01:29, 119618.53it/s]\u001b[A\u001b[A\n",
      "\n",
      "10681377it [01:29, 119604.99it/s]\u001b[A\u001b[A\n",
      "\n",
      "10692711it [01:29, 119596.34it/s]\u001b[A\u001b[A\n",
      "\n",
      "10705690it [01:29, 119608.44it/s]\u001b[A\u001b[A\n",
      "\n",
      "10718263it [01:29, 119615.00it/s]\u001b[A\u001b[A\n",
      "\n",
      "10730527it [01:29, 119618.01it/s]\u001b[A\u001b[A\n",
      "\n",
      "10743515it [01:29, 119629.64it/s]\u001b[A\u001b[A\n",
      "\n",
      "10755945it [01:29, 119633.86it/s]\u001b[A\u001b[A\n",
      "\n",
      "10769290it [01:30, 119650.16it/s]\u001b[A\u001b[A\n",
      "\n",
      "10782750it [01:30, 119659.72it/s]\u001b[A\u001b[A\n",
      "\n",
      "10796463it [01:30, 119678.66it/s]\u001b[A\u001b[A\n",
      "\n",
      "10809739it [01:30, 119692.19it/s]\u001b[A\u001b[A\n",
      "\n",
      "10823310it [01:30, 119710.52it/s]\u001b[A\u001b[A\n",
      "\n",
      "10836776it [01:30, 119727.08it/s]\u001b[A\u001b[A\n",
      "\n",
      "10850067it [01:30, 119734.10it/s]\u001b[A\u001b[A\n",
      "\n",
      "10863188it [01:30, 119746.90it/s]\u001b[A\u001b[A\n",
      "\n",
      "10876274it [01:30, 119750.92it/s]\u001b[A\u001b[A\n",
      "\n",
      "10889134it [01:30, 119759.72it/s]\u001b[A\u001b[A\n",
      "\n",
      "10901968it [01:31, 119764.76it/s]\u001b[A\u001b[A\n",
      "\n",
      "10916565it [01:31, 119794.23it/s]\u001b[A\u001b[A\n",
      "\n",
      "10930912it [01:31, 119819.31it/s]\u001b[A\u001b[A\n",
      "\n",
      "10944725it [01:31, 119839.72it/s]\u001b[A\u001b[A\n",
      "\n",
      "10958998it [01:31, 119864.37it/s]\u001b[A\u001b[A\n",
      "\n",
      "10972843it [01:31, 119873.95it/s]\u001b[A\u001b[A\n",
      "\n",
      "10986369it [01:31, 119884.08it/s]\u001b[A\u001b[A\n",
      "\n",
      "10999692it [01:31, 119884.55it/s]\u001b[A\u001b[A\n",
      "\n",
      "11012621it [01:31, 119883.53it/s]\u001b[A\u001b[A\n",
      "\n",
      "11025252it [01:31, 119886.20it/s]\u001b[A\u001b[A\n",
      "\n",
      "11039166it [01:32, 119901.83it/s]\u001b[A\u001b[A\n",
      "\n",
      "11053273it [01:32, 119924.77it/s]\u001b[A\u001b[A\n",
      "\n",
      "11066432it [01:32, 119928.66it/s]\u001b[A\u001b[A\n",
      "\n",
      "11079342it [01:32, 119922.74it/s]\u001b[A\u001b[A\n",
      "\n",
      "11091835it [01:32, 119927.72it/s]\u001b[A\u001b[A\n",
      "\n",
      "11104316it [01:32, 119897.21it/s]\u001b[A\u001b[A\n",
      "\n",
      "11116048it [01:32, 119836.41it/s]\u001b[A\u001b[A\n",
      "\n",
      "11126676it [01:32, 119810.23it/s]\u001b[A\u001b[A\n",
      "\n",
      "11139172it [01:32, 119815.92it/s]\u001b[A\u001b[A\n",
      "\n",
      "11153167it [01:33, 119836.96it/s]\u001b[A\u001b[A\n",
      "\n",
      "11165311it [01:33, 119838.52it/s]\u001b[A\u001b[A\n",
      "\n",
      "11179111it [01:33, 119858.07it/s]\u001b[A\u001b[A\n",
      "\n",
      "11191619it [01:33, 119836.14it/s]\u001b[A\u001b[A\n",
      "\n",
      "11203631it [01:33, 119835.88it/s]\u001b[A\u001b[A\n",
      "\n",
      "11215523it [01:33, 119827.22it/s]\u001b[A\u001b[A\n",
      "\n",
      "11228031it [01:33, 119832.87it/s]\u001b[A\u001b[A\n",
      "\n",
      "11240322it [01:33, 119835.20it/s]\u001b[A\u001b[A\n",
      "\n",
      "11252610it [01:33, 119835.27it/s]\u001b[A\u001b[A\n",
      "\n",
      "11264613it [01:34, 119821.58it/s]\u001b[A\u001b[A\n",
      "\n",
      "11276262it [01:34, 119801.94it/s]\u001b[A\u001b[A\n",
      "\n",
      "11287848it [01:34, 119797.45it/s]\u001b[A\u001b[A\n",
      "\n",
      "11299327it [01:34, 119791.89it/s]\u001b[A\u001b[A\n",
      "\n",
      "11311023it [01:34, 119787.42it/s]\u001b[A\u001b[A\n",
      "\n",
      "11322503it [01:34, 119766.72it/s]\u001b[A\u001b[A\n",
      "\n",
      "11333569it [01:34, 119753.92it/s]\u001b[A\u001b[A\n",
      "\n",
      "11346547it [01:34, 119764.48it/s]\u001b[A\u001b[A\n",
      "\n",
      "11358131it [01:34, 119735.87it/s]\u001b[A\u001b[A\n",
      "\n",
      "11369165it [01:34, 119726.50it/s]\u001b[A\u001b[A\n",
      "\n",
      "11381128it [01:35, 119725.73it/s]\u001b[A\u001b[A\n",
      "\n",
      "11392435it [01:35, 119709.84it/s]\u001b[A\u001b[A\n",
      "\n",
      "11403506it [01:35, 119688.06it/s]\u001b[A\u001b[A\n",
      "\n",
      "11414306it [01:35, 119675.37it/s]\u001b[A\u001b[A\n",
      "\n",
      "11426893it [01:35, 119681.30it/s]\u001b[A\u001b[A\n",
      "\n",
      "11438196it [01:35, 119673.88it/s]\u001b[A\u001b[A\n",
      "\n",
      "11449494it [01:35, 119632.60it/s]\u001b[A\u001b[A\n",
      "\n",
      "11460062it [01:35, 119556.47it/s]\u001b[A\u001b[A\n",
      "\n",
      "11469592it [01:35, 119531.36it/s]\u001b[A\u001b[A\n",
      "\n",
      "11481102it [01:36, 119525.70it/s]\u001b[A\u001b[A\n",
      "\n",
      "11491565it [01:36, 119510.52it/s]\u001b[A\u001b[A\n",
      "\n",
      "11505318it [01:36, 119529.21it/s]\u001b[A\u001b[A\n",
      "\n",
      "11518356it [01:36, 119541.04it/s]\u001b[A\u001b[A\n",
      "\n",
      "11531749it [01:36, 119554.87it/s]\u001b[A\u001b[A"
     ]
    },
    {
     "name": "stdout",
     "output_type": "stream",
     "text": [
      "b'<http://dbpedia.org/resource/Machine_learning> <http://dbpedia.org/ontology/wikiPageWikiLink> <http://dbpedia.org/resource/Unsupervised_learning> .\\n'\n",
      "b'<http://dbpedia.org/resource/Unsupervised_learning> <http://dbpedia.org/ontology/wikiPageWikiLink> <http://dbpedia.org/resource/Machine_learning> .\\n'\n",
      "b'<http://dbpedia.org/resource/Unsupervised_learning> <http://dbpedia.org/ontology/wikiPageWikiLink> <http://dbpedia.org/resource/Supervised_learning> .\\n'\n",
      "b'<http://dbpedia.org/resource/Unsupervised_learning> <http://dbpedia.org/ontology/wikiPageWikiLink> <http://dbpedia.org/resource/Reinforcement_learning> .\\n'\n",
      "b'<http://dbpedia.org/resource/Unsupervised_learning> <http://dbpedia.org/ontology/wikiPageWikiLink> <http://dbpedia.org/resource/Density_estimation> .\\n'\n",
      "b'<http://dbpedia.org/resource/Unsupervised_learning> <http://dbpedia.org/ontology/wikiPageWikiLink> <http://dbpedia.org/resource/Statistics> .\\n'\n",
      "b'<http://dbpedia.org/resource/Unsupervised_learning> <http://dbpedia.org/ontology/wikiPageWikiLink> <http://dbpedia.org/resource/Data_clustering> .\\n'\n",
      "b'<http://dbpedia.org/resource/Unsupervised_learning> <http://dbpedia.org/ontology/wikiPageWikiLink> <http://dbpedia.org/resource/K-means> .\\n'\n",
      "b'<http://dbpedia.org/resource/Unsupervised_learning> <http://dbpedia.org/ontology/wikiPageWikiLink> <http://dbpedia.org/resource/Mixture_models> .\\n'\n",
      "b'<http://dbpedia.org/resource/Unsupervised_learning> <http://dbpedia.org/ontology/wikiPageWikiLink> <http://dbpedia.org/resource/Hierarchical_clustering> .\\n'\n",
      "b'<http://dbpedia.org/resource/Unsupervised_learning> <http://dbpedia.org/ontology/wikiPageWikiLink> <http://dbpedia.org/resource/Anomaly_detection> .\\n'\n",
      "b'<http://dbpedia.org/resource/Unsupervised_learning> <http://dbpedia.org/ontology/wikiPageWikiLink> <http://dbpedia.org/resource/Artificial_neural_network> .\\n'\n",
      "b'<http://dbpedia.org/resource/Unsupervised_learning> <http://dbpedia.org/ontology/wikiPageWikiLink> <http://dbpedia.org/resource/Hebbian_Learning> .\\n'\n",
      "b'<http://dbpedia.org/resource/Unsupervised_learning> <http://dbpedia.org/ontology/wikiPageWikiLink> <http://dbpedia.org/resource/Latent_variable_model> .\\n'\n",
      "b'<http://dbpedia.org/resource/Unsupervised_learning> <http://dbpedia.org/ontology/wikiPageWikiLink> <http://dbpedia.org/resource/Expectation\\xe2\\x80\\x93maximization_algorithm> .\\n'\n",
      "b'<http://dbpedia.org/resource/Unsupervised_learning> <http://dbpedia.org/ontology/wikiPageWikiLink> <http://dbpedia.org/resource/Method_of_moments_(statistics)> .\\n'\n",
      "b'<http://dbpedia.org/resource/Unsupervised_learning> <http://dbpedia.org/ontology/wikiPageWikiLink> <http://dbpedia.org/resource/Blind_signal_separation> .\\n'\n",
      "b'<http://dbpedia.org/resource/Unsupervised_learning> <http://dbpedia.org/ontology/wikiPageWikiLink> <http://dbpedia.org/resource/Principal_component_analysis> .\\n'\n",
      "b'<http://dbpedia.org/resource/Unsupervised_learning> <http://dbpedia.org/ontology/wikiPageWikiLink> <http://dbpedia.org/resource/Independent_component_analysis> .\\n'\n",
      "b'<http://dbpedia.org/resource/Unsupervised_learning> <http://dbpedia.org/ontology/wikiPageWikiLink> <http://dbpedia.org/resource/Non-negative_matrix_factorization> .\\n'\n",
      "b'<http://dbpedia.org/resource/Unsupervised_learning> <http://dbpedia.org/ontology/wikiPageWikiLink> <http://dbpedia.org/resource/Singular_value_decomposition> .\\n'\n",
      "b'<http://dbpedia.org/resource/Unsupervised_learning> <http://dbpedia.org/ontology/wikiPageWikiLink> <http://dbpedia.org/resource/Donald_Hebb> .\\n'\n",
      "b'<http://dbpedia.org/resource/Unsupervised_learning> <http://dbpedia.org/ontology/wikiPageWikiLink> <http://dbpedia.org/resource/Hebbian_learning> .\\n'\n",
      "b'<http://dbpedia.org/resource/Unsupervised_learning> <http://dbpedia.org/ontology/wikiPageWikiLink> <http://dbpedia.org/resource/Spike-timing-dependent_plasticity> .\\n'\n",
      "b'<http://dbpedia.org/resource/Unsupervised_learning> <http://dbpedia.org/ontology/wikiPageWikiLink> <http://dbpedia.org/resource/Self-organizing_map> .\\n'\n",
      "b'<http://dbpedia.org/resource/Unsupervised_learning> <http://dbpedia.org/ontology/wikiPageWikiLink> <http://dbpedia.org/resource/Adaptive_resonance_theory> .\\n'\n",
      "b'<http://dbpedia.org/resource/Unsupervised_learning> <http://dbpedia.org/ontology/wikiPageWikiLink> <http://dbpedia.org/resource/Vigilance_parameter> .\\n'\n",
      "b'<http://dbpedia.org/resource/Unsupervised_learning> <http://dbpedia.org/ontology/wikiPageWikiLink> <http://dbpedia.org/resource/Automatic_target_recognition> .\\n'\n",
      "b'<http://dbpedia.org/resource/Unsupervised_learning> <http://dbpedia.org/ontology/wikiPageWikiLink> <http://dbpedia.org/resource/Mean> .\\n'\n",
      "b'<http://dbpedia.org/resource/Unsupervised_learning> <http://dbpedia.org/ontology/wikiPageWikiLink> <http://dbpedia.org/resource/Covariance> .\\n'\n",
      "b'<http://dbpedia.org/resource/Unsupervised_learning> <http://dbpedia.org/ontology/wikiPageWikiLink> <http://dbpedia.org/resource/Tensors> .\\n'\n",
      "b'<http://dbpedia.org/resource/Unsupervised_learning> <http://dbpedia.org/ontology/wikiPageWikiLink> <http://dbpedia.org/resource/Topic_modeling> .\\n'\n",
      "b'<http://dbpedia.org/resource/Unsupervised_learning> <http://dbpedia.org/ontology/wikiPageWikiLink> <http://dbpedia.org/resource/Cluster_analysis> .\\n'\n",
      "b'<http://dbpedia.org/resource/Unsupervised_learning> <http://dbpedia.org/ontology/wikiPageWikiLink> <http://dbpedia.org/resource/Generative_topographic_map> .\\n'\n",
      "b'<http://dbpedia.org/resource/Unsupervised_learning> <http://dbpedia.org/ontology/wikiPageWikiLink> <http://dbpedia.org/resource/Multivariate_analysis> .\\n'\n",
      "b'<http://dbpedia.org/resource/Unsupervised_learning> <http://dbpedia.org/ontology/wikiPageWikiLink> <http://dbpedia.org/resource/Radial_basis_function_network> .\\n'\n",
      "b'<http://dbpedia.org/resource/Unsupervised_learning> <http://dbpedia.org/ontology/wikiPageWikiLink> <http://dbpedia.org/resource/Hebbian_Theory> .\\n'\n",
      "b'<http://dbpedia.org/resource/Unsupervised_learning> <http://dbpedia.org/ontology/wikiPageWikiLink> <http://dbpedia.org/resource/Richard_O._Duda> .\\n'\n",
      "b'<http://dbpedia.org/resource/Unsupervised_learning> <http://dbpedia.org/ontology/wikiPageWikiLink> <http://dbpedia.org/resource/Peter_E._Hart> .\\n'\n",
      "b'<http://dbpedia.org/resource/Unsupervised_learning> <http://dbpedia.org/ontology/wikiPageWikiLink> <http://dbpedia.org/resource/Pattern_classification> .\\n'\n",
      "b'<http://dbpedia.org/resource/Unsupervised_learning> <http://dbpedia.org/ontology/wikiPageWikiLink> <http://dbpedia.org/resource/Geoffrey_Hinton> .\\n'\n",
      "b'<http://dbpedia.org/resource/Unsupervised_learning> <http://dbpedia.org/ontology/wikiPageWikiLink> <http://dbpedia.org/resource/Terrence_J._Sejnowski> .\\n'\n",
      "b'<http://dbpedia.org/resource/Unsupervised_learning> <http://dbpedia.org/ontology/wikiPageWikiLink> <http://dbpedia.org/resource/MIT_Press> .\\n'\n",
      "b'<http://dbpedia.org/resource/Unsupervised_learning> <http://dbpedia.org/ontology/wikiPageWikiLink> <http://dbpedia.org/resource/Neural_network> .\\n'\n",
      "b'<http://dbpedia.org/resource/Unsupervised_learning> <http://dbpedia.org/ontology/wikiPageWikiLink> <http://dbpedia.org/resource/Category:Machine_learning> .\\n'\n"
     ]
    },
    {
     "name": "stderr",
     "output_type": "stream",
     "text": [
      "\n",
      "\n",
      "11544021it [01:36, 119551.99it/s]\u001b[A\u001b[A\n",
      "\n",
      "11557351it [01:36, 119566.05it/s]\u001b[A\u001b[A\n",
      "\n",
      "11569801it [01:36, 119570.58it/s]\u001b[A\u001b[A\n",
      "\n",
      "11582248it [01:36, 119574.86it/s]\u001b[A\u001b[A\n",
      "\n",
      "11595132it [01:36, 119584.63it/s]\u001b[A\u001b[A\n",
      "\n",
      "11608840it [01:37, 119602.83it/s]\u001b[A\u001b[A\n",
      "\n",
      "11622018it [01:37, 119615.26it/s]\u001b[A\u001b[A\n",
      "\n",
      "11635004it [01:37, 119618.32it/s]\u001b[A\u001b[A\n",
      "\n",
      "11648911it [01:37, 119638.52it/s]\u001b[A\u001b[A\n",
      "\n",
      "11662159it [01:37, 119651.22it/s]\u001b[A\u001b[A\n",
      "\n",
      "11676808it [01:37, 119678.73it/s]\u001b[A\u001b[A\n",
      "\n",
      "11690406it [01:37, 119677.86it/s]\u001b[A\u001b[A\n",
      "\n",
      "11703500it [01:37, 119679.23it/s]\u001b[A\u001b[A\n",
      "\n",
      "11716952it [01:37, 119694.68it/s]\u001b[A\u001b[A\n",
      "\n",
      "11729941it [01:37, 119697.19it/s]\u001b[A\u001b[A\n",
      "\n",
      "11743197it [01:38, 119710.94it/s]\u001b[A\u001b[A\n",
      "\n",
      "11757208it [01:38, 119725.62it/s]\u001b[A\u001b[A\n",
      "\n",
      "11770247it [01:38, 119734.70it/s]\u001b[A\u001b[A\n",
      "\n",
      "11783251it [01:38, 119742.14it/s]\u001b[A\u001b[A\n",
      "\n",
      "11796157it [01:38, 119737.86it/s]\u001b[A\u001b[A\n",
      "\n",
      "11808662it [01:38, 119738.92it/s]\u001b[A\u001b[A\n",
      "\n",
      "11821936it [01:38, 119751.75it/s]\u001b[A\u001b[A\n",
      "\n",
      "11834580it [01:38, 119757.98it/s]\u001b[A\u001b[A\n",
      "\n",
      "11848045it [01:38, 119772.74it/s]\u001b[A\u001b[A\n",
      "\n",
      "11861478it [01:39, 119778.99it/s]\u001b[A\u001b[A\n",
      "\n",
      "11875342it [01:39, 119798.05it/s]\u001b[A\u001b[A\n",
      "\n",
      "11888441it [01:39, 119794.40it/s]\u001b[A\u001b[A\n",
      "\n",
      "11901107it [01:39, 119790.39it/s]\u001b[A\u001b[A\n",
      "\n",
      "11913462it [01:39, 119770.07it/s]\u001b[A\u001b[A\n",
      "\n",
      "11925191it [01:39, 119764.08it/s]\u001b[A\u001b[A\n",
      "\n",
      "11936829it [01:39, 119748.51it/s]\u001b[A\u001b[A\n",
      "\n",
      "11948143it [01:39, 119741.86it/s]\u001b[A\u001b[A\n",
      "\n",
      "11961640it [01:39, 119755.54it/s]\u001b[A\u001b[A\n",
      "\n",
      "11974822it [01:39, 119768.08it/s]\u001b[A\u001b[A\n",
      "\n",
      "11987264it [01:40, 119773.04it/s]\u001b[A\u001b[A\n",
      "\n",
      "12001582it [01:40, 119797.03it/s]\u001b[A\u001b[A\n",
      "\n",
      "12016092it [01:40, 119821.53it/s]\u001b[A\u001b[A\n",
      "\n",
      "12030192it [01:40, 119842.98it/s]\u001b[A\u001b[A\n",
      "\n",
      "12043855it [01:40, 119858.79it/s]\u001b[A\u001b[A\n",
      "\n",
      "12057486it [01:40, 119869.46it/s]\u001b[A\u001b[A\n",
      "\n",
      "12070901it [01:40, 119883.18it/s]\u001b[A\u001b[A\n",
      "\n",
      "12084287it [01:40, 119892.79it/s]\u001b[A\u001b[A\n",
      "\n",
      "12099016it [01:40, 119919.70it/s]\u001b[A\u001b[A\n",
      "\n",
      "12112718it [01:40, 119934.45it/s]\u001b[A\u001b[A\n",
      "\n",
      "12126339it [01:41, 119945.49it/s]\u001b[A\u001b[A\n",
      "\n",
      "12141126it [01:41, 119973.13it/s]\u001b[A\u001b[A\n",
      "\n",
      "12155381it [01:41, 119994.87it/s]\u001b[A\u001b[A\n",
      "\n",
      "12169348it [01:41, 120006.45it/s]\u001b[A\u001b[A\n",
      "\n",
      "12183042it [01:41, 120004.21it/s]\u001b[A\u001b[A\n",
      "\n",
      "12196183it [01:41, 120004.98it/s]\u001b[A\u001b[A\n",
      "\n",
      "12209419it [01:41, 120017.06it/s]\u001b[A\u001b[A\n",
      "\n",
      "12222360it [01:41, 119991.60it/s]\u001b[A\u001b[A\n",
      "\n",
      "12234415it [01:41, 119984.49it/s]\u001b[A\u001b[A\n",
      "\n",
      "12246249it [01:42, 119978.97it/s]\u001b[A\u001b[A\n",
      "\n",
      "12257969it [01:42, 119969.51it/s]\u001b[A\u001b[A\n",
      "\n",
      "12269911it [01:42, 119969.07it/s]\u001b[A\u001b[A\n",
      "\n",
      "12281568it [01:42, 119963.75it/s]\u001b[A\u001b[A\n",
      "\n",
      "12293168it [01:42, 119951.05it/s]\u001b[A\u001b[A\n",
      "\n",
      "12304645it [01:42, 119944.89it/s]\u001b[A\u001b[A\n",
      "\n",
      "12316027it [01:42, 119923.37it/s]\u001b[A\u001b[A\n",
      "\n",
      "12327245it [01:42, 119915.04it/s]\u001b[A\u001b[A\n",
      "\n",
      "12339205it [01:42, 119912.26it/s]\u001b[A\u001b[A\n",
      "\n",
      "12350428it [01:43, 119903.46it/s]\u001b[A\u001b[A\n",
      "\n",
      "12362528it [01:43, 119903.95it/s]\u001b[A\u001b[A\n",
      "\n",
      "12375960it [01:43, 119918.08it/s]\u001b[A\u001b[A\n",
      "\n",
      "12388099it [01:43, 119912.98it/s]\u001b[A\u001b[A\n",
      "\n",
      "12400260it [01:43, 119907.04it/s]\u001b[A\u001b[A\n",
      "\n",
      "12412020it [01:43, 119904.68it/s]\u001b[A\u001b[A\n",
      "\n",
      "12423806it [01:43, 119902.06it/s]\u001b[A\u001b[A\n",
      "\n",
      "12435556it [01:43, 119895.83it/s]\u001b[A\u001b[A\n",
      "\n",
      "12448829it [01:43, 119908.09it/s]\u001b[A\u001b[A\n",
      "\n",
      "12461328it [01:43, 119908.14it/s]\u001b[A\u001b[A"
     ]
    },
    {
     "ename": "KeyboardInterrupt",
     "evalue": "",
     "output_type": "error",
     "traceback": [
      "\u001b[0;31m---------------------------------------------------------------------------\u001b[0m",
      "\u001b[0;31mKeyboardInterrupt\u001b[0m                         Traceback (most recent call last)",
      "\u001b[0;32m<ipython-input-34-0af29e223a73>\u001b[0m in \u001b[0;36m<module>\u001b[0;34m()\u001b[0m\n\u001b[0;32m----> 1\u001b[0;31m \u001b[0msearch_file\u001b[0m\u001b[0;34m(\u001b[0m\u001b[0;34m'../page_links_en.ttl.bz2'\u001b[0m\u001b[0;34m,\u001b[0m \u001b[0;34m'Unsupervised_learning>'\u001b[0m\u001b[0;34m)\u001b[0m\u001b[0;34m\u001b[0m\u001b[0m\n\u001b[0m",
      "\u001b[0;32m<ipython-input-14-37786053eb1a>\u001b[0m in \u001b[0;36msearch_file\u001b[0;34m(filename, search_text)\u001b[0m\n\u001b[1;32m      1\u001b[0m \u001b[0;32mdef\u001b[0m \u001b[0msearch_file\u001b[0m\u001b[0;34m(\u001b[0m\u001b[0mfilename\u001b[0m\u001b[0;34m,\u001b[0m \u001b[0msearch_text\u001b[0m\u001b[0;34m)\u001b[0m\u001b[0;34m:\u001b[0m\u001b[0;34m\u001b[0m\u001b[0m\n\u001b[1;32m      2\u001b[0m     \u001b[0;32mwith\u001b[0m \u001b[0mbzopen\u001b[0m\u001b[0;34m(\u001b[0m\u001b[0mfilename\u001b[0m\u001b[0;34m,\u001b[0m \u001b[0;34m'r'\u001b[0m\u001b[0;34m)\u001b[0m \u001b[0;32mas\u001b[0m \u001b[0mfile\u001b[0m\u001b[0;34m:\u001b[0m\u001b[0;34m\u001b[0m\u001b[0m\n\u001b[0;32m----> 3\u001b[0;31m         \u001b[0;32mfor\u001b[0m \u001b[0mline\u001b[0m \u001b[0;32min\u001b[0m \u001b[0mtqdm\u001b[0m\u001b[0;34m(\u001b[0m\u001b[0mfile\u001b[0m\u001b[0;34m)\u001b[0m\u001b[0;34m:\u001b[0m\u001b[0;34m\u001b[0m\u001b[0m\n\u001b[0m\u001b[1;32m      4\u001b[0m             \u001b[0;32mif\u001b[0m \u001b[0msearch_text\u001b[0m \u001b[0;32min\u001b[0m \u001b[0mstr\u001b[0m\u001b[0;34m(\u001b[0m\u001b[0mline\u001b[0m\u001b[0;34m)\u001b[0m\u001b[0;34m:\u001b[0m\u001b[0;34m\u001b[0m\u001b[0m\n\u001b[1;32m      5\u001b[0m                 \u001b[0mprint\u001b[0m\u001b[0;34m(\u001b[0m\u001b[0mline\u001b[0m\u001b[0;34m)\u001b[0m\u001b[0;34m\u001b[0m\u001b[0m\n",
      "\u001b[0;32m~/anaconda/envs/edison/lib/python3.6/site-packages/tqdm/_tqdm.py\u001b[0m in \u001b[0;36m__iter__\u001b[0;34m(self)\u001b[0m\n\u001b[1;32m    951\u001b[0m \"\"\", fp_write=getattr(self.fp, 'write', sys.stderr.write))\n\u001b[1;32m    952\u001b[0m \u001b[0;34m\u001b[0m\u001b[0m\n\u001b[0;32m--> 953\u001b[0;31m             \u001b[0;32mfor\u001b[0m \u001b[0mobj\u001b[0m \u001b[0;32min\u001b[0m \u001b[0miterable\u001b[0m\u001b[0;34m:\u001b[0m\u001b[0;34m\u001b[0m\u001b[0m\n\u001b[0m\u001b[1;32m    954\u001b[0m                 \u001b[0;32myield\u001b[0m \u001b[0mobj\u001b[0m\u001b[0;34m\u001b[0m\u001b[0m\n\u001b[1;32m    955\u001b[0m                 \u001b[0;31m# Update and possibly print the progressbar.\u001b[0m\u001b[0;34m\u001b[0m\u001b[0;34m\u001b[0m\u001b[0m\n",
      "\u001b[0;32m~/anaconda/envs/edison/lib/python3.6/bz2.py\u001b[0m in \u001b[0;36mreadline\u001b[0;34m(self, size)\u001b[0m\n\u001b[1;32m    217\u001b[0m         \u001b[0;32mwith\u001b[0m \u001b[0mself\u001b[0m\u001b[0;34m.\u001b[0m\u001b[0m_lock\u001b[0m\u001b[0;34m:\u001b[0m\u001b[0;34m\u001b[0m\u001b[0m\n\u001b[1;32m    218\u001b[0m             \u001b[0mself\u001b[0m\u001b[0;34m.\u001b[0m\u001b[0m_check_can_read\u001b[0m\u001b[0;34m(\u001b[0m\u001b[0;34m)\u001b[0m\u001b[0;34m\u001b[0m\u001b[0m\n\u001b[0;32m--> 219\u001b[0;31m             \u001b[0;32mreturn\u001b[0m \u001b[0mself\u001b[0m\u001b[0;34m.\u001b[0m\u001b[0m_buffer\u001b[0m\u001b[0;34m.\u001b[0m\u001b[0mreadline\u001b[0m\u001b[0;34m(\u001b[0m\u001b[0msize\u001b[0m\u001b[0;34m)\u001b[0m\u001b[0;34m\u001b[0m\u001b[0m\n\u001b[0m\u001b[1;32m    220\u001b[0m \u001b[0;34m\u001b[0m\u001b[0m\n\u001b[1;32m    221\u001b[0m     \u001b[0;32mdef\u001b[0m \u001b[0mreadlines\u001b[0m\u001b[0;34m(\u001b[0m\u001b[0mself\u001b[0m\u001b[0;34m,\u001b[0m \u001b[0msize\u001b[0m\u001b[0;34m=\u001b[0m\u001b[0;34m-\u001b[0m\u001b[0;36m1\u001b[0m\u001b[0;34m)\u001b[0m\u001b[0;34m:\u001b[0m\u001b[0;34m\u001b[0m\u001b[0m\n",
      "\u001b[0;31mKeyboardInterrupt\u001b[0m: "
     ]
    }
   ],
   "source": [
    "search_file('../page_links_en.ttl.bz2', 'Unsupervised_learning>')"
   ]
  },
  {
   "cell_type": "markdown",
   "metadata": {},
   "source": [
    "## Instance types"
   ]
  },
  {
   "cell_type": "code",
   "execution_count": 36,
   "metadata": {},
   "outputs": [
    {
     "name": "stdout",
     "output_type": "stream",
     "text": [
      "b'# started 2017-03-31T16:36:17Z\\n'\n",
      "b'<http://dbpedia.org/resource/Anarchism> <http://www.w3.org/1999/02/22-rdf-syntax-ns#type> <http://www.w3.org/2002/07/owl#Thing> .\\n'\n",
      "b'<http://dbpedia.org/resource/Achilles> <http://www.w3.org/1999/02/22-rdf-syntax-ns#type> <http://www.w3.org/2002/07/owl#Thing> .\\n'\n",
      "b'<http://dbpedia.org/resource/Autism> <http://www.w3.org/1999/02/22-rdf-syntax-ns#type> <http://dbpedia.org/ontology/Disease> .\\n'\n",
      "b'<http://dbpedia.org/resource/Alabama> <http://www.w3.org/1999/02/22-rdf-syntax-ns#type> <http://dbpedia.org/ontology/AdministrativeRegion> .\\n'\n",
      "b'<http://dbpedia.org/resource/Abraham_Lincoln> <http://www.w3.org/1999/02/22-rdf-syntax-ns#type> <http://dbpedia.org/ontology/OfficeHolder> .\\n'\n",
      "b'<http://dbpedia.org/resource/Abraham_Lincoln__1> <http://www.w3.org/1999/02/22-rdf-syntax-ns#type> <http://dbpedia.org/ontology/TimePeriod> .\\n'\n",
      "b'<http://dbpedia.org/resource/Abraham_Lincoln__2> <http://www.w3.org/1999/02/22-rdf-syntax-ns#type> <http://dbpedia.org/ontology/TimePeriod> .\\n'\n",
      "b'<http://dbpedia.org/resource/Abraham_Lincoln__3> <http://www.w3.org/1999/02/22-rdf-syntax-ns#type> <http://dbpedia.org/ontology/TimePeriod> .\\n'\n",
      "b'<http://dbpedia.org/resource/An_American_in_Paris> <http://www.w3.org/1999/02/22-rdf-syntax-ns#type> <http://www.w3.org/2002/07/owl#Thing> .\\n'\n",
      "b'<http://dbpedia.org/resource/Animalia_(book)> <http://www.w3.org/1999/02/22-rdf-syntax-ns#type> <http://dbpedia.org/ontology/Book> .\\n'\n",
      "b'<http://dbpedia.org/resource/Academy_Awards> <http://www.w3.org/1999/02/22-rdf-syntax-ns#type> <http://dbpedia.org/ontology/Award> .\\n'\n",
      "b'<http://dbpedia.org/resource/Actrius> <http://www.w3.org/1999/02/22-rdf-syntax-ns#type> <http://dbpedia.org/ontology/Film> .\\n'\n",
      "b'<http://dbpedia.org/resource/Altruism> <http://www.w3.org/1999/02/22-rdf-syntax-ns#type> <http://www.w3.org/2002/07/owl#Thing> .\\n'\n",
      "b'<http://dbpedia.org/resource/Allan_Dwan> <http://www.w3.org/1999/02/22-rdf-syntax-ns#type> <http://dbpedia.org/ontology/Person> .\\n'\n",
      "b'<http://dbpedia.org/resource/Allan_Dwan__1> <http://www.w3.org/1999/02/22-rdf-syntax-ns#type> <http://dbpedia.org/ontology/PersonFunction> .\\n'\n",
      "b'<http://dbpedia.org/resource/Alain_Connes> <http://www.w3.org/1999/02/22-rdf-syntax-ns#type> <http://dbpedia.org/ontology/Scientist> .\\n'\n",
      "b'<http://dbpedia.org/resource/Aristotle> <http://www.w3.org/1999/02/22-rdf-syntax-ns#type> <http://dbpedia.org/ontology/Philosopher> .\\n'\n",
      "b'<http://dbpedia.org/resource/Academy_Award_for_Best_Production_Design> <http://www.w3.org/1999/02/22-rdf-syntax-ns#type> <http://dbpedia.org/ontology/Award> .\\n'\n",
      "b'<http://dbpedia.org/resource/Agricultural_science> <http://www.w3.org/1999/02/22-rdf-syntax-ns#type> <http://www.w3.org/2002/07/owl#Thing> .\\n'\n",
      "b'<http://dbpedia.org/resource/Ayn_Rand> <http://www.w3.org/1999/02/22-rdf-syntax-ns#type> <http://dbpedia.org/ontology/Writer> .\\n'\n"
     ]
    }
   ],
   "source": [
    "preview_file('../instance_types_en.ttl.bz2', lines=20)"
   ]
  },
  {
   "cell_type": "code",
   "execution_count": 37,
   "metadata": {},
   "outputs": [
    {
     "name": "stderr",
     "output_type": "stream",
     "text": [
      "\n",
      "\n",
      "\n",
      "0it [00:00, ?it/s]\u001b[A\u001b[A\u001b[A\n",
      "\n",
      "\n",
      "13397it [00:00, 132424.34it/s]\u001b[A\u001b[A\u001b[A\n",
      "\n",
      "\n",
      "27133it [00:00, 134650.35it/s]\u001b[A\u001b[A\u001b[A\n",
      "\n",
      "\n",
      "40738it [00:00, 135127.54it/s]\u001b[A\u001b[A\u001b[A\n",
      "\n",
      "\n",
      "52461it [00:00, 130715.22it/s]\u001b[A\u001b[A\u001b[A\n",
      "\n",
      "\n",
      "64862it [00:00, 129329.75it/s]\u001b[A\u001b[A\u001b[A\n",
      "\n",
      "\n",
      "76132it [00:00, 125814.07it/s]\u001b[A\u001b[A\u001b[A\n",
      "\n",
      "\n",
      "87597it [00:00, 124226.71it/s]\u001b[A\u001b[A\u001b[A\n",
      "\n",
      "\n",
      "100540it [00:00, 124776.29it/s]\u001b[A\u001b[A\u001b[A\n",
      "\n",
      "\n",
      "113756it [00:00, 125484.94it/s]\u001b[A\u001b[A\u001b[A\n",
      "\n",
      "\n",
      "125772it [00:01, 122281.35it/s]\u001b[A\u001b[A\u001b[A"
     ]
    },
    {
     "name": "stdout",
     "output_type": "stream",
     "text": [
      "b'<http://dbpedia.org/resource/Machine_learning> <http://www.w3.org/1999/02/22-rdf-syntax-ns#type> <http://www.w3.org/2002/07/owl#Thing> .\\n'\n"
     ]
    },
    {
     "name": "stderr",
     "output_type": "stream",
     "text": [
      "\n",
      "\n",
      "\n",
      "137112it [00:01, 119136.55it/s]\u001b[A\u001b[A\u001b[A\n",
      "\n",
      "\n",
      "149436it [00:01, 119386.40it/s]\u001b[A\u001b[A\u001b[A\n",
      "\n",
      "\n",
      "160860it [00:01, 119037.29it/s]\u001b[A\u001b[A\u001b[A\n",
      "\n",
      "\n",
      "172396it [00:01, 118720.11it/s]\u001b[A\u001b[A\u001b[A\n",
      "\n",
      "\n",
      "183787it [00:01, 118426.39it/s]\u001b[A\u001b[A\u001b[A\n",
      "\n",
      "\n",
      "195143it [00:01, 116810.25it/s]\u001b[A\u001b[A\u001b[A\n",
      "\n",
      "\n",
      "205952it [00:01, 114583.07it/s]\u001b[A\u001b[A\u001b[A\n",
      "\n",
      "\n",
      "218509it [00:01, 115204.82it/s]\u001b[A\u001b[A\u001b[A\n",
      "\n",
      "\n",
      "230509it [00:01, 115429.08it/s]\u001b[A\u001b[A\u001b[A\n",
      "\n",
      "\n",
      "241710it [00:02, 115251.12it/s]\u001b[A\u001b[A\u001b[A\n",
      "\n",
      "\n",
      "252906it [00:02, 113831.33it/s]\u001b[A\u001b[A\u001b[A\n",
      "\n",
      "\n",
      "263440it [00:02, 112702.81it/s]\u001b[A\u001b[A\u001b[A\n",
      "\n",
      "\n",
      "276204it [00:02, 113307.42it/s]\u001b[A\u001b[A\u001b[A\n",
      "\n",
      "\n",
      "288176it [00:02, 113581.35it/s]\u001b[A\u001b[A\u001b[A\n",
      "\n",
      "\n",
      "300319it [00:02, 113668.80it/s]\u001b[A\u001b[A\u001b[A\n",
      "\n",
      "\n",
      "312753it [00:02, 113864.13it/s]\u001b[A\u001b[A\u001b[A\n",
      "\n",
      "\n",
      "324258it [00:02, 113878.69it/s]\u001b[A\u001b[A\u001b[A\n",
      "\n",
      "\n",
      "335745it [00:02, 113581.23it/s]\u001b[A\u001b[A\u001b[A\n",
      "\n",
      "\n",
      "346958it [00:03, 113291.51it/s]\u001b[A\u001b[A\u001b[A\n",
      "\n",
      "\n",
      "361416it [00:03, 114295.97it/s]\u001b[A\u001b[A\u001b[A\n",
      "\n",
      "\n",
      "374955it [00:03, 114801.00it/s]\u001b[A\u001b[A\u001b[A\n",
      "\n",
      "\n",
      "387769it [00:03, 115209.24it/s]\u001b[A\u001b[A\u001b[A\n",
      "\n",
      "\n",
      "401779it [00:03, 115908.44it/s]\u001b[A\u001b[A\u001b[A\n",
      "\n",
      "\n",
      "414721it [00:03, 116199.78it/s]\u001b[A\u001b[A\u001b[A\n",
      "\n",
      "\n",
      "427807it [00:03, 116572.15it/s]\u001b[A\u001b[A\u001b[A\n",
      "\n",
      "\n",
      "440708it [00:03, 116594.81it/s]\u001b[A\u001b[A\u001b[A\n",
      "\n",
      "\n",
      "454796it [00:03, 117222.47it/s]\u001b[A\u001b[A\u001b[A\n",
      "\n",
      "\n",
      "468016it [00:03, 117578.80it/s]\u001b[A\u001b[A\u001b[A\n",
      "\n",
      "\n",
      "481075it [00:04, 117458.32it/s]\u001b[A\u001b[A\u001b[A\n",
      "\n",
      "\n",
      "493633it [00:04, 117308.94it/s]\u001b[A\u001b[A\u001b[A\n",
      "\n",
      "\n",
      "505754it [00:04, 116398.45it/s]\u001b[A\u001b[A\u001b[A\n",
      "\n",
      "\n",
      "516940it [00:04, 115487.22it/s]\u001b[A\u001b[A\u001b[A\n",
      "\n",
      "\n",
      "527301it [00:04, 115159.36it/s]\u001b[A\u001b[A\u001b[A\n",
      "\n",
      "\n",
      "538423it [00:04, 115064.34it/s]\u001b[A\u001b[A\u001b[A\n",
      "\n",
      "\n",
      "551185it [00:04, 115322.66it/s]\u001b[A\u001b[A\u001b[A\n",
      "\n",
      "\n",
      "562431it [00:04, 115252.13it/s]\u001b[A\u001b[A\u001b[A\n",
      "\n",
      "\n",
      "574188it [00:04, 115289.09it/s]\u001b[A\u001b[A\u001b[A\n",
      "\n",
      "\n",
      "585536it [00:05, 115016.49it/s]\u001b[A\u001b[A\u001b[A\n",
      "\n",
      "\n",
      "596541it [00:05, 114478.29it/s]\u001b[A\u001b[A\u001b[A\n",
      "\n",
      "\n",
      "607042it [00:05, 114120.65it/s]\u001b[A\u001b[A\u001b[A\n",
      "\n",
      "\n",
      "618105it [00:05, 113869.99it/s]\u001b[A\u001b[A\u001b[A\n",
      "\n",
      "\n",
      "628328it [00:05, 113442.83it/s]\u001b[A\u001b[A\u001b[A\n",
      "\n",
      "\n",
      "638248it [00:05, 112951.61it/s]\u001b[A\u001b[A\u001b[A\n",
      "\n",
      "\n",
      "647841it [00:05, 112575.12it/s]\u001b[A\u001b[A\u001b[A\n",
      "\n",
      "\n",
      "658450it [00:05, 112460.93it/s]\u001b[A\u001b[A\u001b[A\n",
      "\n",
      "\n",
      "669839it [00:05, 112474.67it/s]\u001b[A\u001b[A\u001b[A\n",
      "\n",
      "\n",
      "680688it [00:06, 112417.09it/s]\u001b[A\u001b[A\u001b[A\n",
      "\n",
      "\n",
      "693212it [00:06, 112612.59it/s]\u001b[A\u001b[A\u001b[A\n",
      "\n",
      "\n",
      "704261it [00:06, 112524.40it/s]\u001b[A\u001b[A\u001b[A\n",
      "\n",
      "\n",
      "715207it [00:06, 111995.61it/s]\u001b[A\u001b[A\u001b[A\n",
      "\n",
      "\n",
      "725482it [00:06, 111504.66it/s]\u001b[A\u001b[A\u001b[A\n",
      "\n",
      "\n",
      "735204it [00:06, 111266.73it/s]\u001b[A\u001b[A\u001b[A\n",
      "\n",
      "\n",
      "744898it [00:06, 110821.44it/s]\u001b[A\u001b[A\u001b[A\n",
      "\n",
      "\n",
      "755322it [00:06, 110736.33it/s]\u001b[A\u001b[A\u001b[A\n",
      "\n",
      "\n",
      "767079it [00:06, 110834.73it/s]\u001b[A\u001b[A\u001b[A\n",
      "\n",
      "\n",
      "777893it [00:07, 110790.16it/s]\u001b[A\u001b[A\u001b[A\n",
      "\n",
      "\n",
      "788344it [00:07, 110528.83it/s]\u001b[A\u001b[A\u001b[A\n",
      "\n",
      "\n",
      "798509it [00:07, 110214.98it/s]\u001b[A\u001b[A\u001b[A\n",
      "\n",
      "\n",
      "808323it [00:07, 109864.14it/s]\u001b[A\u001b[A\u001b[A\n",
      "\n",
      "\n",
      "817813it [00:07, 109414.41it/s]\u001b[A\u001b[A\u001b[A\n",
      "\n",
      "\n",
      "827190it [00:07, 109189.30it/s]\u001b[A\u001b[A\u001b[A\n",
      "\n",
      "\n",
      "836504it [00:07, 108966.38it/s]\u001b[A\u001b[A\u001b[A\n",
      "\n",
      "\n",
      "845685it [00:07, 108450.91it/s]\u001b[A\u001b[A\u001b[A\n",
      "\n",
      "\n",
      "854592it [00:07, 108204.66it/s]\u001b[A\u001b[A\u001b[A\n",
      "\n",
      "\n",
      "866169it [00:07, 108294.30it/s]\u001b[A\u001b[A\u001b[A\n",
      "\n",
      "\n",
      "878284it [00:08, 108447.18it/s]\u001b[A\u001b[A\u001b[A\n",
      "\n",
      "\n",
      "889693it [00:08, 108522.26it/s]\u001b[A\u001b[A\u001b[A\n",
      "\n",
      "\n",
      "903203it [00:08, 108834.72it/s]\u001b[A\u001b[A\u001b[A\n",
      "\n",
      "\n",
      "915183it [00:08, 108970.07it/s]\u001b[A\u001b[A\u001b[A\n",
      "\n",
      "\n",
      "928295it [00:08, 109234.05it/s]\u001b[A\u001b[A\u001b[A\n",
      "\n",
      "\n",
      "942191it [00:08, 109573.81it/s]\u001b[A\u001b[A\u001b[A\n",
      "\n",
      "\n",
      "956520it [00:08, 109960.86it/s]\u001b[A\u001b[A\u001b[A\n",
      "\n",
      "\n",
      "969653it [00:08, 109955.03it/s]\u001b[A\u001b[A\u001b[A\n",
      "\n",
      "\n",
      "982131it [00:08, 109990.00it/s]\u001b[A\u001b[A\u001b[A\n",
      "\n",
      "\n",
      "995831it [00:09, 110293.97it/s]\u001b[A\u001b[A\u001b[A\n",
      "\n",
      "\n",
      "1008568it [00:09, 110474.62it/s]\u001b[A\u001b[A\u001b[A\n",
      "\n",
      "\n",
      "1021201it [00:09, 110282.36it/s]\u001b[A\u001b[A\u001b[A\n",
      "\n",
      "\n",
      "1032974it [00:09, 110129.00it/s]\u001b[A\u001b[A\u001b[A\n",
      "\n",
      "\n",
      "1044127it [00:09, 110125.68it/s]\u001b[A\u001b[A\u001b[A\n",
      "\n",
      "\n",
      "1056807it [00:09, 110299.03it/s]\u001b[A\u001b[A\u001b[A\n",
      "\n",
      "\n",
      "1069649it [00:09, 110486.14it/s]\u001b[A\u001b[A\u001b[A\n",
      "\n",
      "\n",
      "1081611it [00:09, 110549.89it/s]\u001b[A\u001b[A\u001b[A\n",
      "\n",
      "\n",
      "1093460it [00:09, 110395.44it/s]\u001b[A\u001b[A\u001b[A\n",
      "\n",
      "\n",
      "1104708it [00:10, 110319.81it/s]\u001b[A\u001b[A\u001b[A\n",
      "\n",
      "\n",
      "1117432it [00:10, 110490.52it/s]\u001b[A\u001b[A\u001b[A\n",
      "\n",
      "\n",
      "1130553it [00:10, 110688.29it/s]\u001b[A\u001b[A\u001b[A\n",
      "\n",
      "\n",
      "1142537it [00:10, 110555.23it/s]\u001b[A\u001b[A\u001b[A\n",
      "\n",
      "\n",
      "1153895it [00:10, 110372.99it/s]\u001b[A\u001b[A\u001b[A\n",
      "\n",
      "\n",
      "1165234it [00:10, 110402.07it/s]\u001b[A\u001b[A\u001b[A\n",
      "\n",
      "\n",
      "1176335it [00:10, 110405.62it/s]\u001b[A\u001b[A\u001b[A\n",
      "\n",
      "\n",
      "1187334it [00:10, 110149.45it/s]\u001b[A\u001b[A\u001b[A\n",
      "\n",
      "\n",
      "1197687it [00:10, 110030.51it/s]\u001b[A\u001b[A\u001b[A\n",
      "\n",
      "\n",
      "1207892it [00:11, 109803.03it/s]\u001b[A\u001b[A\u001b[A\n",
      "\n",
      "\n",
      "1217661it [00:11, 109604.98it/s]\u001b[A\u001b[A\u001b[A\n",
      "\n",
      "\n",
      "1227585it [00:11, 109512.58it/s]\u001b[A\u001b[A\u001b[A\n",
      "\n",
      "\n",
      "1238028it [00:11, 109435.14it/s]\u001b[A\u001b[A\u001b[A\n",
      "\n",
      "\n",
      "1247910it [00:11, 109314.65it/s]\u001b[A\u001b[A\u001b[A\n",
      "\n",
      "\n",
      "1258270it [00:11, 109271.83it/s]\u001b[A\u001b[A\u001b[A\n",
      "\n",
      "\n",
      "1268227it [00:11, 109086.46it/s]\u001b[A\u001b[A\u001b[A\n",
      "\n",
      "\n",
      "1277887it [00:11, 108908.25it/s]\u001b[A\u001b[A\u001b[A\n",
      "\n",
      "\n",
      "1287304it [00:11, 108757.30it/s]\u001b[A\u001b[A\u001b[A\n",
      "\n",
      "\n",
      "1296830it [00:11, 108645.10it/s]\u001b[A\u001b[A\u001b[A\n",
      "\n",
      "\n",
      "1308845it [00:12, 108702.47it/s]\u001b[A\u001b[A\u001b[A\n",
      "\n",
      "\n",
      "1321311it [00:12, 108799.25it/s]\u001b[A\u001b[A\u001b[A\n",
      "\n",
      "\n",
      "1333747it [00:12, 108916.07it/s]\u001b[A\u001b[A\u001b[A\n",
      "\n",
      "\n",
      "1346259it [00:12, 109041.91it/s]\u001b[A\u001b[A\u001b[A\n",
      "\n",
      "\n",
      "1358200it [00:12, 109115.02it/s]\u001b[A\u001b[A\u001b[A\n",
      "\n",
      "\n",
      "1369854it [00:12, 109090.50it/s]\u001b[A\u001b[A\u001b[A\n",
      "\n",
      "\n",
      "1381182it [00:12, 109127.15it/s]\u001b[A\u001b[A\u001b[A\n",
      "\n",
      "\n",
      "1392944it [00:12, 109190.28it/s]\u001b[A\u001b[A\u001b[A\n",
      "\n",
      "\n",
      "1404391it [00:12, 109209.10it/s]\u001b[A\u001b[A\u001b[A\n",
      "\n",
      "\n",
      "1416157it [00:12, 109275.84it/s]\u001b[A\u001b[A\u001b[A\n",
      "\n",
      "\n",
      "1427645it [00:13, 109250.69it/s]\u001b[A\u001b[A\u001b[A\n",
      "\n",
      "\n",
      "1438863it [00:13, 109265.21it/s]\u001b[A\u001b[A\u001b[A\n",
      "\n",
      "\n",
      "1450056it [00:13, 109253.45it/s]\u001b[A\u001b[A\u001b[A\n",
      "\n",
      "\n",
      "1461116it [00:13, 109205.65it/s]\u001b[A\u001b[A\u001b[A\n",
      "\n",
      "\n",
      "1471978it [00:13, 109197.31it/s]\u001b[A\u001b[A\u001b[A\n",
      "\n",
      "\n",
      "1484037it [00:13, 109279.83it/s]\u001b[A\u001b[A\u001b[A\n",
      "\n",
      "\n",
      "1497333it [00:13, 109452.90it/s]\u001b[A\u001b[A\u001b[A\n",
      "\n",
      "\n",
      "1509158it [00:13, 109485.51it/s]"
     ]
    },
    {
     "ename": "KeyboardInterrupt",
     "evalue": "",
     "output_type": "error",
     "traceback": [
      "\u001b[0;31m---------------------------------------------------------------------------\u001b[0m",
      "\u001b[0;31mKeyboardInterrupt\u001b[0m                         Traceback (most recent call last)",
      "\u001b[0;32m<ipython-input-37-eda474e984c1>\u001b[0m in \u001b[0;36m<module>\u001b[0;34m()\u001b[0m\n\u001b[0;32m----> 1\u001b[0;31m \u001b[0msearch_file\u001b[0m\u001b[0;34m(\u001b[0m\u001b[0;34m'../instance_types_en.ttl.bz2'\u001b[0m\u001b[0;34m,\u001b[0m \u001b[0;34m'Machine_learning'\u001b[0m\u001b[0;34m)\u001b[0m\u001b[0;34m\u001b[0m\u001b[0m\n\u001b[0m",
      "\u001b[0;32m<ipython-input-14-37786053eb1a>\u001b[0m in \u001b[0;36msearch_file\u001b[0;34m(filename, search_text)\u001b[0m\n\u001b[1;32m      1\u001b[0m \u001b[0;32mdef\u001b[0m \u001b[0msearch_file\u001b[0m\u001b[0;34m(\u001b[0m\u001b[0mfilename\u001b[0m\u001b[0;34m,\u001b[0m \u001b[0msearch_text\u001b[0m\u001b[0;34m)\u001b[0m\u001b[0;34m:\u001b[0m\u001b[0;34m\u001b[0m\u001b[0m\n\u001b[1;32m      2\u001b[0m     \u001b[0;32mwith\u001b[0m \u001b[0mbzopen\u001b[0m\u001b[0;34m(\u001b[0m\u001b[0mfilename\u001b[0m\u001b[0;34m,\u001b[0m \u001b[0;34m'r'\u001b[0m\u001b[0;34m)\u001b[0m \u001b[0;32mas\u001b[0m \u001b[0mfile\u001b[0m\u001b[0;34m:\u001b[0m\u001b[0;34m\u001b[0m\u001b[0m\n\u001b[0;32m----> 3\u001b[0;31m         \u001b[0;32mfor\u001b[0m \u001b[0mline\u001b[0m \u001b[0;32min\u001b[0m \u001b[0mtqdm\u001b[0m\u001b[0;34m(\u001b[0m\u001b[0mfile\u001b[0m\u001b[0;34m)\u001b[0m\u001b[0;34m:\u001b[0m\u001b[0;34m\u001b[0m\u001b[0m\n\u001b[0m\u001b[1;32m      4\u001b[0m             \u001b[0;32mif\u001b[0m \u001b[0msearch_text\u001b[0m \u001b[0;32min\u001b[0m \u001b[0mstr\u001b[0m\u001b[0;34m(\u001b[0m\u001b[0mline\u001b[0m\u001b[0;34m)\u001b[0m\u001b[0;34m:\u001b[0m\u001b[0;34m\u001b[0m\u001b[0m\n\u001b[1;32m      5\u001b[0m                 \u001b[0mprint\u001b[0m\u001b[0;34m(\u001b[0m\u001b[0mline\u001b[0m\u001b[0;34m)\u001b[0m\u001b[0;34m\u001b[0m\u001b[0m\n",
      "\u001b[0;32m~/anaconda/envs/edison/lib/python3.6/site-packages/tqdm/_tqdm.py\u001b[0m in \u001b[0;36m__iter__\u001b[0;34m(self)\u001b[0m\n\u001b[1;32m    975\u001b[0m                                 \u001b[0mself\u001b[0m\u001b[0;34m.\u001b[0m\u001b[0mmoveto\u001b[0m\u001b[0;34m(\u001b[0m\u001b[0mself\u001b[0m\u001b[0;34m.\u001b[0m\u001b[0mpos\u001b[0m\u001b[0;34m)\u001b[0m\u001b[0;34m\u001b[0m\u001b[0m\n\u001b[1;32m    976\u001b[0m                             \u001b[0;31m# Print bar update\u001b[0m\u001b[0;34m\u001b[0m\u001b[0;34m\u001b[0m\u001b[0m\n\u001b[0;32m--> 977\u001b[0;31m                             \u001b[0msp\u001b[0m\u001b[0;34m(\u001b[0m\u001b[0mself\u001b[0m\u001b[0;34m.\u001b[0m\u001b[0m__repr__\u001b[0m\u001b[0;34m(\u001b[0m\u001b[0;34m)\u001b[0m\u001b[0;34m)\u001b[0m\u001b[0;34m\u001b[0m\u001b[0m\n\u001b[0m\u001b[1;32m    978\u001b[0m                             \u001b[0;32mif\u001b[0m \u001b[0mself\u001b[0m\u001b[0;34m.\u001b[0m\u001b[0mpos\u001b[0m\u001b[0;34m:\u001b[0m\u001b[0;34m\u001b[0m\u001b[0m\n\u001b[1;32m    979\u001b[0m                                 \u001b[0mself\u001b[0m\u001b[0;34m.\u001b[0m\u001b[0mmoveto\u001b[0m\u001b[0;34m(\u001b[0m\u001b[0;34m-\u001b[0m\u001b[0mself\u001b[0m\u001b[0;34m.\u001b[0m\u001b[0mpos\u001b[0m\u001b[0;34m)\u001b[0m\u001b[0;34m\u001b[0m\u001b[0m\n",
      "\u001b[0;32m~/anaconda/envs/edison/lib/python3.6/site-packages/tqdm/_tqdm.py\u001b[0m in \u001b[0;36mprint_status\u001b[0;34m(s)\u001b[0m\n\u001b[1;32m    239\u001b[0m         \u001b[0;32mdef\u001b[0m \u001b[0mprint_status\u001b[0m\u001b[0;34m(\u001b[0m\u001b[0ms\u001b[0m\u001b[0;34m)\u001b[0m\u001b[0;34m:\u001b[0m\u001b[0;34m\u001b[0m\u001b[0m\n\u001b[1;32m    240\u001b[0m             \u001b[0mlen_s\u001b[0m \u001b[0;34m=\u001b[0m \u001b[0mlen\u001b[0m\u001b[0;34m(\u001b[0m\u001b[0ms\u001b[0m\u001b[0;34m)\u001b[0m\u001b[0;34m\u001b[0m\u001b[0m\n\u001b[0;32m--> 241\u001b[0;31m             \u001b[0mfp_write\u001b[0m\u001b[0;34m(\u001b[0m\u001b[0;34m'\\r'\u001b[0m \u001b[0;34m+\u001b[0m \u001b[0ms\u001b[0m \u001b[0;34m+\u001b[0m \u001b[0;34m(\u001b[0m\u001b[0;34m' '\u001b[0m \u001b[0;34m*\u001b[0m \u001b[0mmax\u001b[0m\u001b[0;34m(\u001b[0m\u001b[0mlast_len\u001b[0m\u001b[0;34m[\u001b[0m\u001b[0;36m0\u001b[0m\u001b[0;34m]\u001b[0m \u001b[0;34m-\u001b[0m \u001b[0mlen_s\u001b[0m\u001b[0;34m,\u001b[0m \u001b[0;36m0\u001b[0m\u001b[0;34m)\u001b[0m\u001b[0;34m)\u001b[0m\u001b[0;34m)\u001b[0m\u001b[0;34m\u001b[0m\u001b[0m\n\u001b[0m\u001b[1;32m    242\u001b[0m             \u001b[0mlast_len\u001b[0m\u001b[0;34m[\u001b[0m\u001b[0;36m0\u001b[0m\u001b[0;34m]\u001b[0m \u001b[0;34m=\u001b[0m \u001b[0mlen_s\u001b[0m\u001b[0;34m\u001b[0m\u001b[0m\n\u001b[1;32m    243\u001b[0m \u001b[0;34m\u001b[0m\u001b[0m\n",
      "\u001b[0;32m~/anaconda/envs/edison/lib/python3.6/site-packages/tqdm/_tqdm.py\u001b[0m in \u001b[0;36mfp_write\u001b[0;34m(s)\u001b[0m\n\u001b[1;32m    233\u001b[0m         \u001b[0;32mdef\u001b[0m \u001b[0mfp_write\u001b[0m\u001b[0;34m(\u001b[0m\u001b[0ms\u001b[0m\u001b[0;34m)\u001b[0m\u001b[0;34m:\u001b[0m\u001b[0;34m\u001b[0m\u001b[0m\n\u001b[1;32m    234\u001b[0m             \u001b[0mfp\u001b[0m\u001b[0;34m.\u001b[0m\u001b[0mwrite\u001b[0m\u001b[0;34m(\u001b[0m\u001b[0m_unicode\u001b[0m\u001b[0;34m(\u001b[0m\u001b[0ms\u001b[0m\u001b[0;34m)\u001b[0m\u001b[0;34m)\u001b[0m\u001b[0;34m\u001b[0m\u001b[0m\n\u001b[0;32m--> 235\u001b[0;31m             \u001b[0mfp_flush\u001b[0m\u001b[0;34m(\u001b[0m\u001b[0;34m)\u001b[0m\u001b[0;34m\u001b[0m\u001b[0m\n\u001b[0m\u001b[1;32m    236\u001b[0m \u001b[0;34m\u001b[0m\u001b[0m\n\u001b[1;32m    237\u001b[0m         \u001b[0mlast_len\u001b[0m \u001b[0;34m=\u001b[0m \u001b[0;34m[\u001b[0m\u001b[0;36m0\u001b[0m\u001b[0;34m]\u001b[0m\u001b[0;34m\u001b[0m\u001b[0m\n",
      "\u001b[0;32m~/anaconda/envs/edison/lib/python3.6/site-packages/ipykernel/iostream.py\u001b[0m in \u001b[0;36mflush\u001b[0;34m(self)\u001b[0m\n\u001b[1;32m    319\u001b[0m             \u001b[0mevt\u001b[0m \u001b[0;34m=\u001b[0m \u001b[0mthreading\u001b[0m\u001b[0;34m.\u001b[0m\u001b[0mEvent\u001b[0m\u001b[0;34m(\u001b[0m\u001b[0;34m)\u001b[0m\u001b[0;34m\u001b[0m\u001b[0m\n\u001b[1;32m    320\u001b[0m             \u001b[0mself\u001b[0m\u001b[0;34m.\u001b[0m\u001b[0mpub_thread\u001b[0m\u001b[0;34m.\u001b[0m\u001b[0mschedule\u001b[0m\u001b[0;34m(\u001b[0m\u001b[0mevt\u001b[0m\u001b[0;34m.\u001b[0m\u001b[0mset\u001b[0m\u001b[0;34m)\u001b[0m\u001b[0;34m\u001b[0m\u001b[0m\n\u001b[0;32m--> 321\u001b[0;31m             \u001b[0mevt\u001b[0m\u001b[0;34m.\u001b[0m\u001b[0mwait\u001b[0m\u001b[0;34m(\u001b[0m\u001b[0;34m)\u001b[0m\u001b[0;34m\u001b[0m\u001b[0m\n\u001b[0m\u001b[1;32m    322\u001b[0m         \u001b[0;32melse\u001b[0m\u001b[0;34m:\u001b[0m\u001b[0;34m\u001b[0m\u001b[0m\n\u001b[1;32m    323\u001b[0m             \u001b[0mself\u001b[0m\u001b[0;34m.\u001b[0m\u001b[0m_flush\u001b[0m\u001b[0;34m(\u001b[0m\u001b[0;34m)\u001b[0m\u001b[0;34m\u001b[0m\u001b[0m\n",
      "\u001b[0;32m~/anaconda/envs/edison/lib/python3.6/threading.py\u001b[0m in \u001b[0;36mwait\u001b[0;34m(self, timeout)\u001b[0m\n\u001b[1;32m    549\u001b[0m             \u001b[0msignaled\u001b[0m \u001b[0;34m=\u001b[0m \u001b[0mself\u001b[0m\u001b[0;34m.\u001b[0m\u001b[0m_flag\u001b[0m\u001b[0;34m\u001b[0m\u001b[0m\n\u001b[1;32m    550\u001b[0m             \u001b[0;32mif\u001b[0m \u001b[0;32mnot\u001b[0m \u001b[0msignaled\u001b[0m\u001b[0;34m:\u001b[0m\u001b[0;34m\u001b[0m\u001b[0m\n\u001b[0;32m--> 551\u001b[0;31m                 \u001b[0msignaled\u001b[0m \u001b[0;34m=\u001b[0m \u001b[0mself\u001b[0m\u001b[0;34m.\u001b[0m\u001b[0m_cond\u001b[0m\u001b[0;34m.\u001b[0m\u001b[0mwait\u001b[0m\u001b[0;34m(\u001b[0m\u001b[0mtimeout\u001b[0m\u001b[0;34m)\u001b[0m\u001b[0;34m\u001b[0m\u001b[0m\n\u001b[0m\u001b[1;32m    552\u001b[0m             \u001b[0;32mreturn\u001b[0m \u001b[0msignaled\u001b[0m\u001b[0;34m\u001b[0m\u001b[0m\n\u001b[1;32m    553\u001b[0m \u001b[0;34m\u001b[0m\u001b[0m\n",
      "\u001b[0;32m~/anaconda/envs/edison/lib/python3.6/threading.py\u001b[0m in \u001b[0;36mwait\u001b[0;34m(self, timeout)\u001b[0m\n\u001b[1;32m    293\u001b[0m         \u001b[0;32mtry\u001b[0m\u001b[0;34m:\u001b[0m    \u001b[0;31m# restore state no matter what (e.g., KeyboardInterrupt)\u001b[0m\u001b[0;34m\u001b[0m\u001b[0m\n\u001b[1;32m    294\u001b[0m             \u001b[0;32mif\u001b[0m \u001b[0mtimeout\u001b[0m \u001b[0;32mis\u001b[0m \u001b[0;32mNone\u001b[0m\u001b[0;34m:\u001b[0m\u001b[0;34m\u001b[0m\u001b[0m\n\u001b[0;32m--> 295\u001b[0;31m                 \u001b[0mwaiter\u001b[0m\u001b[0;34m.\u001b[0m\u001b[0macquire\u001b[0m\u001b[0;34m(\u001b[0m\u001b[0;34m)\u001b[0m\u001b[0;34m\u001b[0m\u001b[0m\n\u001b[0m\u001b[1;32m    296\u001b[0m                 \u001b[0mgotit\u001b[0m \u001b[0;34m=\u001b[0m \u001b[0;32mTrue\u001b[0m\u001b[0;34m\u001b[0m\u001b[0m\n\u001b[1;32m    297\u001b[0m             \u001b[0;32melse\u001b[0m\u001b[0;34m:\u001b[0m\u001b[0;34m\u001b[0m\u001b[0m\n",
      "\u001b[0;31mKeyboardInterrupt\u001b[0m: "
     ]
    },
    {
     "name": "stderr",
     "output_type": "stream",
     "text": [
      "\n",
      "\n",
      "\n",
      "1509158it [00:24, 62384.45it/s] \u001b[A\u001b[A\u001b[A"
     ]
    }
   ],
   "source": [
    "search_file('../instance_types_en.ttl.bz2', 'Machine_learning')"
   ]
  },
  {
   "cell_type": "markdown",
   "metadata": {},
   "source": [
    "## Ideas for ml\n",
    "\n",
    "### Get tools being used in ML\n",
    "\n",
    "mappingbased_objects, find all genre of Category:Machine_learning. These are normally things like Scikit-learn. We will have to find more info on the \"content.\""
   ]
  },
  {
   "cell_type": "markdown",
   "metadata": {},
   "source": [
    "### Get concepts with ML\n",
    "\n",
    "Using article_categories_en, we can get algorithms belonging to ML"
   ]
  },
  {
   "cell_type": "markdown",
   "metadata": {},
   "source": [
    "### Find higher related concepts\n",
    "\n",
    "Use redirects to find out what redirects to ML"
   ]
  },
  {
   "cell_type": "markdown",
   "metadata": {},
   "source": [
    "### Page links\n",
    "\n",
    "Use page links within categories to find out more about a particular concepts."
   ]
  },
  {
   "cell_type": "code",
   "execution_count": null,
   "metadata": {},
   "outputs": [],
   "source": []
  }
 ],
 "metadata": {
  "kernelspec": {
   "display_name": "Python 3",
   "language": "python",
   "name": "python3"
  },
  "language_info": {
   "codemirror_mode": {
    "name": "ipython",
    "version": 3
   },
   "file_extension": ".py",
   "mimetype": "text/x-python",
   "name": "python",
   "nbconvert_exporter": "python",
   "pygments_lexer": "ipython3",
   "version": "3.6.4"
  },
  "toc": {
   "nav_menu": {},
   "number_sections": true,
   "sideBar": true,
   "skip_h1_title": true,
   "toc_cell": true,
   "toc_position": {},
   "toc_section_display": "block",
   "toc_window_display": false
  }
 },
 "nbformat": 4,
 "nbformat_minor": 2
}
